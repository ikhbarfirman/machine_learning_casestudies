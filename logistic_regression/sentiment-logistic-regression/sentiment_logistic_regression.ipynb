{
 "cells": [
  {
   "cell_type": "markdown",
   "metadata": {},
   "source": [
    "Data **`sentiment`** 3000 kalimat (sentences) reviews dari `imdb.com`, `amazon.com`, and `yelp.com`. Dimana tiap kalimat diberi label berdasarkan reviews tersebut tergolong positive review atau negative review.\n",
    "\n",
    "Kita akan menggunakan <font color=\"magenta\">logistic regression</font> untuk menerapkan classifier dari data tersebut.\n",
    "\n",
    "Data source: `full_set.txt` https://archive.ics.uci.edu/ml/datasets/Sentiment+Labelled\n",
    "Sources: edx.org UCSanDiegoX DSE220x Machine Learning Fundamentals asset week 4."
   ]
  },
  {
   "cell_type": "markdown",
   "metadata": {},
   "source": [
    "## 1. Set up notebook, load and preprocess data"
   ]
  },
  {
   "cell_type": "markdown",
   "metadata": {},
   "source": [
    "Import library yang diperlukan."
   ]
  },
  {
   "cell_type": "code",
   "execution_count": 134,
   "metadata": {},
   "outputs": [],
   "source": [
    "%matplotlib inline\n",
    "import string\n",
    "import numpy as np\n",
    "import matplotlib\n",
    "import matplotlib.pyplot as plt\n",
    "matplotlib.rc('xtick', labelsize=14) \n",
    "matplotlib.rc('ytick', labelsize=14)"
   ]
  },
  {
   "cell_type": "markdown",
   "metadata": {},
   "source": [
    "Load data `full_set.txt` pada folder `sentiment_labelled_sentences`.\n",
    "\n",
    " Data set terdapat 3000 kalimat yang diberi label '1' (positive review) atau '0' (negative review). Disini kita akan mengganti label '0' untuk negative review menjadi '-1'."
   ]
  },
  {
   "cell_type": "code",
   "execution_count": 135,
   "metadata": {},
   "outputs": [],
   "source": [
    "with open(\"sentiment_labelled_sentences/full_set.txt\") as f:\n",
    "    content = f.readlines()\n",
    "\n",
    "content = [x.strip() for x in content] #Menghilangkan new space('\\n') pada tiap kalimat\n",
    "# Split kalimat dan labels\n",
    "sentences = [x.split('\\t')[0] for x in content]\n",
    "labels = [x.split('\\t')[1] for x in content]\n",
    "\n",
    "# Membentuk array dari labels dengan element 1 dan -1\n",
    "y = np.array(labels, dtype='int64')\n",
    "y = 2*y-1"
   ]
  },
  {
   "cell_type": "markdown",
   "metadata": {},
   "source": [
    "### Preprocessing the text data\n",
    "\n",
    "Untuk dapat menerapkan linear classification pada permasalahan ini, pertama kita akan melakukan preprocess text data. Kita akan menerapkan empat transformation antara lain:\n",
    "\n",
    "1. Remove punctuation and numbers.\n",
    "2. Transform all words to lower-case.\n",
    "3. Remove _stop words_.\n",
    "4. Convert the sentences into vectors, using a bag-of-words representation.\n",
    "\n",
    "Dua langkah pertama dapat diterapkan sebagai berikut."
   ]
  },
  {
   "cell_type": "code",
   "execution_count": 136,
   "metadata": {},
   "outputs": [],
   "source": [
    "## full_remove mengambil sebuah string x and sebuah list characters removal_list \n",
    "## returns x dengan semua karakter di removal_list yang diganti dengan ' '\n",
    "def full_remove(x, removal_list):\n",
    "    for w in removal_list:\n",
    "        x.replace(w, ' ')\n",
    "    return x\n",
    "# Remove digits dari sentences\n",
    "digits = [str(x) for x in range(10)]\n",
    "digit_less = [full_remove(x,digits) for x in sentences]\n",
    "\n",
    "# Remove punctuations dari kalimat-kalimat di list digit_less\n",
    "punc_less = [full_remove(x, list(string.punctuation)) for x in digit_less]\n",
    "\n",
    "# Membuat semua kalimat di list punc_less menjadi huruf kecil \n",
    "sent_lower = [x.lower() for x in punc_less]"
   ]
  },
  {
   "cell_type": "markdown",
   "metadata": {},
   "source": [
    "### Stop words\n",
    "\n",
    "Stop words adalah kumpulan kata-kata yang akan kita hilangkan dari data, dikarenakan kata-kata tersebut dianggap tidak memberikan informasi dalam membedakan kalimat yang berupa positive dan negative review. Contohnya 'a', 'the', 'i', 'they', 'to' dan 'from'. Silahkan menggunakan kata-kata sebagai stop words yang berbeda."
   ]
  },
  {
   "cell_type": "code",
   "execution_count": 137,
   "metadata": {},
   "outputs": [],
   "source": [
    "## Definisikan kata-kata yang termasuk stop words\n",
    "stop_set = set(['the', 'a', 'an', 'i', 'he', 'she', 'they', 'to', 'of', 'it', 'from'])\n",
    "\n",
    "sents_split = [x.split() for x in sent_lower]\n",
    "sents_processed = [\" \".join(list(filter(lambda a: a not in stop_set, x))) for x in sents_split]\n",
    "\n",
    "# list sents_processed juga bisa dilakukan dengan for looping berikut\n",
    "#sents_processed2 = []\n",
    "#for i in sent_split:\n",
    "    #cc.append(' '.join([x for x in i if x not in stop_set]))\n",
    "#sents_processed2"
   ]
  },
  {
   "cell_type": "markdown",
   "metadata": {},
   "source": [
    "### Bag of words\n",
    "\n",
    "Untuk dapat menerapkan linear classifiers pada data set yang kita miliki, kita perlu mentransform data text menjadi suatu data numerik. Cara yang biasa digunakan adalah sebagai _bag of words_ representation. \n",
    "\n",
    "Dalam representasi ini, tiap kata berkorespondensi pada bilangan di `{1, 2, ..., V}` dimana `V` adalah jumlah banyaknya kata-kata berbeda dalam data set. Dan tiap kalimat pada data set direpresentasikan sebagai suatu V-dimensional vector $x$, dimana $x_i$ frekuensi kemunculan kata $i$ dalam kalimat.\n",
    "\n",
    "Untuk dapat melakukan transformation ini, kita akan gunakan `CountVectorizer` class pada `scikit-learn`. Kita akan jadikan jumlah fitur sebanyak 4500, yang artinya kita akan mencari 4500 frekuensi kata terbesar pada data set.\n",
    "\n",
    "#Finally, we will also append a '1' to the end of each vector to allow our linear classifier to learn a bias term."
   ]
  },
  {
   "cell_type": "code",
   "execution_count": 138,
   "metadata": {},
   "outputs": [],
   "source": [
    "from sklearn.feature_extraction.text import CountVectorizer\n",
    "\n",
    "## Transform to bag of words representation.\n",
    "vectorizer = CountVectorizer(analyzer = \"word\", tokenizer = None, preprocessor = None, stop_words = None, max_features = 4500)\n",
    "data_features = vectorizer.fit_transform(sents_processed)\n",
    "\n",
    "## Append '1' to the end of each vector.\n",
    "data_mat = data_features.toarray()\n",
    "\n",
    "p_mat = data_features.toarray() #Membuat data_mat menjadi array\n",
    "data_mat = np.ones((p_mat.shape[0], p_mat.shape[1]+1)) #Membuat matrix dengan 1 kolom tambahan untuk 'y'\n",
    "data_mat[:,:-1] = p_mat"
   ]
  },
  {
   "cell_type": "code",
   "execution_count": 139,
   "metadata": {},
   "outputs": [
    {
     "name": "stdout",
     "output_type": "stream",
     "text": [
      "train data:  (2500, 4500)\n",
      "test data:  (500, 4500)\n"
     ]
    }
   ],
   "source": [
    "## Split the data into testing and training sets\n",
    "np.random.seed(0)\n",
    "test_inds = np.append(np.random.choice((np.where(y==-1))[0], 250, replace=False), np.random.choice((np.where(y==1))[0], 250, replace=False))\n",
    "train_inds = list(set(range(len(labels))) - set(test_inds))\n",
    "\n",
    "train_data = data_mat[train_inds,:-1]\n",
    "train_labels = y[train_inds]\n",
    "\n",
    "test_data = data_mat[test_inds,:-1]\n",
    "test_labels = y[test_inds]\n",
    "\n",
    "print(\"train data: \", train_data.shape)\n",
    "print(\"test data: \", test_data.shape)"
   ]
  },
  {
   "cell_type": "markdown",
   "metadata": {},
   "source": [
    "## 2. Fitting a logistic regression model to the training data\n",
    "\n",
    "Kita dapat mencari koefisien $(w_1,w_2,...w_{4500})$ dan intercept $b$ linear function pada logistic regression dengan menggunakan konsep *stochastic gradient descent*, untungnya hal tersebut sudah terdapat dalam `scikit-learn`.\n",
    "\n",
    "#Due to the randomness in the SGD procedure, different runs can yield slightly different solutions (and thus different error values)."
   ]
  },
  {
   "cell_type": "code",
   "execution_count": 140,
   "metadata": {},
   "outputs": [
    {
     "name": "stdout",
     "output_type": "stream",
     "text": [
      "Training error:  0.0008\n",
      "Test error:  0.188\n"
     ]
    }
   ],
   "source": [
    "from sklearn.linear_model import SGDClassifier\n",
    "\n",
    "## Fit logistic classifier on training data\n",
    "clf = SGDClassifier(loss=\"log\", penalty=\"none\")\n",
    "clf.fit(train_data, train_labels)\n",
    "\n",
    "## Pull out the parameters (w,b) of the logistic regression model\n",
    "w = clf.coef_[0,:]\n",
    "b = clf.intercept_\n",
    "\n",
    "## Get predictions on training and test data\n",
    "preds_train = clf.predict(train_data)\n",
    "preds_test = clf.predict(test_data)\n",
    "\n",
    "## Compute errors\n",
    "errs_train = np.sum(preds_train != train_labels)\n",
    "errs_test = np.sum(preds_test != test_labels)\n",
    "\n",
    "print(\"Training error: \", float(errs_train)/len(train_labels))\n",
    "print(\"Test error: \", float(errs_test)/len(test_labels))"
   ]
  },
  {
   "cell_type": "markdown",
   "metadata": {},
   "source": [
    "## 3. Analyzing the margin\n",
    "\n",
    "Logistic regression model tidak hanya menghasikan suatu prediksi tapi juga memberikan peluang atas prediksi tersebut. Misalkan pada baris data set pertama diprediksikan sebagai label \"-1\"  dengan peluang 0.73.\n",
    "\n",
    "Misal `x` mempunyai **margin** `gamma` jika (berdasarkan logistic regression model) `Pr(y=1|x) > (1/2)+gamma` atau `Pr(y=1|x) < (1/2)-gamma`. Functio **margin_counts** berikut memproses input classifier (`clf`, yang sudah didefinisikan sebelumnya), test set (`test_data`), dan `gamma`, dan mencari banyaknya points pada data set yang memiliki margin minimal `gamma`.\n",
    "\n",
    "Sebagai contoh:\n",
    "- Misal baris ke-2 diberi label \"1\" dengan probability 0.6\n",
    "- Misal baris ke-7 diberi label \"1\" dengan probability 0.8\n",
    "\n",
    "Apabila ditentukan nilai `gamma` sebesar 0.2, maka baris ke-7 akan termasuk output dari **margin_counts**, sedangkan baris ke-2 tidak termasuk."
   ]
  },
  {
   "cell_type": "code",
   "execution_count": 141,
   "metadata": {},
   "outputs": [],
   "source": [
    "## Return banyaknya titik data dengan Pr(y=1) dimana [0, 0.5 - gamma) or (0.5 + gamma, 1]\n",
    "def margin_counts(clf, test_data, gamma):\n",
    "    ## Mencari kumpulan Pr(y=1) pada test_data\n",
    "    preds = clf.predict_proba(test_data)[:,1]\n",
    "    margin_inds = np.sum((preds > (0.5+gamma)) | (preds < (0.5-gamma)))\n",
    "    \n",
    "    return margin_inds"
   ]
  },
  {
   "cell_type": "markdown",
   "metadata": {},
   "source": [
    "Kita akan coba visualisasikan distribusi margin values pada test_data."
   ]
  },
  {
   "cell_type": "code",
   "execution_count": 142,
   "metadata": {},
   "outputs": [
    {
     "data": {
      "image/png": "[encoded data removed]",
      "text/plain": [
       "<Figure size 432x288 with 1 Axes>"
      ]
     },
     "metadata": {
      "needs_background": "light"
     },
     "output_type": "display_data"
    }
   ],
   "source": [
    "gammas = np.arange(0,0.5,0.01) #Membuat interval gamma\n",
    "f = np.vectorize(lambda g: margin_counts(clf, test_data, g)) #Membuat function yang menghasilkan vector dengan input vector gammas\n",
    "plt.plot(gammas, f(gammas)/500.0, linewidth=2, color='green')\n",
    "plt.xlabel('Margin', fontsize=14)\n",
    "plt.ylabel('Fraction of points above margin', fontsize=14)\n",
    "plt.show()"
   ]
  },
  {
   "cell_type": "markdown",
   "metadata": {},
   "source": [
    "Berikutnya kita akan investigasi: <font color=\"magenta\">Apakah titik data `x` dengan margin lebih besar cenderung terklasifikasi dengan benar?</font>\n",
    "\n",
    "Untuk menjawabnya, kita akan mendefinisikan suatu function **margin_errors** yang menghasilkan rasio titik data yang memiliki margin minimal `gamma` tidak terklasifikasikan dengan benar atau misclassified."
   ]
  },
  {
   "cell_type": "code",
   "execution_count": 143,
   "metadata": {},
   "outputs": [],
   "source": [
    "## Return error of predictions that lie in intervals [0, 0.5 - gamma) and (0.5 + gamma, 1]\n",
    "def margin_errors(clf, test_data, test_labels, gamma):\n",
    "    ## Compute probability on each test point\n",
    "    preds = clf.predict_proba(test_data)[:,1]\n",
    "    \n",
    "    ## Find data points for which prediction is at least gamma away from 0.5\n",
    "    margin_inds = (preds > (0.5+gamma)) | (preds < (0.5-gamma))\n",
    "    \n",
    "    ## Compute error on those data points.\n",
    "    errors_ind = (preds[margin_inds] > 0.5) != (test_labels[margin_inds] > 0.0)\n",
    "    return np.sum(errors_ind)/np.sum(margin_inds)"
   ]
  },
  {
   "cell_type": "markdown",
   "metadata": {},
   "source": [
    "Kita akan coba visualisasikan margin dan error_rate"
   ]
  },
  {
   "cell_type": "code",
   "execution_count": 144,
   "metadata": {},
   "outputs": [
    {
     "data": {
      "image/png": "[encoded data removed]",
      "text/plain": [
       "<Figure size 432x288 with 1 Axes>"
      ]
     },
     "metadata": {
      "needs_background": "light"
     },
     "output_type": "display_data"
    }
   ],
   "source": [
    "## Create grid of gamma values\n",
    "gammas = np.arange(0, 0.5, 0.01)\n",
    "\n",
    "## Compute margin_errors on test data for each value of g\n",
    "f = np.vectorize(lambda g: margin_errors(clf, test_data, test_labels, g))\n",
    "\n",
    "## Plot the result\n",
    "plt.plot(gammas, f(gammas), linewidth=2)\n",
    "plt.ylabel('Error rate', fontsize=14)\n",
    "plt.xlabel('Margin', fontsize=14)\n",
    "plt.show()"
   ]
  },
  {
   "cell_type": "markdown",
   "metadata": {},
   "source": [
    "Dapat kita lihat, margin yang lebih besar cenderung memiliki error rate yang lebih kecil."
   ]
  }
 ],
 "metadata": {
  "kernelspec": {
   "display_name": "Python 3.8.13 ('base')",
   "language": "python",
   "name": "python3"
  },
  "language_info": {
   "codemirror_mode": {
    "name": "ipython",
    "version": 3
   },
   "file_extension": ".py",
   "mimetype": "text/x-python",
   "name": "python",
   "nbconvert_exporter": "python",
   "pygments_lexer": "ipython3",
   "version": "3.8.13"
  },
  "orig_nbformat": 4,
  "vscode": {
   "interpreter": {
    "hash": "632d2d5b8a97db3f76bb862f926947aa7578c9985e2122ffe2fc4083542bd2e7"
   }
  }
 },
 "nbformat": 4,
 "nbformat_minor": 2
}
