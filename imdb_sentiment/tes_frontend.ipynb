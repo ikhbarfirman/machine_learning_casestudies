{
 "cells": [
  {
   "cell_type": "code",
   "execution_count": 1,
   "metadata": {},
   "outputs": [],
   "source": [
    "import pandas as pd\n",
    "import json\n",
    "import numpy as np"
   ]
  },
  {
   "cell_type": "code",
   "execution_count": 2,
   "metadata": {},
   "outputs": [
    {
     "data": {
      "text/html": [
       "<div>\n",
       "<style scoped>\n",
       "    .dataframe tbody tr th:only-of-type {\n",
       "        vertical-align: middle;\n",
       "    }\n",
       "\n",
       "    .dataframe tbody tr th {\n",
       "        vertical-align: top;\n",
       "    }\n",
       "\n",
       "    .dataframe thead th {\n",
       "        text-align: right;\n",
       "    }\n",
       "</style>\n",
       "<table border=\"1\" class=\"dataframe\">\n",
       "  <thead>\n",
       "    <tr style=\"text-align: right;\">\n",
       "      <th></th>\n",
       "      <th>Unnamed: 0</th>\n",
       "      <th>review_id</th>\n",
       "      <th>reviewer</th>\n",
       "      <th>movie</th>\n",
       "      <th>rating</th>\n",
       "      <th>review_summary</th>\n",
       "      <th>review_date</th>\n",
       "      <th>spoiler_tag</th>\n",
       "      <th>review_detail</th>\n",
       "      <th>helpful</th>\n",
       "    </tr>\n",
       "  </thead>\n",
       "  <tbody>\n",
       "    <tr>\n",
       "      <th>0</th>\n",
       "      <td>340291</td>\n",
       "      <td>rw0704975</td>\n",
       "      <td>nbarratt</td>\n",
       "      <td>The Matrix Reloaded (2003)</td>\n",
       "      <td>5.0</td>\n",
       "      <td>It's been a long time coming...</td>\n",
       "      <td>15 July 2003</td>\n",
       "      <td>0</td>\n",
       "      <td>Trinity falling backwards through the window i...</td>\n",
       "      <td>['0', '0']</td>\n",
       "    </tr>\n",
       "    <tr>\n",
       "      <th>1</th>\n",
       "      <td>195744</td>\n",
       "      <td>rw0286124</td>\n",
       "      <td>the red duchess</td>\n",
       "      <td>Close-Up (1990)</td>\n",
       "      <td>8.0</td>\n",
       "      <td>Almost lives up to his reputation.</td>\n",
       "      <td>8 November 2000</td>\n",
       "      <td>0</td>\n",
       "      <td>This is apparently the most important film of ...</td>\n",
       "      <td>['9', '18']</td>\n",
       "    </tr>\n",
       "    <tr>\n",
       "      <th>2</th>\n",
       "      <td>274406</td>\n",
       "      <td>rw0631834</td>\n",
       "      <td>avanhame</td>\n",
       "      <td>The Patriot (2000)</td>\n",
       "      <td>10.0</td>\n",
       "      <td>Excellent</td>\n",
       "      <td>22 July 2000</td>\n",
       "      <td>0</td>\n",
       "      <td>After reading the reviews, I felt it necessary...</td>\n",
       "      <td>['13', '20']</td>\n",
       "    </tr>\n",
       "    <tr>\n",
       "      <th>3</th>\n",
       "      <td>83292</td>\n",
       "      <td>rw0156557</td>\n",
       "      <td>dean29</td>\n",
       "      <td>Suspiria (1977)</td>\n",
       "      <td>2.0</td>\n",
       "      <td>This movie is not scary</td>\n",
       "      <td>17 August 2002</td>\n",
       "      <td>0</td>\n",
       "      <td>Warning:  If you have heard good reviews about...</td>\n",
       "      <td>['10', '24']</td>\n",
       "    </tr>\n",
       "    <tr>\n",
       "      <th>4</th>\n",
       "      <td>370401</td>\n",
       "      <td>rw0738431</td>\n",
       "      <td>MattPDX</td>\n",
       "      <td>The Trip (2002)</td>\n",
       "      <td>10.0</td>\n",
       "      <td>GREAT movie!!!</td>\n",
       "      <td>26 February 2002</td>\n",
       "      <td>0</td>\n",
       "      <td>Miles Swain has directed an excellent movie. T...</td>\n",
       "      <td>['1', '3']</td>\n",
       "    </tr>\n",
       "    <tr>\n",
       "      <th>5</th>\n",
       "      <td>430648</td>\n",
       "      <td>rw0805812</td>\n",
       "      <td>cscorder</td>\n",
       "      <td>Sakuya: yôkaiden (2000)</td>\n",
       "      <td>7.0</td>\n",
       "      <td>Nice Eastern eye candy</td>\n",
       "      <td>8 November 2001</td>\n",
       "      <td>0</td>\n",
       "      <td>Credible action flick even if it's obviously a...</td>\n",
       "      <td>['1', '1']</td>\n",
       "    </tr>\n",
       "    <tr>\n",
       "      <th>6</th>\n",
       "      <td>123423</td>\n",
       "      <td>rw0202834</td>\n",
       "      <td>isotope2112</td>\n",
       "      <td>The Meaning of Life (1983)</td>\n",
       "      <td>5.0</td>\n",
       "      <td>Funny, but uneven</td>\n",
       "      <td>21 March 2003</td>\n",
       "      <td>0</td>\n",
       "      <td>I just saw The Meaning of Life again recently....</td>\n",
       "      <td>['0', '5']</td>\n",
       "    </tr>\n",
       "    <tr>\n",
       "      <th>7</th>\n",
       "      <td>296324</td>\n",
       "      <td>rw0656047</td>\n",
       "      <td>FlickJunkie-2</td>\n",
       "      <td>The Omega Code (1999)</td>\n",
       "      <td>2.0</td>\n",
       "      <td>Uniformly awful</td>\n",
       "      <td>27 April 2000</td>\n",
       "      <td>0</td>\n",
       "      <td>This film was dreadful in almost every regard....</td>\n",
       "      <td>['3', '7']</td>\n",
       "    </tr>\n",
       "    <tr>\n",
       "      <th>8</th>\n",
       "      <td>318951</td>\n",
       "      <td>rw0681195</td>\n",
       "      <td>Zar</td>\n",
       "      <td>Maciste il vendicatore dei Maya (1965)</td>\n",
       "      <td>3.0</td>\n",
       "      <td>A very weird experience!</td>\n",
       "      <td>6 June 2001</td>\n",
       "      <td>0</td>\n",
       "      <td>The extremely obscure Kirk Morris vehicle MACI...</td>\n",
       "      <td>['4', '4']</td>\n",
       "    </tr>\n",
       "    <tr>\n",
       "      <th>9</th>\n",
       "      <td>343408</td>\n",
       "      <td>rw0708500</td>\n",
       "      <td>azaro666</td>\n",
       "      <td>The Tailor of Panama (2001)</td>\n",
       "      <td>5.0</td>\n",
       "      <td>What did I miss?</td>\n",
       "      <td>25 May 2001</td>\n",
       "      <td>0</td>\n",
       "      <td>I am still convinced, even now, that I have mi...</td>\n",
       "      <td>['0', '0']</td>\n",
       "    </tr>\n",
       "  </tbody>\n",
       "</table>\n",
       "</div>"
      ],
      "text/plain": [
       "   Unnamed: 0  review_id         reviewer  \\\n",
       "0      340291  rw0704975         nbarratt   \n",
       "1      195744  rw0286124  the red duchess   \n",
       "2      274406  rw0631834         avanhame   \n",
       "3       83292  rw0156557           dean29   \n",
       "4      370401  rw0738431          MattPDX   \n",
       "5      430648  rw0805812         cscorder   \n",
       "6      123423  rw0202834      isotope2112   \n",
       "7      296324  rw0656047    FlickJunkie-2   \n",
       "8      318951  rw0681195              Zar   \n",
       "9      343408  rw0708500         azaro666   \n",
       "\n",
       "                                    movie  rating  \\\n",
       "0              The Matrix Reloaded (2003)     5.0   \n",
       "1                         Close-Up (1990)     8.0   \n",
       "2                      The Patriot (2000)    10.0   \n",
       "3                         Suspiria (1977)     2.0   \n",
       "4                         The Trip (2002)    10.0   \n",
       "5                 Sakuya: yôkaiden (2000)     7.0   \n",
       "6              The Meaning of Life (1983)     5.0   \n",
       "7                   The Omega Code (1999)     2.0   \n",
       "8  Maciste il vendicatore dei Maya (1965)     3.0   \n",
       "9             The Tailor of Panama (2001)     5.0   \n",
       "\n",
       "                       review_summary       review_date  spoiler_tag  \\\n",
       "0     It's been a long time coming...      15 July 2003            0   \n",
       "1  Almost lives up to his reputation.   8 November 2000            0   \n",
       "2                           Excellent      22 July 2000            0   \n",
       "3             This movie is not scary    17 August 2002            0   \n",
       "4                      GREAT movie!!!  26 February 2002            0   \n",
       "5              Nice Eastern eye candy   8 November 2001            0   \n",
       "6                   Funny, but uneven     21 March 2003            0   \n",
       "7                     Uniformly awful     27 April 2000            0   \n",
       "8            A very weird experience!       6 June 2001            0   \n",
       "9                    What did I miss?       25 May 2001            0   \n",
       "\n",
       "                                       review_detail       helpful  \n",
       "0  Trinity falling backwards through the window i...    ['0', '0']  \n",
       "1  This is apparently the most important film of ...   ['9', '18']  \n",
       "2  After reading the reviews, I felt it necessary...  ['13', '20']  \n",
       "3  Warning:  If you have heard good reviews about...  ['10', '24']  \n",
       "4  Miles Swain has directed an excellent movie. T...    ['1', '3']  \n",
       "5  Credible action flick even if it's obviously a...    ['1', '1']  \n",
       "6  I just saw The Meaning of Life again recently....    ['0', '5']  \n",
       "7  This film was dreadful in almost every regard....    ['3', '7']  \n",
       "8  The extremely obscure Kirk Morris vehicle MACI...    ['4', '4']  \n",
       "9  I am still convinced, even now, that I have mi...    ['0', '0']  "
      ]
     },
     "execution_count": 2,
     "metadata": {},
     "output_type": "execute_result"
    }
   ],
   "source": [
    "data_inf = pd.read_csv('inf_data.csv')\n",
    "data_inf"
   ]
  },
  {
   "cell_type": "code",
   "execution_count": 39,
   "metadata": {},
   "outputs": [
    {
     "name": "stderr",
     "output_type": "stream",
     "text": [
      "[nltk_data] Downloading package wordnet to\n",
      "[nltk_data]     C:\\Users\\ikhbar\\AppData\\Roaming\\nltk_data...\n",
      "[nltk_data]   Package wordnet is already up-to-date!\n",
      "[nltk_data] Downloading package omw-1.4 to\n",
      "[nltk_data]     C:\\Users\\ikhbar\\AppData\\Roaming\\nltk_data...\n",
      "[nltk_data]   Package omw-1.4 is already up-to-date!\n",
      "[nltk_data] Downloading package punkt to\n",
      "[nltk_data]     C:\\Users\\ikhbar\\AppData\\Roaming\\nltk_data...\n",
      "[nltk_data]   Package punkt is already up-to-date!\n"
     ]
    }
   ],
   "source": [
    "from sklearn.feature_extraction.text import TfidfVectorizer\n",
    "import pickle\n",
    "import nltk\n",
    "nltk.download('wordnet')\n",
    "nltk.download('omw-1.4')\n",
    "nltk.download('punkt')\n",
    "from gensim.parsing.preprocessing import STOPWORDS\n",
    "from nltk.stem import PorterStemmer, WordNetLemmatizer\n",
    "from nltk.tokenize import word_tokenize\n",
    "import re\n",
    "import string\n",
    "import requests\n",
    "import tensorflow as tf"
   ]
  },
  {
   "cell_type": "code",
   "execution_count": 36,
   "metadata": {},
   "outputs": [
    {
     "data": {
      "text/plain": [
       "'2.9.2'"
      ]
     },
     "execution_count": 36,
     "metadata": {},
     "output_type": "execute_result"
    }
   ],
   "source": [
    "tf.__version__"
   ]
  },
  {
   "cell_type": "code",
   "execution_count": 58,
   "metadata": {},
   "outputs": [
    {
     "name": "stderr",
     "output_type": "stream",
     "text": [
      "c:\\Users\\ikhbar\\anaconda3\\lib\\site-packages\\sklearn\\base.py:329: UserWarning: Trying to unpickle estimator TfidfTransformer from version 1.0.2 when using version 1.1.2. This might lead to breaking code or invalid results. Use at your own risk. For more info please refer to:\n",
      "https://scikit-learn.org/stable/model_persistence.html#security-maintainability-limitations\n",
      "  warnings.warn(\n",
      "c:\\Users\\ikhbar\\anaconda3\\lib\\site-packages\\sklearn\\base.py:329: UserWarning: Trying to unpickle estimator TfidfVectorizer from version 1.0.2 when using version 1.1.2. This might lead to breaking code or invalid results. Use at your own risk. For more info please refer to:\n",
      "https://scikit-learn.org/stable/model_persistence.html#security-maintainability-limitations\n",
      "  warnings.warn(\n"
     ]
    }
   ],
   "source": [
    "with open('frontend/model/preprocess_text.pkl', 'rb') as f:\n",
    "    procc = pickle.load(f)"
   ]
  },
  {
   "cell_type": "code",
   "execution_count": 13,
   "metadata": {},
   "outputs": [],
   "source": [
    "stop_words = list(STOPWORDS)\n",
    "stemmer = PorterStemmer()\n",
    "lemma = WordNetLemmatizer()"
   ]
  },
  {
   "cell_type": "code",
   "execution_count": 14,
   "metadata": {},
   "outputs": [],
   "source": [
    "def full_remove(x, removal_list): \n",
    "    for w in removal_list:\n",
    "        x = x.replace(w, ' ')\n",
    "    return x\n",
    "\n",
    "stop_words.extend(['s','ve','t','nt','m','ll']) #Menambahkan stop words list\n",
    "\n",
    "def text_processing_2(text):\n",
    "  text = text.lower() #Set lowercase pada kata\n",
    "  text = re.sub(r\"http\\S+\", \" \", text) #Menghilangkan link\n",
    "  text = re.sub(r\"www.\\S+\", \" \", text) #Menghilangkan link\n",
    "  text = re.sub(r\"\\n\",\" \",text) #Menghilangkan \\n\n",
    "  text = ' '.join([full_remove(x, list(string.punctuation)) for x in text.split()]) #Menghilangkan punctuation\n",
    "  text = text.strip() #Menghilangkan spasi kosong ataupun tab pada awal dan akhir kalimat\n",
    "  text = re.sub(\"[^A-Za-z\\s']\",\" \", text) #Menghilangkan yang bukan huruf\n",
    "  tokens = word_tokenize(text) # Mendeteksi token pada kalimat\n",
    "  text = [lemma.lemmatize(word) for word in tokens if word not in stop_words]\n",
    "  text = ' '.join(text)\n",
    "  return text    "
   ]
  },
  {
   "cell_type": "code",
   "execution_count": 15,
   "metadata": {},
   "outputs": [],
   "source": [
    "data_inf['proc'] = data_inf['review_detail'].apply(lambda x: text_processing_2(x))"
   ]
  },
  {
   "cell_type": "code",
   "execution_count": 103,
   "metadata": {},
   "outputs": [],
   "source": [
    "X_inf = np.array([data_inf['proc'].iloc[5]])"
   ]
  },
  {
   "cell_type": "code",
   "execution_count": 104,
   "metadata": {},
   "outputs": [
    {
     "data": {
      "text/plain": [
       "array(['credible action flick obviously kid movie great special effect primary attraction cast treat material deadly seriousness fun watch fight scene average part looked like bad rehash h r puffenstuff'],\n",
       "      dtype='<U194')"
      ]
     },
     "execution_count": 104,
     "metadata": {},
     "output_type": "execute_result"
    }
   ],
   "source": [
    "X_inf"
   ]
  },
  {
   "cell_type": "code",
   "execution_count": 105,
   "metadata": {},
   "outputs": [],
   "source": [
    "contoh_inp = procc.transform(X_inf).toarray()"
   ]
  },
  {
   "cell_type": "code",
   "execution_count": 106,
   "metadata": {},
   "outputs": [],
   "source": [
    "input_data_json = json.dumps({\n",
    "    \"signature_name\": \"serving_default\",\n",
    "    \"instances\": contoh_inp.tolist()\n",
    "})"
   ]
  },
  {
   "cell_type": "code",
   "execution_count": 107,
   "metadata": {},
   "outputs": [
    {
     "name": "stdout",
     "output_type": "stream",
     "text": [
      "200\n"
     ]
    },
    {
     "data": {
      "text/plain": [
       "{'predictions': [[0.236282468, 0.579923928, 0.183793634]]}"
      ]
     },
     "execution_count": 107,
     "metadata": {},
     "output_type": "execute_result"
    }
   ],
   "source": [
    "URL = \"http://backend-ikhbar-fin.herokuapp.com/v1/models/review_model:predict\"\n",
    "r = requests.post(URL, data=input_data_json)\n",
    "\n",
    "print(r.status_code)\n",
    "# berikut bentuk data hasil prediksi\n",
    "res = r.json()\n",
    "res"
   ]
  },
  {
   "cell_type": "code",
   "execution_count": 81,
   "metadata": {},
   "outputs": [
    {
     "data": {
      "text/plain": [
       "0"
      ]
     },
     "execution_count": 81,
     "metadata": {},
     "output_type": "execute_result"
    }
   ],
   "source": [
    "np.argmax(res['predictions'][0])"
   ]
  },
  {
   "cell_type": "code",
   "execution_count": 76,
   "metadata": {},
   "outputs": [],
   "source": [
    "import sklearn"
   ]
  },
  {
   "cell_type": "code",
   "execution_count": 77,
   "metadata": {},
   "outputs": [
    {
     "data": {
      "text/plain": [
       "'1.1.2'"
      ]
     },
     "execution_count": 77,
     "metadata": {},
     "output_type": "execute_result"
    }
   ],
   "source": [
    "sklearn.__version__"
   ]
  }
 ],
 "metadata": {
  "kernelspec": {
   "display_name": "Python 3.8.13 ('base')",
   "language": "python",
   "name": "python3"
  },
  "language_info": {
   "codemirror_mode": {
    "name": "ipython",
    "version": 3
   },
   "file_extension": ".py",
   "mimetype": "text/x-python",
   "name": "python",
   "nbconvert_exporter": "python",
   "pygments_lexer": "ipython3",
   "version": "3.8.13"
  },
  "orig_nbformat": 4,
  "vscode": {
   "interpreter": {
    "hash": "632d2d5b8a97db3f76bb862f926947aa7578c9985e2122ffe2fc4083542bd2e7"
   }
  }
 },
 "nbformat": 4,
 "nbformat_minor": 2
}
