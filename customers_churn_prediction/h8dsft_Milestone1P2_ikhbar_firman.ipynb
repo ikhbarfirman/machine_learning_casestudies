{
 "cells": [
  {
   "cell_type": "markdown",
   "metadata": {},
   "source": [
    "# 1 -Introduction\n",
    "\n",
    "Nama: Ikhbar Firman Hanafi\n",
    "\n",
    "Batch: 14\n",
    "\n",
    "Phase: 1\n",
    "\n",
    "URL: https://p2ml1-ikhbarfirman.herokuapp.com/"
   ]
  },
  {
   "cell_type": "markdown",
   "metadata": {},
   "source": [
    "## Data set"
   ]
  },
  {
   "cell_type": "markdown",
   "metadata": {},
   "source": [
    "The data set includes information about:\n",
    "\n",
    "Customers who left within the last month – the column is called Churn\n",
    "Services that each customer has signed up for – phone, multiple lines, internet, online security, online backup, device protection, tech support, and streaming TV and movies\n",
    "Customer account information – how long they’ve been a customer, contract, payment method, paperless billing, monthly charges, and total charges\n",
    "Demographic info about customers – gender, age range, and if they have partners and dependents\n",
    "\n",
    "Sumber data: https://www.kaggle.com/datasets/blastchar/telco-customer-churn"
   ]
  },
  {
   "cell_type": "markdown",
   "metadata": {},
   "source": [
    "### Attributes:\n",
    "1. Customer ID represent ID for each customers\n",
    "2. gender : Whether the customer is a male or a female\n",
    "3. SeniorCitizen : Whether the customer is a senior citizen or not (1, 0)\n",
    "4. Partner : Whether the customer has a partner or not (Yes, No)\n",
    "5. Dependents : Whether the customer has dependents or not (Yes, No)\n",
    "6. tenure : Number of months the customer has stayed with the company\n",
    "7. PhoneService : Whether the customer has a phone service or not (Yes, No)\n",
    "8. MultipleLines : Whether the customer has multiple lines or not (Yes, No, No phone service)\n",
    "9. InternetService : Customer’s internet service provider (DSL, Fiber optic, No)\n",
    "10. OnlineSecurity : Whether the customer has online security or not (Yes, No, No internet service)\n",
    "11. OnlineBackup : Whether the customer has online backup or not (Yes, No, No internet service)\n",
    "12. DeviceProtection : Whether the customer has device protection or not (Yes, No, No internet service)\n",
    "13. TechSupport : Whether the customer has tech support or not (Yes, No, No internet service)\n",
    "14. StreamingTV : Whether the customer has streaming TV or not (Yes, No, No internet service)\n",
    "15. StreamingMovies : Whether the customer has streaming movies or not (Yes, No, No internet service)\n",
    "\n",
    "16. Contract : The contract term of the customer (Month-to-month, One year, Two year)\n",
    "\n",
    "17. PaperlessBilling : Whether the customer has paperless billing or not (Yes, No)\n",
    "\n",
    "18. PaymentMethod : The customer’s payment method (Electronic check, Mailed check, Bank transfer (automatic), Credit card (automatic))\n",
    "\n",
    "19. MonthlyCharges : The amount charged to the customer monthly\n",
    "\n",
    "20. TotalCharges : The total amount charged to the customer\n",
    "\n",
    "21. Churn : Whether the customer churned or not (Yes or No)\n",
    "\n",
    "Data source: https://www.kaggle.com/datasets/blastchar/telco-customer-churn"
   ]
  },
  {
   "cell_type": "markdown",
   "metadata": {},
   "source": [
    "## Objective\n",
    "Membuat prediksi kecenderungan customer akan berhenti berlangganan atau tidak."
   ]
  },
  {
   "cell_type": "markdown",
   "metadata": {},
   "source": [
    "# 2 - Import Libraries"
   ]
  },
  {
   "cell_type": "markdown",
   "metadata": {},
   "source": [
    "import libraries yang diperlukan"
   ]
  },
  {
   "cell_type": "code",
   "execution_count": 630,
   "metadata": {},
   "outputs": [],
   "source": [
    "import numpy as np\n",
    "import pandas as pd\n",
    "import matplotlib.pyplot as plt\n",
    "import matplotlib as mpl\n",
    "import seaborn as sns\n",
    "from sklearn.preprocessing import StandardScaler,OneHotEncoder,OrdinalEncoder\n",
    "from sklearn.compose import ColumnTransformer\n",
    "from sklearn.pipeline import make_pipeline\n",
    "from sklearn.model_selection import train_test_split\n",
    "from sklearn.metrics import roc_auc_score,roc_curve,confusion_matrix,ConfusionMatrixDisplay,classification_report\n",
    "import tensorflow as tf\n",
    "from tensorflow import keras\n",
    "import joblib"
   ]
  },
  {
   "cell_type": "markdown",
   "metadata": {},
   "source": [
    "# 3 - Data Loading"
   ]
  },
  {
   "cell_type": "markdown",
   "metadata": {},
   "source": [
    "Load data dalam DataFrame"
   ]
  },
  {
   "cell_type": "code",
   "execution_count": 631,
   "metadata": {},
   "outputs": [
    {
     "data": {
      "text/html": [
       "<div>\n",
       "<style scoped>\n",
       "    .dataframe tbody tr th:only-of-type {\n",
       "        vertical-align: middle;\n",
       "    }\n",
       "\n",
       "    .dataframe tbody tr th {\n",
       "        vertical-align: top;\n",
       "    }\n",
       "\n",
       "    .dataframe thead th {\n",
       "        text-align: right;\n",
       "    }\n",
       "</style>\n",
       "<table border=\"1\" class=\"dataframe\">\n",
       "  <thead>\n",
       "    <tr style=\"text-align: right;\">\n",
       "      <th></th>\n",
       "      <th>customerID</th>\n",
       "      <th>gender</th>\n",
       "      <th>SeniorCitizen</th>\n",
       "      <th>Partner</th>\n",
       "      <th>Dependents</th>\n",
       "      <th>tenure</th>\n",
       "      <th>PhoneService</th>\n",
       "      <th>MultipleLines</th>\n",
       "      <th>InternetService</th>\n",
       "      <th>OnlineSecurity</th>\n",
       "      <th>...</th>\n",
       "      <th>DeviceProtection</th>\n",
       "      <th>TechSupport</th>\n",
       "      <th>StreamingTV</th>\n",
       "      <th>StreamingMovies</th>\n",
       "      <th>Contract</th>\n",
       "      <th>PaperlessBilling</th>\n",
       "      <th>PaymentMethod</th>\n",
       "      <th>MonthlyCharges</th>\n",
       "      <th>TotalCharges</th>\n",
       "      <th>Churn</th>\n",
       "    </tr>\n",
       "  </thead>\n",
       "  <tbody>\n",
       "    <tr>\n",
       "      <th>0</th>\n",
       "      <td>7590-VHVEG</td>\n",
       "      <td>Female</td>\n",
       "      <td>0</td>\n",
       "      <td>Yes</td>\n",
       "      <td>No</td>\n",
       "      <td>1</td>\n",
       "      <td>No</td>\n",
       "      <td>No phone service</td>\n",
       "      <td>DSL</td>\n",
       "      <td>No</td>\n",
       "      <td>...</td>\n",
       "      <td>No</td>\n",
       "      <td>No</td>\n",
       "      <td>No</td>\n",
       "      <td>No</td>\n",
       "      <td>Month-to-month</td>\n",
       "      <td>Yes</td>\n",
       "      <td>Electronic check</td>\n",
       "      <td>29.85</td>\n",
       "      <td>29.85</td>\n",
       "      <td>No</td>\n",
       "    </tr>\n",
       "    <tr>\n",
       "      <th>1</th>\n",
       "      <td>5575-GNVDE</td>\n",
       "      <td>Male</td>\n",
       "      <td>0</td>\n",
       "      <td>No</td>\n",
       "      <td>No</td>\n",
       "      <td>34</td>\n",
       "      <td>Yes</td>\n",
       "      <td>No</td>\n",
       "      <td>DSL</td>\n",
       "      <td>Yes</td>\n",
       "      <td>...</td>\n",
       "      <td>Yes</td>\n",
       "      <td>No</td>\n",
       "      <td>No</td>\n",
       "      <td>No</td>\n",
       "      <td>One year</td>\n",
       "      <td>No</td>\n",
       "      <td>Mailed check</td>\n",
       "      <td>56.95</td>\n",
       "      <td>1889.5</td>\n",
       "      <td>No</td>\n",
       "    </tr>\n",
       "    <tr>\n",
       "      <th>2</th>\n",
       "      <td>3668-QPYBK</td>\n",
       "      <td>Male</td>\n",
       "      <td>0</td>\n",
       "      <td>No</td>\n",
       "      <td>No</td>\n",
       "      <td>2</td>\n",
       "      <td>Yes</td>\n",
       "      <td>No</td>\n",
       "      <td>DSL</td>\n",
       "      <td>Yes</td>\n",
       "      <td>...</td>\n",
       "      <td>No</td>\n",
       "      <td>No</td>\n",
       "      <td>No</td>\n",
       "      <td>No</td>\n",
       "      <td>Month-to-month</td>\n",
       "      <td>Yes</td>\n",
       "      <td>Mailed check</td>\n",
       "      <td>53.85</td>\n",
       "      <td>108.15</td>\n",
       "      <td>Yes</td>\n",
       "    </tr>\n",
       "    <tr>\n",
       "      <th>3</th>\n",
       "      <td>7795-CFOCW</td>\n",
       "      <td>Male</td>\n",
       "      <td>0</td>\n",
       "      <td>No</td>\n",
       "      <td>No</td>\n",
       "      <td>45</td>\n",
       "      <td>No</td>\n",
       "      <td>No phone service</td>\n",
       "      <td>DSL</td>\n",
       "      <td>Yes</td>\n",
       "      <td>...</td>\n",
       "      <td>Yes</td>\n",
       "      <td>Yes</td>\n",
       "      <td>No</td>\n",
       "      <td>No</td>\n",
       "      <td>One year</td>\n",
       "      <td>No</td>\n",
       "      <td>Bank transfer (automatic)</td>\n",
       "      <td>42.30</td>\n",
       "      <td>1840.75</td>\n",
       "      <td>No</td>\n",
       "    </tr>\n",
       "    <tr>\n",
       "      <th>4</th>\n",
       "      <td>9237-HQITU</td>\n",
       "      <td>Female</td>\n",
       "      <td>0</td>\n",
       "      <td>No</td>\n",
       "      <td>No</td>\n",
       "      <td>2</td>\n",
       "      <td>Yes</td>\n",
       "      <td>No</td>\n",
       "      <td>Fiber optic</td>\n",
       "      <td>No</td>\n",
       "      <td>...</td>\n",
       "      <td>No</td>\n",
       "      <td>No</td>\n",
       "      <td>No</td>\n",
       "      <td>No</td>\n",
       "      <td>Month-to-month</td>\n",
       "      <td>Yes</td>\n",
       "      <td>Electronic check</td>\n",
       "      <td>70.70</td>\n",
       "      <td>151.65</td>\n",
       "      <td>Yes</td>\n",
       "    </tr>\n",
       "  </tbody>\n",
       "</table>\n",
       "<p>5 rows × 21 columns</p>\n",
       "</div>"
      ],
      "text/plain": [
       "   customerID  gender  SeniorCitizen Partner Dependents  tenure PhoneService  \\\n",
       "0  7590-VHVEG  Female              0     Yes         No       1           No   \n",
       "1  5575-GNVDE    Male              0      No         No      34          Yes   \n",
       "2  3668-QPYBK    Male              0      No         No       2          Yes   \n",
       "3  7795-CFOCW    Male              0      No         No      45           No   \n",
       "4  9237-HQITU  Female              0      No         No       2          Yes   \n",
       "\n",
       "      MultipleLines InternetService OnlineSecurity  ... DeviceProtection  \\\n",
       "0  No phone service             DSL             No  ...               No   \n",
       "1                No             DSL            Yes  ...              Yes   \n",
       "2                No             DSL            Yes  ...               No   \n",
       "3  No phone service             DSL            Yes  ...              Yes   \n",
       "4                No     Fiber optic             No  ...               No   \n",
       "\n",
       "  TechSupport StreamingTV StreamingMovies        Contract PaperlessBilling  \\\n",
       "0          No          No              No  Month-to-month              Yes   \n",
       "1          No          No              No        One year               No   \n",
       "2          No          No              No  Month-to-month              Yes   \n",
       "3         Yes          No              No        One year               No   \n",
       "4          No          No              No  Month-to-month              Yes   \n",
       "\n",
       "               PaymentMethod MonthlyCharges  TotalCharges Churn  \n",
       "0           Electronic check          29.85         29.85    No  \n",
       "1               Mailed check          56.95        1889.5    No  \n",
       "2               Mailed check          53.85        108.15   Yes  \n",
       "3  Bank transfer (automatic)          42.30       1840.75    No  \n",
       "4           Electronic check          70.70        151.65   Yes  \n",
       "\n",
       "[5 rows x 21 columns]"
      ]
     },
     "execution_count": 631,
     "metadata": {},
     "output_type": "execute_result"
    }
   ],
   "source": [
    "data = pd.read_csv('WA_Fn-UseC_-Telco-Customer-Churn.csv') #load data from csv to DataFrame\n",
    "data.head() #Menampilkan 5 baris pertama pada dataset"
   ]
  },
  {
   "cell_type": "code",
   "execution_count": 632,
   "metadata": {},
   "outputs": [
    {
     "name": "stdout",
     "output_type": "stream",
     "text": [
      "<class 'pandas.core.frame.DataFrame'>\n",
      "RangeIndex: 7043 entries, 0 to 7042\n",
      "Data columns (total 21 columns):\n",
      " #   Column            Non-Null Count  Dtype  \n",
      "---  ------            --------------  -----  \n",
      " 0   customerID        7043 non-null   object \n",
      " 1   gender            7043 non-null   object \n",
      " 2   SeniorCitizen     7043 non-null   int64  \n",
      " 3   Partner           7043 non-null   object \n",
      " 4   Dependents        7043 non-null   object \n",
      " 5   tenure            7043 non-null   int64  \n",
      " 6   PhoneService      7043 non-null   object \n",
      " 7   MultipleLines     7043 non-null   object \n",
      " 8   InternetService   7043 non-null   object \n",
      " 9   OnlineSecurity    7043 non-null   object \n",
      " 10  OnlineBackup      7043 non-null   object \n",
      " 11  DeviceProtection  7043 non-null   object \n",
      " 12  TechSupport       7043 non-null   object \n",
      " 13  StreamingTV       7043 non-null   object \n",
      " 14  StreamingMovies   7043 non-null   object \n",
      " 15  Contract          7043 non-null   object \n",
      " 16  PaperlessBilling  7043 non-null   object \n",
      " 17  PaymentMethod     7043 non-null   object \n",
      " 18  MonthlyCharges    7043 non-null   float64\n",
      " 19  TotalCharges      7043 non-null   object \n",
      " 20  Churn             7043 non-null   object \n",
      "dtypes: float64(1), int64(2), object(18)\n",
      "memory usage: 1.1+ MB\n"
     ]
    }
   ],
   "source": [
    "data.info()"
   ]
  },
  {
   "cell_type": "markdown",
   "metadata": {},
   "source": [
    "Dataset disini berjumlah 7043 datapoints dimana tiap data points atau tiap baris data merepresentasikan tiap customer. Data set ini memiliki mayoritas features tipe object dan terdapat numerical features 'SeniorCitizen'(binary categorical dalam integer) dan 'tenure' dalam integer dan 'MonthlyCharges' dalam float (real numbers). Namuan feature 'TotalCharges' tertulis tipe object, yang mana merupakan total biaya pada customers dan seharusnya merupakan bilangan. Berdasarkan info diatas sejauh ini tidak terdeteksi adanya null atau missing values pada tiap features tersebut."
   ]
  },
  {
   "cell_type": "markdown",
   "metadata": {},
   "source": [
    "Untuk menyamakan dengan fatures object lainnya, kita ubah value SeniorCitizen dalam bentuk string 'Yes' dan 'No'.(Meskipun nantinya akan dilakukan encoding terhadap feature ini)"
   ]
  },
  {
   "cell_type": "code",
   "execution_count": 633,
   "metadata": {},
   "outputs": [],
   "source": [
    "# replace values for SeniorCitizen as a categorical feature\n",
    "data['SeniorCitizen'] = data['SeniorCitizen'].replace({1:'Yes',0:'No'})"
   ]
  },
  {
   "cell_type": "markdown",
   "metadata": {},
   "source": [
    "Kita coba cek value pada feature 'TotalCharges'."
   ]
  },
  {
   "cell_type": "code",
   "execution_count": 634,
   "metadata": {},
   "outputs": [
    {
     "data": {
      "text/plain": [
       "0         29.85\n",
       "1        1889.5\n",
       "2        108.15\n",
       "3       1840.75\n",
       "4        151.65\n",
       "         ...   \n",
       "7038     1990.5\n",
       "7039     7362.9\n",
       "7040     346.45\n",
       "7041      306.6\n",
       "7042     6844.5\n",
       "Name: TotalCharges, Length: 7043, dtype: object"
      ]
     },
     "execution_count": 634,
     "metadata": {},
     "output_type": "execute_result"
    }
   ],
   "source": [
    "data['TotalCharges']"
   ]
  },
  {
   "cell_type": "markdown",
   "metadata": {},
   "source": [
    "Dapat dilihat value feature 'TotalCharges' adalah suatu bilangan yang merupakan string. Kita akan ubah ke dalam tipe float."
   ]
  },
  {
   "cell_type": "code",
   "execution_count": 635,
   "metadata": {},
   "outputs": [],
   "source": [
    "#data['TotalCharges'].astype('float64')"
   ]
  },
  {
   "cell_type": "markdown",
   "metadata": {},
   "source": [
    "Apabila kita run code di atas akan tertulis: *could not convert string to float: ''*. Maka terdapat string yang bukan bilangan pada feature 'totalcharges' yaitu ' ' (spasi) sehingga tidak dapat diconvert menjadi float. Kita akan ubah ' ' menjadi NaN"
   ]
  },
  {
   "cell_type": "code",
   "execution_count": 636,
   "metadata": {},
   "outputs": [],
   "source": [
    "data['TotalCharges'] = data['TotalCharges'].replace(' ', np.NaN) #Mengubah string ' ' menjadi NaN\n",
    "data['TotalCharges'] = data['TotalCharges'].astype('float64') #Mengubah type string menjadi float"
   ]
  },
  {
   "cell_type": "markdown",
   "metadata": {},
   "source": [
    "Sebelum kita memutuskan kedepannya missing value tersebut akan dilakukan impute value atau remove, kita coba cek missing value yang terdeteksi di feature totalcharges."
   ]
  },
  {
   "cell_type": "code",
   "execution_count": 637,
   "metadata": {},
   "outputs": [
    {
     "data": {
      "text/html": [
       "<div>\n",
       "<style scoped>\n",
       "    .dataframe tbody tr th:only-of-type {\n",
       "        vertical-align: middle;\n",
       "    }\n",
       "\n",
       "    .dataframe tbody tr th {\n",
       "        vertical-align: top;\n",
       "    }\n",
       "\n",
       "    .dataframe thead th {\n",
       "        text-align: right;\n",
       "    }\n",
       "</style>\n",
       "<table border=\"1\" class=\"dataframe\">\n",
       "  <thead>\n",
       "    <tr style=\"text-align: right;\">\n",
       "      <th></th>\n",
       "      <th>customerID</th>\n",
       "      <th>gender</th>\n",
       "      <th>SeniorCitizen</th>\n",
       "      <th>Partner</th>\n",
       "      <th>Dependents</th>\n",
       "      <th>tenure</th>\n",
       "      <th>PhoneService</th>\n",
       "      <th>MultipleLines</th>\n",
       "      <th>InternetService</th>\n",
       "      <th>OnlineSecurity</th>\n",
       "      <th>...</th>\n",
       "      <th>DeviceProtection</th>\n",
       "      <th>TechSupport</th>\n",
       "      <th>StreamingTV</th>\n",
       "      <th>StreamingMovies</th>\n",
       "      <th>Contract</th>\n",
       "      <th>PaperlessBilling</th>\n",
       "      <th>PaymentMethod</th>\n",
       "      <th>MonthlyCharges</th>\n",
       "      <th>TotalCharges</th>\n",
       "      <th>Churn</th>\n",
       "    </tr>\n",
       "  </thead>\n",
       "  <tbody>\n",
       "    <tr>\n",
       "      <th>488</th>\n",
       "      <td>4472-LVYGI</td>\n",
       "      <td>Female</td>\n",
       "      <td>No</td>\n",
       "      <td>Yes</td>\n",
       "      <td>Yes</td>\n",
       "      <td>0</td>\n",
       "      <td>No</td>\n",
       "      <td>No phone service</td>\n",
       "      <td>DSL</td>\n",
       "      <td>Yes</td>\n",
       "      <td>...</td>\n",
       "      <td>Yes</td>\n",
       "      <td>Yes</td>\n",
       "      <td>Yes</td>\n",
       "      <td>No</td>\n",
       "      <td>Two year</td>\n",
       "      <td>Yes</td>\n",
       "      <td>Bank transfer (automatic)</td>\n",
       "      <td>52.55</td>\n",
       "      <td>NaN</td>\n",
       "      <td>No</td>\n",
       "    </tr>\n",
       "    <tr>\n",
       "      <th>753</th>\n",
       "      <td>3115-CZMZD</td>\n",
       "      <td>Male</td>\n",
       "      <td>No</td>\n",
       "      <td>No</td>\n",
       "      <td>Yes</td>\n",
       "      <td>0</td>\n",
       "      <td>Yes</td>\n",
       "      <td>No</td>\n",
       "      <td>No</td>\n",
       "      <td>No internet service</td>\n",
       "      <td>...</td>\n",
       "      <td>No internet service</td>\n",
       "      <td>No internet service</td>\n",
       "      <td>No internet service</td>\n",
       "      <td>No internet service</td>\n",
       "      <td>Two year</td>\n",
       "      <td>No</td>\n",
       "      <td>Mailed check</td>\n",
       "      <td>20.25</td>\n",
       "      <td>NaN</td>\n",
       "      <td>No</td>\n",
       "    </tr>\n",
       "    <tr>\n",
       "      <th>936</th>\n",
       "      <td>5709-LVOEQ</td>\n",
       "      <td>Female</td>\n",
       "      <td>No</td>\n",
       "      <td>Yes</td>\n",
       "      <td>Yes</td>\n",
       "      <td>0</td>\n",
       "      <td>Yes</td>\n",
       "      <td>No</td>\n",
       "      <td>DSL</td>\n",
       "      <td>Yes</td>\n",
       "      <td>...</td>\n",
       "      <td>Yes</td>\n",
       "      <td>No</td>\n",
       "      <td>Yes</td>\n",
       "      <td>Yes</td>\n",
       "      <td>Two year</td>\n",
       "      <td>No</td>\n",
       "      <td>Mailed check</td>\n",
       "      <td>80.85</td>\n",
       "      <td>NaN</td>\n",
       "      <td>No</td>\n",
       "    </tr>\n",
       "    <tr>\n",
       "      <th>1082</th>\n",
       "      <td>4367-NUYAO</td>\n",
       "      <td>Male</td>\n",
       "      <td>No</td>\n",
       "      <td>Yes</td>\n",
       "      <td>Yes</td>\n",
       "      <td>0</td>\n",
       "      <td>Yes</td>\n",
       "      <td>Yes</td>\n",
       "      <td>No</td>\n",
       "      <td>No internet service</td>\n",
       "      <td>...</td>\n",
       "      <td>No internet service</td>\n",
       "      <td>No internet service</td>\n",
       "      <td>No internet service</td>\n",
       "      <td>No internet service</td>\n",
       "      <td>Two year</td>\n",
       "      <td>No</td>\n",
       "      <td>Mailed check</td>\n",
       "      <td>25.75</td>\n",
       "      <td>NaN</td>\n",
       "      <td>No</td>\n",
       "    </tr>\n",
       "    <tr>\n",
       "      <th>1340</th>\n",
       "      <td>1371-DWPAZ</td>\n",
       "      <td>Female</td>\n",
       "      <td>No</td>\n",
       "      <td>Yes</td>\n",
       "      <td>Yes</td>\n",
       "      <td>0</td>\n",
       "      <td>No</td>\n",
       "      <td>No phone service</td>\n",
       "      <td>DSL</td>\n",
       "      <td>Yes</td>\n",
       "      <td>...</td>\n",
       "      <td>Yes</td>\n",
       "      <td>Yes</td>\n",
       "      <td>Yes</td>\n",
       "      <td>No</td>\n",
       "      <td>Two year</td>\n",
       "      <td>No</td>\n",
       "      <td>Credit card (automatic)</td>\n",
       "      <td>56.05</td>\n",
       "      <td>NaN</td>\n",
       "      <td>No</td>\n",
       "    </tr>\n",
       "    <tr>\n",
       "      <th>3331</th>\n",
       "      <td>7644-OMVMY</td>\n",
       "      <td>Male</td>\n",
       "      <td>No</td>\n",
       "      <td>Yes</td>\n",
       "      <td>Yes</td>\n",
       "      <td>0</td>\n",
       "      <td>Yes</td>\n",
       "      <td>No</td>\n",
       "      <td>No</td>\n",
       "      <td>No internet service</td>\n",
       "      <td>...</td>\n",
       "      <td>No internet service</td>\n",
       "      <td>No internet service</td>\n",
       "      <td>No internet service</td>\n",
       "      <td>No internet service</td>\n",
       "      <td>Two year</td>\n",
       "      <td>No</td>\n",
       "      <td>Mailed check</td>\n",
       "      <td>19.85</td>\n",
       "      <td>NaN</td>\n",
       "      <td>No</td>\n",
       "    </tr>\n",
       "    <tr>\n",
       "      <th>3826</th>\n",
       "      <td>3213-VVOLG</td>\n",
       "      <td>Male</td>\n",
       "      <td>No</td>\n",
       "      <td>Yes</td>\n",
       "      <td>Yes</td>\n",
       "      <td>0</td>\n",
       "      <td>Yes</td>\n",
       "      <td>Yes</td>\n",
       "      <td>No</td>\n",
       "      <td>No internet service</td>\n",
       "      <td>...</td>\n",
       "      <td>No internet service</td>\n",
       "      <td>No internet service</td>\n",
       "      <td>No internet service</td>\n",
       "      <td>No internet service</td>\n",
       "      <td>Two year</td>\n",
       "      <td>No</td>\n",
       "      <td>Mailed check</td>\n",
       "      <td>25.35</td>\n",
       "      <td>NaN</td>\n",
       "      <td>No</td>\n",
       "    </tr>\n",
       "    <tr>\n",
       "      <th>4380</th>\n",
       "      <td>2520-SGTTA</td>\n",
       "      <td>Female</td>\n",
       "      <td>No</td>\n",
       "      <td>Yes</td>\n",
       "      <td>Yes</td>\n",
       "      <td>0</td>\n",
       "      <td>Yes</td>\n",
       "      <td>No</td>\n",
       "      <td>No</td>\n",
       "      <td>No internet service</td>\n",
       "      <td>...</td>\n",
       "      <td>No internet service</td>\n",
       "      <td>No internet service</td>\n",
       "      <td>No internet service</td>\n",
       "      <td>No internet service</td>\n",
       "      <td>Two year</td>\n",
       "      <td>No</td>\n",
       "      <td>Mailed check</td>\n",
       "      <td>20.00</td>\n",
       "      <td>NaN</td>\n",
       "      <td>No</td>\n",
       "    </tr>\n",
       "    <tr>\n",
       "      <th>5218</th>\n",
       "      <td>2923-ARZLG</td>\n",
       "      <td>Male</td>\n",
       "      <td>No</td>\n",
       "      <td>Yes</td>\n",
       "      <td>Yes</td>\n",
       "      <td>0</td>\n",
       "      <td>Yes</td>\n",
       "      <td>No</td>\n",
       "      <td>No</td>\n",
       "      <td>No internet service</td>\n",
       "      <td>...</td>\n",
       "      <td>No internet service</td>\n",
       "      <td>No internet service</td>\n",
       "      <td>No internet service</td>\n",
       "      <td>No internet service</td>\n",
       "      <td>One year</td>\n",
       "      <td>Yes</td>\n",
       "      <td>Mailed check</td>\n",
       "      <td>19.70</td>\n",
       "      <td>NaN</td>\n",
       "      <td>No</td>\n",
       "    </tr>\n",
       "    <tr>\n",
       "      <th>6670</th>\n",
       "      <td>4075-WKNIU</td>\n",
       "      <td>Female</td>\n",
       "      <td>No</td>\n",
       "      <td>Yes</td>\n",
       "      <td>Yes</td>\n",
       "      <td>0</td>\n",
       "      <td>Yes</td>\n",
       "      <td>Yes</td>\n",
       "      <td>DSL</td>\n",
       "      <td>No</td>\n",
       "      <td>...</td>\n",
       "      <td>Yes</td>\n",
       "      <td>Yes</td>\n",
       "      <td>Yes</td>\n",
       "      <td>No</td>\n",
       "      <td>Two year</td>\n",
       "      <td>No</td>\n",
       "      <td>Mailed check</td>\n",
       "      <td>73.35</td>\n",
       "      <td>NaN</td>\n",
       "      <td>No</td>\n",
       "    </tr>\n",
       "    <tr>\n",
       "      <th>6754</th>\n",
       "      <td>2775-SEFEE</td>\n",
       "      <td>Male</td>\n",
       "      <td>No</td>\n",
       "      <td>No</td>\n",
       "      <td>Yes</td>\n",
       "      <td>0</td>\n",
       "      <td>Yes</td>\n",
       "      <td>Yes</td>\n",
       "      <td>DSL</td>\n",
       "      <td>Yes</td>\n",
       "      <td>...</td>\n",
       "      <td>No</td>\n",
       "      <td>Yes</td>\n",
       "      <td>No</td>\n",
       "      <td>No</td>\n",
       "      <td>Two year</td>\n",
       "      <td>Yes</td>\n",
       "      <td>Bank transfer (automatic)</td>\n",
       "      <td>61.90</td>\n",
       "      <td>NaN</td>\n",
       "      <td>No</td>\n",
       "    </tr>\n",
       "  </tbody>\n",
       "</table>\n",
       "<p>11 rows × 21 columns</p>\n",
       "</div>"
      ],
      "text/plain": [
       "      customerID  gender SeniorCitizen Partner Dependents  tenure  \\\n",
       "488   4472-LVYGI  Female            No     Yes        Yes       0   \n",
       "753   3115-CZMZD    Male            No      No        Yes       0   \n",
       "936   5709-LVOEQ  Female            No     Yes        Yes       0   \n",
       "1082  4367-NUYAO    Male            No     Yes        Yes       0   \n",
       "1340  1371-DWPAZ  Female            No     Yes        Yes       0   \n",
       "3331  7644-OMVMY    Male            No     Yes        Yes       0   \n",
       "3826  3213-VVOLG    Male            No     Yes        Yes       0   \n",
       "4380  2520-SGTTA  Female            No     Yes        Yes       0   \n",
       "5218  2923-ARZLG    Male            No     Yes        Yes       0   \n",
       "6670  4075-WKNIU  Female            No     Yes        Yes       0   \n",
       "6754  2775-SEFEE    Male            No      No        Yes       0   \n",
       "\n",
       "     PhoneService     MultipleLines InternetService       OnlineSecurity  ...  \\\n",
       "488            No  No phone service             DSL                  Yes  ...   \n",
       "753           Yes                No              No  No internet service  ...   \n",
       "936           Yes                No             DSL                  Yes  ...   \n",
       "1082          Yes               Yes              No  No internet service  ...   \n",
       "1340           No  No phone service             DSL                  Yes  ...   \n",
       "3331          Yes                No              No  No internet service  ...   \n",
       "3826          Yes               Yes              No  No internet service  ...   \n",
       "4380          Yes                No              No  No internet service  ...   \n",
       "5218          Yes                No              No  No internet service  ...   \n",
       "6670          Yes               Yes             DSL                   No  ...   \n",
       "6754          Yes               Yes             DSL                  Yes  ...   \n",
       "\n",
       "         DeviceProtection          TechSupport          StreamingTV  \\\n",
       "488                   Yes                  Yes                  Yes   \n",
       "753   No internet service  No internet service  No internet service   \n",
       "936                   Yes                   No                  Yes   \n",
       "1082  No internet service  No internet service  No internet service   \n",
       "1340                  Yes                  Yes                  Yes   \n",
       "3331  No internet service  No internet service  No internet service   \n",
       "3826  No internet service  No internet service  No internet service   \n",
       "4380  No internet service  No internet service  No internet service   \n",
       "5218  No internet service  No internet service  No internet service   \n",
       "6670                  Yes                  Yes                  Yes   \n",
       "6754                   No                  Yes                   No   \n",
       "\n",
       "          StreamingMovies  Contract PaperlessBilling  \\\n",
       "488                    No  Two year              Yes   \n",
       "753   No internet service  Two year               No   \n",
       "936                   Yes  Two year               No   \n",
       "1082  No internet service  Two year               No   \n",
       "1340                   No  Two year               No   \n",
       "3331  No internet service  Two year               No   \n",
       "3826  No internet service  Two year               No   \n",
       "4380  No internet service  Two year               No   \n",
       "5218  No internet service  One year              Yes   \n",
       "6670                   No  Two year               No   \n",
       "6754                   No  Two year              Yes   \n",
       "\n",
       "                  PaymentMethod MonthlyCharges  TotalCharges  Churn  \n",
       "488   Bank transfer (automatic)          52.55           NaN     No  \n",
       "753                Mailed check          20.25           NaN     No  \n",
       "936                Mailed check          80.85           NaN     No  \n",
       "1082               Mailed check          25.75           NaN     No  \n",
       "1340    Credit card (automatic)          56.05           NaN     No  \n",
       "3331               Mailed check          19.85           NaN     No  \n",
       "3826               Mailed check          25.35           NaN     No  \n",
       "4380               Mailed check          20.00           NaN     No  \n",
       "5218               Mailed check          19.70           NaN     No  \n",
       "6670               Mailed check          73.35           NaN     No  \n",
       "6754  Bank transfer (automatic)          61.90           NaN     No  \n",
       "\n",
       "[11 rows x 21 columns]"
      ]
     },
     "execution_count": 637,
     "metadata": {},
     "output_type": "execute_result"
    }
   ],
   "source": [
    "data[data.isnull().any(axis=1)]"
   ]
  },
  {
   "cell_type": "markdown",
   "metadata": {},
   "source": [
    "Customer dengan missing value totalcharges berjumlah 11 dan tergolong status churn 'No' yang artinya masih berlangganan. Hampir semua customer tersebut berlangganan dengan contract 'Two Year' dan value tenure semua customer adalah 0. Disini saya artikan tenure 0 adalah masa berlangganan belum sampai 1 bulan. Dengan demikian 11 customer ini merupakan customer yang baru berlangganan. Kita coba cek data dengan tenure value 0 berikut."
   ]
  },
  {
   "cell_type": "code",
   "execution_count": 638,
   "metadata": {},
   "outputs": [
    {
     "data": {
      "text/html": [
       "<div>\n",
       "<style scoped>\n",
       "    .dataframe tbody tr th:only-of-type {\n",
       "        vertical-align: middle;\n",
       "    }\n",
       "\n",
       "    .dataframe tbody tr th {\n",
       "        vertical-align: top;\n",
       "    }\n",
       "\n",
       "    .dataframe thead th {\n",
       "        text-align: right;\n",
       "    }\n",
       "</style>\n",
       "<table border=\"1\" class=\"dataframe\">\n",
       "  <thead>\n",
       "    <tr style=\"text-align: right;\">\n",
       "      <th></th>\n",
       "      <th>customerID</th>\n",
       "      <th>gender</th>\n",
       "      <th>SeniorCitizen</th>\n",
       "      <th>Partner</th>\n",
       "      <th>Dependents</th>\n",
       "      <th>tenure</th>\n",
       "      <th>PhoneService</th>\n",
       "      <th>MultipleLines</th>\n",
       "      <th>InternetService</th>\n",
       "      <th>OnlineSecurity</th>\n",
       "      <th>...</th>\n",
       "      <th>DeviceProtection</th>\n",
       "      <th>TechSupport</th>\n",
       "      <th>StreamingTV</th>\n",
       "      <th>StreamingMovies</th>\n",
       "      <th>Contract</th>\n",
       "      <th>PaperlessBilling</th>\n",
       "      <th>PaymentMethod</th>\n",
       "      <th>MonthlyCharges</th>\n",
       "      <th>TotalCharges</th>\n",
       "      <th>Churn</th>\n",
       "    </tr>\n",
       "  </thead>\n",
       "  <tbody>\n",
       "    <tr>\n",
       "      <th>488</th>\n",
       "      <td>4472-LVYGI</td>\n",
       "      <td>Female</td>\n",
       "      <td>No</td>\n",
       "      <td>Yes</td>\n",
       "      <td>Yes</td>\n",
       "      <td>0</td>\n",
       "      <td>No</td>\n",
       "      <td>No phone service</td>\n",
       "      <td>DSL</td>\n",
       "      <td>Yes</td>\n",
       "      <td>...</td>\n",
       "      <td>Yes</td>\n",
       "      <td>Yes</td>\n",
       "      <td>Yes</td>\n",
       "      <td>No</td>\n",
       "      <td>Two year</td>\n",
       "      <td>Yes</td>\n",
       "      <td>Bank transfer (automatic)</td>\n",
       "      <td>52.55</td>\n",
       "      <td>NaN</td>\n",
       "      <td>No</td>\n",
       "    </tr>\n",
       "    <tr>\n",
       "      <th>753</th>\n",
       "      <td>3115-CZMZD</td>\n",
       "      <td>Male</td>\n",
       "      <td>No</td>\n",
       "      <td>No</td>\n",
       "      <td>Yes</td>\n",
       "      <td>0</td>\n",
       "      <td>Yes</td>\n",
       "      <td>No</td>\n",
       "      <td>No</td>\n",
       "      <td>No internet service</td>\n",
       "      <td>...</td>\n",
       "      <td>No internet service</td>\n",
       "      <td>No internet service</td>\n",
       "      <td>No internet service</td>\n",
       "      <td>No internet service</td>\n",
       "      <td>Two year</td>\n",
       "      <td>No</td>\n",
       "      <td>Mailed check</td>\n",
       "      <td>20.25</td>\n",
       "      <td>NaN</td>\n",
       "      <td>No</td>\n",
       "    </tr>\n",
       "    <tr>\n",
       "      <th>936</th>\n",
       "      <td>5709-LVOEQ</td>\n",
       "      <td>Female</td>\n",
       "      <td>No</td>\n",
       "      <td>Yes</td>\n",
       "      <td>Yes</td>\n",
       "      <td>0</td>\n",
       "      <td>Yes</td>\n",
       "      <td>No</td>\n",
       "      <td>DSL</td>\n",
       "      <td>Yes</td>\n",
       "      <td>...</td>\n",
       "      <td>Yes</td>\n",
       "      <td>No</td>\n",
       "      <td>Yes</td>\n",
       "      <td>Yes</td>\n",
       "      <td>Two year</td>\n",
       "      <td>No</td>\n",
       "      <td>Mailed check</td>\n",
       "      <td>80.85</td>\n",
       "      <td>NaN</td>\n",
       "      <td>No</td>\n",
       "    </tr>\n",
       "    <tr>\n",
       "      <th>1082</th>\n",
       "      <td>4367-NUYAO</td>\n",
       "      <td>Male</td>\n",
       "      <td>No</td>\n",
       "      <td>Yes</td>\n",
       "      <td>Yes</td>\n",
       "      <td>0</td>\n",
       "      <td>Yes</td>\n",
       "      <td>Yes</td>\n",
       "      <td>No</td>\n",
       "      <td>No internet service</td>\n",
       "      <td>...</td>\n",
       "      <td>No internet service</td>\n",
       "      <td>No internet service</td>\n",
       "      <td>No internet service</td>\n",
       "      <td>No internet service</td>\n",
       "      <td>Two year</td>\n",
       "      <td>No</td>\n",
       "      <td>Mailed check</td>\n",
       "      <td>25.75</td>\n",
       "      <td>NaN</td>\n",
       "      <td>No</td>\n",
       "    </tr>\n",
       "    <tr>\n",
       "      <th>1340</th>\n",
       "      <td>1371-DWPAZ</td>\n",
       "      <td>Female</td>\n",
       "      <td>No</td>\n",
       "      <td>Yes</td>\n",
       "      <td>Yes</td>\n",
       "      <td>0</td>\n",
       "      <td>No</td>\n",
       "      <td>No phone service</td>\n",
       "      <td>DSL</td>\n",
       "      <td>Yes</td>\n",
       "      <td>...</td>\n",
       "      <td>Yes</td>\n",
       "      <td>Yes</td>\n",
       "      <td>Yes</td>\n",
       "      <td>No</td>\n",
       "      <td>Two year</td>\n",
       "      <td>No</td>\n",
       "      <td>Credit card (automatic)</td>\n",
       "      <td>56.05</td>\n",
       "      <td>NaN</td>\n",
       "      <td>No</td>\n",
       "    </tr>\n",
       "    <tr>\n",
       "      <th>3331</th>\n",
       "      <td>7644-OMVMY</td>\n",
       "      <td>Male</td>\n",
       "      <td>No</td>\n",
       "      <td>Yes</td>\n",
       "      <td>Yes</td>\n",
       "      <td>0</td>\n",
       "      <td>Yes</td>\n",
       "      <td>No</td>\n",
       "      <td>No</td>\n",
       "      <td>No internet service</td>\n",
       "      <td>...</td>\n",
       "      <td>No internet service</td>\n",
       "      <td>No internet service</td>\n",
       "      <td>No internet service</td>\n",
       "      <td>No internet service</td>\n",
       "      <td>Two year</td>\n",
       "      <td>No</td>\n",
       "      <td>Mailed check</td>\n",
       "      <td>19.85</td>\n",
       "      <td>NaN</td>\n",
       "      <td>No</td>\n",
       "    </tr>\n",
       "    <tr>\n",
       "      <th>3826</th>\n",
       "      <td>3213-VVOLG</td>\n",
       "      <td>Male</td>\n",
       "      <td>No</td>\n",
       "      <td>Yes</td>\n",
       "      <td>Yes</td>\n",
       "      <td>0</td>\n",
       "      <td>Yes</td>\n",
       "      <td>Yes</td>\n",
       "      <td>No</td>\n",
       "      <td>No internet service</td>\n",
       "      <td>...</td>\n",
       "      <td>No internet service</td>\n",
       "      <td>No internet service</td>\n",
       "      <td>No internet service</td>\n",
       "      <td>No internet service</td>\n",
       "      <td>Two year</td>\n",
       "      <td>No</td>\n",
       "      <td>Mailed check</td>\n",
       "      <td>25.35</td>\n",
       "      <td>NaN</td>\n",
       "      <td>No</td>\n",
       "    </tr>\n",
       "    <tr>\n",
       "      <th>4380</th>\n",
       "      <td>2520-SGTTA</td>\n",
       "      <td>Female</td>\n",
       "      <td>No</td>\n",
       "      <td>Yes</td>\n",
       "      <td>Yes</td>\n",
       "      <td>0</td>\n",
       "      <td>Yes</td>\n",
       "      <td>No</td>\n",
       "      <td>No</td>\n",
       "      <td>No internet service</td>\n",
       "      <td>...</td>\n",
       "      <td>No internet service</td>\n",
       "      <td>No internet service</td>\n",
       "      <td>No internet service</td>\n",
       "      <td>No internet service</td>\n",
       "      <td>Two year</td>\n",
       "      <td>No</td>\n",
       "      <td>Mailed check</td>\n",
       "      <td>20.00</td>\n",
       "      <td>NaN</td>\n",
       "      <td>No</td>\n",
       "    </tr>\n",
       "    <tr>\n",
       "      <th>5218</th>\n",
       "      <td>2923-ARZLG</td>\n",
       "      <td>Male</td>\n",
       "      <td>No</td>\n",
       "      <td>Yes</td>\n",
       "      <td>Yes</td>\n",
       "      <td>0</td>\n",
       "      <td>Yes</td>\n",
       "      <td>No</td>\n",
       "      <td>No</td>\n",
       "      <td>No internet service</td>\n",
       "      <td>...</td>\n",
       "      <td>No internet service</td>\n",
       "      <td>No internet service</td>\n",
       "      <td>No internet service</td>\n",
       "      <td>No internet service</td>\n",
       "      <td>One year</td>\n",
       "      <td>Yes</td>\n",
       "      <td>Mailed check</td>\n",
       "      <td>19.70</td>\n",
       "      <td>NaN</td>\n",
       "      <td>No</td>\n",
       "    </tr>\n",
       "    <tr>\n",
       "      <th>6670</th>\n",
       "      <td>4075-WKNIU</td>\n",
       "      <td>Female</td>\n",
       "      <td>No</td>\n",
       "      <td>Yes</td>\n",
       "      <td>Yes</td>\n",
       "      <td>0</td>\n",
       "      <td>Yes</td>\n",
       "      <td>Yes</td>\n",
       "      <td>DSL</td>\n",
       "      <td>No</td>\n",
       "      <td>...</td>\n",
       "      <td>Yes</td>\n",
       "      <td>Yes</td>\n",
       "      <td>Yes</td>\n",
       "      <td>No</td>\n",
       "      <td>Two year</td>\n",
       "      <td>No</td>\n",
       "      <td>Mailed check</td>\n",
       "      <td>73.35</td>\n",
       "      <td>NaN</td>\n",
       "      <td>No</td>\n",
       "    </tr>\n",
       "    <tr>\n",
       "      <th>6754</th>\n",
       "      <td>2775-SEFEE</td>\n",
       "      <td>Male</td>\n",
       "      <td>No</td>\n",
       "      <td>No</td>\n",
       "      <td>Yes</td>\n",
       "      <td>0</td>\n",
       "      <td>Yes</td>\n",
       "      <td>Yes</td>\n",
       "      <td>DSL</td>\n",
       "      <td>Yes</td>\n",
       "      <td>...</td>\n",
       "      <td>No</td>\n",
       "      <td>Yes</td>\n",
       "      <td>No</td>\n",
       "      <td>No</td>\n",
       "      <td>Two year</td>\n",
       "      <td>Yes</td>\n",
       "      <td>Bank transfer (automatic)</td>\n",
       "      <td>61.90</td>\n",
       "      <td>NaN</td>\n",
       "      <td>No</td>\n",
       "    </tr>\n",
       "  </tbody>\n",
       "</table>\n",
       "<p>11 rows × 21 columns</p>\n",
       "</div>"
      ],
      "text/plain": [
       "      customerID  gender SeniorCitizen Partner Dependents  tenure  \\\n",
       "488   4472-LVYGI  Female            No     Yes        Yes       0   \n",
       "753   3115-CZMZD    Male            No      No        Yes       0   \n",
       "936   5709-LVOEQ  Female            No     Yes        Yes       0   \n",
       "1082  4367-NUYAO    Male            No     Yes        Yes       0   \n",
       "1340  1371-DWPAZ  Female            No     Yes        Yes       0   \n",
       "3331  7644-OMVMY    Male            No     Yes        Yes       0   \n",
       "3826  3213-VVOLG    Male            No     Yes        Yes       0   \n",
       "4380  2520-SGTTA  Female            No     Yes        Yes       0   \n",
       "5218  2923-ARZLG    Male            No     Yes        Yes       0   \n",
       "6670  4075-WKNIU  Female            No     Yes        Yes       0   \n",
       "6754  2775-SEFEE    Male            No      No        Yes       0   \n",
       "\n",
       "     PhoneService     MultipleLines InternetService       OnlineSecurity  ...  \\\n",
       "488            No  No phone service             DSL                  Yes  ...   \n",
       "753           Yes                No              No  No internet service  ...   \n",
       "936           Yes                No             DSL                  Yes  ...   \n",
       "1082          Yes               Yes              No  No internet service  ...   \n",
       "1340           No  No phone service             DSL                  Yes  ...   \n",
       "3331          Yes                No              No  No internet service  ...   \n",
       "3826          Yes               Yes              No  No internet service  ...   \n",
       "4380          Yes                No              No  No internet service  ...   \n",
       "5218          Yes                No              No  No internet service  ...   \n",
       "6670          Yes               Yes             DSL                   No  ...   \n",
       "6754          Yes               Yes             DSL                  Yes  ...   \n",
       "\n",
       "         DeviceProtection          TechSupport          StreamingTV  \\\n",
       "488                   Yes                  Yes                  Yes   \n",
       "753   No internet service  No internet service  No internet service   \n",
       "936                   Yes                   No                  Yes   \n",
       "1082  No internet service  No internet service  No internet service   \n",
       "1340                  Yes                  Yes                  Yes   \n",
       "3331  No internet service  No internet service  No internet service   \n",
       "3826  No internet service  No internet service  No internet service   \n",
       "4380  No internet service  No internet service  No internet service   \n",
       "5218  No internet service  No internet service  No internet service   \n",
       "6670                  Yes                  Yes                  Yes   \n",
       "6754                   No                  Yes                   No   \n",
       "\n",
       "          StreamingMovies  Contract PaperlessBilling  \\\n",
       "488                    No  Two year              Yes   \n",
       "753   No internet service  Two year               No   \n",
       "936                   Yes  Two year               No   \n",
       "1082  No internet service  Two year               No   \n",
       "1340                   No  Two year               No   \n",
       "3331  No internet service  Two year               No   \n",
       "3826  No internet service  Two year               No   \n",
       "4380  No internet service  Two year               No   \n",
       "5218  No internet service  One year              Yes   \n",
       "6670                   No  Two year               No   \n",
       "6754                   No  Two year              Yes   \n",
       "\n",
       "                  PaymentMethod MonthlyCharges  TotalCharges  Churn  \n",
       "488   Bank transfer (automatic)          52.55           NaN     No  \n",
       "753                Mailed check          20.25           NaN     No  \n",
       "936                Mailed check          80.85           NaN     No  \n",
       "1082               Mailed check          25.75           NaN     No  \n",
       "1340    Credit card (automatic)          56.05           NaN     No  \n",
       "3331               Mailed check          19.85           NaN     No  \n",
       "3826               Mailed check          25.35           NaN     No  \n",
       "4380               Mailed check          20.00           NaN     No  \n",
       "5218               Mailed check          19.70           NaN     No  \n",
       "6670               Mailed check          73.35           NaN     No  \n",
       "6754  Bank transfer (automatic)          61.90           NaN     No  \n",
       "\n",
       "[11 rows x 21 columns]"
      ]
     },
     "execution_count": 638,
     "metadata": {},
     "output_type": "execute_result"
    }
   ],
   "source": [
    "data[data['tenure'] == 0]"
   ]
  },
  {
   "cell_type": "markdown",
   "metadata": {},
   "source": [
    "Semua customer dengan value tenure 0 merupakan customer yang tidak mempunyai totalcharges. Mungkin saja karena baru berlangganan dan belum sampai satu bulan, maka belum tercatat value totalcharges. Kita tidak mengetahui bagaimana perhitungan totalcharges, namun nampaknya totalcharges bergantung dengan jumlah bulan berlangganan serta beberapa hal lain, seperti pajak, denda keterlamabatan membayar dan sebagainya. Oleh karena itu kita akan set total charges menjadi 0 untuk tenure 0."
   ]
  },
  {
   "cell_type": "code",
   "execution_count": 639,
   "metadata": {},
   "outputs": [],
   "source": [
    "filter_nan = data['tenure'] == 0  #filter untuk missing value data, dimana tenure value 0\n",
    "data.loc[filter_nan,'TotalCharges'] = 0 #set value totalcharges sama dengan monthlycharges pada NaN"
   ]
  },
  {
   "cell_type": "code",
   "execution_count": 640,
   "metadata": {},
   "outputs": [
    {
     "name": "stdout",
     "output_type": "stream",
     "text": [
      "0\n"
     ]
    }
   ],
   "source": [
    "print(np.sum(data.isnull().any())) #Cek jumlah missing value"
   ]
  },
  {
   "cell_type": "markdown",
   "metadata": {},
   "source": [
    "Berikutnya kita coba perhatikan nilai statistik value dari numerical features."
   ]
  },
  {
   "cell_type": "code",
   "execution_count": 641,
   "metadata": {},
   "outputs": [
    {
     "data": {
      "text/html": [
       "<div>\n",
       "<style scoped>\n",
       "    .dataframe tbody tr th:only-of-type {\n",
       "        vertical-align: middle;\n",
       "    }\n",
       "\n",
       "    .dataframe tbody tr th {\n",
       "        vertical-align: top;\n",
       "    }\n",
       "\n",
       "    .dataframe thead th {\n",
       "        text-align: right;\n",
       "    }\n",
       "</style>\n",
       "<table border=\"1\" class=\"dataframe\">\n",
       "  <thead>\n",
       "    <tr style=\"text-align: right;\">\n",
       "      <th></th>\n",
       "      <th>tenure</th>\n",
       "      <th>MonthlyCharges</th>\n",
       "      <th>TotalCharges</th>\n",
       "    </tr>\n",
       "  </thead>\n",
       "  <tbody>\n",
       "    <tr>\n",
       "      <th>count</th>\n",
       "      <td>7043.000000</td>\n",
       "      <td>7043.000000</td>\n",
       "      <td>7043.000000</td>\n",
       "    </tr>\n",
       "    <tr>\n",
       "      <th>mean</th>\n",
       "      <td>32.371149</td>\n",
       "      <td>64.761692</td>\n",
       "      <td>2279.734304</td>\n",
       "    </tr>\n",
       "    <tr>\n",
       "      <th>std</th>\n",
       "      <td>24.559481</td>\n",
       "      <td>30.090047</td>\n",
       "      <td>2266.794470</td>\n",
       "    </tr>\n",
       "    <tr>\n",
       "      <th>min</th>\n",
       "      <td>0.000000</td>\n",
       "      <td>18.250000</td>\n",
       "      <td>0.000000</td>\n",
       "    </tr>\n",
       "    <tr>\n",
       "      <th>25%</th>\n",
       "      <td>9.000000</td>\n",
       "      <td>35.500000</td>\n",
       "      <td>398.550000</td>\n",
       "    </tr>\n",
       "    <tr>\n",
       "      <th>50%</th>\n",
       "      <td>29.000000</td>\n",
       "      <td>70.350000</td>\n",
       "      <td>1394.550000</td>\n",
       "    </tr>\n",
       "    <tr>\n",
       "      <th>75%</th>\n",
       "      <td>55.000000</td>\n",
       "      <td>89.850000</td>\n",
       "      <td>3786.600000</td>\n",
       "    </tr>\n",
       "    <tr>\n",
       "      <th>max</th>\n",
       "      <td>72.000000</td>\n",
       "      <td>118.750000</td>\n",
       "      <td>8684.800000</td>\n",
       "    </tr>\n",
       "  </tbody>\n",
       "</table>\n",
       "</div>"
      ],
      "text/plain": [
       "            tenure  MonthlyCharges  TotalCharges\n",
       "count  7043.000000     7043.000000   7043.000000\n",
       "mean     32.371149       64.761692   2279.734304\n",
       "std      24.559481       30.090047   2266.794470\n",
       "min       0.000000       18.250000      0.000000\n",
       "25%       9.000000       35.500000    398.550000\n",
       "50%      29.000000       70.350000   1394.550000\n",
       "75%      55.000000       89.850000   3786.600000\n",
       "max      72.000000      118.750000   8684.800000"
      ]
     },
     "execution_count": 641,
     "metadata": {},
     "output_type": "execute_result"
    }
   ],
   "source": [
    "data.describe()"
   ]
  },
  {
   "cell_type": "markdown",
   "metadata": {},
   "source": [
    "Terlihat feature SeniorCitizen memiliki minimum value 0 dan maximum value 1 dan hal tersebut wajar karena features tersebut merupakan binary categorical. Feature tenure merupakan berapa lama (in month) customers yang masih tetap berlangganan dan value feature ini memiliki minimum 0 dan maximum 72. Value 0 tenure ini bisa dapat diartikan sebagai customer baru yang bahkan belum sampai satu bulan. Tidak terlihat suatu keanehan value, karena tidak ada negative value, value dalam integer (karena jumlah month), serta tidak terdapat value yang sangat besar. Dimana maximum value 72 atau dapat dijelaskan customers terlama yang berlangganan adalah selama 72 bulan atau 2 tahun. Akan sangat aneh apabila terdapat value tenure yang sangat besar, katakanlah 600 atau 50 tahun. Sedangkan tidak ditemukan value yang aneh pada feature MonthlyCharges dan TotalCharges."
   ]
  },
  {
   "cell_type": "markdown",
   "metadata": {},
   "source": [
    "Untuk memperumudah proses analisis ke depannya, disini akan dirubah nama features column dalam huruf kecil."
   ]
  },
  {
   "cell_type": "code",
   "execution_count": 642,
   "metadata": {},
   "outputs": [],
   "source": [
    "# Set lowercase to columns\n",
    "data.rename(columns= str.lower, inplace=True)"
   ]
  },
  {
   "cell_type": "markdown",
   "metadata": {},
   "source": [
    "Berikutnya kita coba perhatikan value apa saja pada pbject features, mungkin saja terdapat suatu value yang aneh pada object features."
   ]
  },
  {
   "cell_type": "code",
   "execution_count": 643,
   "metadata": {},
   "outputs": [
    {
     "name": "stdout",
     "output_type": "stream",
     "text": [
      "gender ['Female' 'Male']\n",
      "seniorcitizen ['No' 'Yes']\n",
      "partner ['Yes' 'No']\n",
      "dependents ['No' 'Yes']\n",
      "phoneservice ['No' 'Yes']\n",
      "multiplelines ['No phone service' 'No' 'Yes']\n",
      "internetservice ['DSL' 'Fiber optic' 'No']\n",
      "onlinesecurity ['No' 'Yes' 'No internet service']\n",
      "onlinebackup ['Yes' 'No' 'No internet service']\n",
      "deviceprotection ['No' 'Yes' 'No internet service']\n",
      "techsupport ['No' 'Yes' 'No internet service']\n",
      "streamingtv ['No' 'Yes' 'No internet service']\n",
      "streamingmovies ['No' 'Yes' 'No internet service']\n",
      "contract ['Month-to-month' 'One year' 'Two year']\n",
      "paperlessbilling ['Yes' 'No']\n",
      "paymentmethod ['Electronic check' 'Mailed check' 'Bank transfer (automatic)'\n",
      " 'Credit card (automatic)']\n",
      "churn ['No' 'Yes']\n"
     ]
    }
   ],
   "source": [
    "#Print unique value tiap object features\n",
    "for col in data.select_dtypes('object').columns.tolist()[1:]:\n",
    "    print(col, data[col].unique())"
   ]
  },
  {
   "cell_type": "markdown",
   "metadata": {},
   "source": [
    "Terdapat beberapa features di data seperti Online Security memiliki value No dan No internet sercvice. Karena kedua value tersebut memiliki arti yang sama, maka saya akan mengubah value seperti 'No internet sercvice' menjadi 'No'. Hal tersebut juga diterapkan apda features dengan value serupa."
   ]
  },
  {
   "cell_type": "code",
   "execution_count": 644,
   "metadata": {},
   "outputs": [],
   "source": [
    "data['multiplelines'] = data['multiplelines'].replace('No phone service', 'No')\n",
    "data[['onlinesecurity', 'onlinebackup', 'deviceprotection',\n",
    "      'techsupport', 'streamingtv', 'streamingmovies']] = data[['onlinesecurity', 'onlinebackup', \n",
    "                                                                'deviceprotection', 'techsupport', \n",
    "                                                                'streamingtv', 'streamingmovies']].replace('No internet service', 'No')"
   ]
  },
  {
   "cell_type": "markdown",
   "metadata": {},
   "source": [
    "Selanjutnya kita akan drop column 'customerid', karena dirasa tidak diperlukan dalam analisis kedepannya."
   ]
  },
  {
   "cell_type": "code",
   "execution_count": 645,
   "metadata": {},
   "outputs": [],
   "source": [
    "data.drop('customerid',axis=1,inplace=True)"
   ]
  },
  {
   "cell_type": "markdown",
   "metadata": {},
   "source": [
    "# 4 - Exploratory Data Analysis (EDA)"
   ]
  },
  {
   "cell_type": "markdown",
   "metadata": {},
   "source": [
    "Pertama kita coba tinjau target output 'churn', dimana value feature ini menjelaskan apakah customer berhenti berlangganan atau tidak pada bulan terakhir."
   ]
  },
  {
   "cell_type": "code",
   "execution_count": 646,
   "metadata": {},
   "outputs": [
    {
     "data": {
      "text/plain": [
       "<AxesSubplot:xlabel='churn', ylabel='count'>"
      ]
     },
     "execution_count": 646,
     "metadata": {},
     "output_type": "execute_result"
    },
    {
     "data": {
      "image/png": "[encoded data removed]",
      "text/plain": [
       "<Figure size 432x288 with 1 Axes>"
      ]
     },
     "metadata": {
      "needs_background": "light"
     },
     "output_type": "display_data"
    }
   ],
   "source": [
    "sns.countplot(x='churn',data=data)"
   ]
  },
  {
   "cell_type": "markdown",
   "metadata": {},
   "source": [
    "Dapat dilihat kebanyakan customer masih bertahan pada bulan terakhir yaitu sekitar 5000 customer, sedangkan terdapat sekitar 1800 customer yang berhenti berlangganan dalam bulan terakhir yang mana cukup terbilang banyak."
   ]
  },
  {
   "cell_type": "markdown",
   "metadata": {},
   "source": [
    "Kita coba tinjau melihat berapa banyak jumlah male dan female beserta churned atau tidaknya."
   ]
  },
  {
   "cell_type": "code",
   "execution_count": 647,
   "metadata": {},
   "outputs": [
    {
     "data": {
      "text/plain": [
       "<AxesSubplot:xlabel='gender', ylabel='count'>"
      ]
     },
     "execution_count": 647,
     "metadata": {},
     "output_type": "execute_result"
    },
    {
     "data": {
      "image/png": "[encoded data removed]",
      "text/plain": [
       "<Figure size 432x288 with 1 Axes>"
      ]
     },
     "metadata": {
      "needs_background": "light"
     },
     "output_type": "display_data"
    }
   ],
   "source": [
    "sns.countplot(x='gender',data=data, hue='churn')"
   ]
  },
  {
   "cell_type": "markdown",
   "metadata": {},
   "source": [
    "Dapat dilihat proporsi customer female dan male hampir sama baik yang masih berlangganan maupun yang tidak."
   ]
  },
  {
   "cell_type": "code",
   "execution_count": 648,
   "metadata": {},
   "outputs": [
    {
     "data": {
      "text/plain": [
       "Text(0.5, 1.0, 'Senior Citizen and Churn')"
      ]
     },
     "execution_count": 648,
     "metadata": {},
     "output_type": "execute_result"
    },
    {
     "data": {
      "image/png": "[encoded data removed]",
      "text/plain": [
       "<Figure size 864x360 with 2 Axes>"
      ]
     },
     "metadata": {
      "needs_background": "light"
     },
     "output_type": "display_data"
    }
   ],
   "source": [
    "plt.figure(figsize=(12,5))\n",
    "plt.subplot(1,2,1)\n",
    "sns.countplot(x='seniorcitizen',hue='gender',data=data,palette='Set1')\n",
    "plt.title('Senior Citizen and Gender')\n",
    "plt.subplot(1,2,2)\n",
    "sns.countplot(x='seniorcitizen',hue='churn',data=data)\n",
    "plt.title('Senior Citizen and Churn')"
   ]
  },
  {
   "cell_type": "markdown",
   "metadata": {},
   "source": [
    "Dari gambar di atas terlihat sedikit proporsi senior citizen yang berlangganan baik female maupun male. Selain itu proporsi senior citizen yang berhenti berlangganan hampir menyamai proporsi senior citizen yang berlangganan. Bisa jadi senior citizen merupakan orang yang sudah tua ataupun di masa pensiun merasa tidak memerlukan berbagai fasilitas telekomunikasi, jaringan internet dan sebagainya."
   ]
  },
  {
   "cell_type": "code",
   "execution_count": 649,
   "metadata": {},
   "outputs": [
    {
     "data": {
      "text/plain": [
       "Text(0.5, 1.0, 'Churn = No')"
      ]
     },
     "execution_count": 649,
     "metadata": {},
     "output_type": "execute_result"
    },
    {
     "data": {
      "image/png": "[encoded data removed]",
      "text/plain": [
       "<Figure size 864x360 with 2 Axes>"
      ]
     },
     "metadata": {
      "needs_background": "light"
     },
     "output_type": "display_data"
    }
   ],
   "source": [
    "plt.figure(figsize=(12,5))\n",
    "plt.subplot(1,2,1)\n",
    "sns.histplot(x = 'tenure',data=data[data['churn'] == 'Yes'],stat='density',color='red',kde=True)\n",
    "plt.title('Churn = Yes')\n",
    "plt.subplot(1,2,2)\n",
    "sns.histplot(x = 'tenure',data=data[data['churn'] == 'No'],stat='density',color='green',kde=True)\n",
    "plt.title('Churn = No')"
   ]
  },
  {
   "cell_type": "markdown",
   "metadata": {},
   "source": [
    "Dari sini kita bisa melihat bahwa kebanyakan customer yang berhenti berlangganan dalam bulan terakhir memiliki masa berlangganan (tenure) dengan value dibawah 5 bulan, atau dapat dikatakan banyak customer dibawah 5 bulang yang berhenti berlangganan pada bulan terakhir. Sedangkan proporsi terbesar customer yang masih berlangganan berada pada value tenure sekitar 70, atau dapat dikatakan kebanyakan customer yang masih berlangganan adalah customer lama yang sudah berlangganan selama sekitar 70 bulan atau sekitar 2 tahun. Hal tersebut perlu diselidiki lagi, mengapa banyak customer baru yang berhenti berlangganan."
   ]
  },
  {
   "cell_type": "markdown",
   "metadata": {},
   "source": [
    "Kita coba tinjau banyaknya customer yang berhenti berlangganan dari berbagai service digunakan."
   ]
  },
  {
   "cell_type": "code",
   "execution_count": 650,
   "metadata": {},
   "outputs": [
    {
     "data": {
      "text/plain": [
       "<AxesSubplot:xlabel='streamingmovies', ylabel='count'>"
      ]
     },
     "execution_count": 650,
     "metadata": {},
     "output_type": "execute_result"
    },
    {
     "data": {
      "image/png": "[encoded data removed]",
      "text/plain": [
       "<Figure size 1080x720 with 9 Axes>"
      ]
     },
     "metadata": {
      "needs_background": "light"
     },
     "output_type": "display_data"
    }
   ],
   "source": [
    "# Plot jumlah customer yang berhenti berlangganan atau tidak terhadap masing-masing jenis layanan\n",
    "plt.figure(figsize=(15,10))\n",
    "plt.subplot(3,3,1)\n",
    "sns.countplot(x='phoneservice',hue='churn',data=data)\n",
    "plt.subplot(3,3,2)\n",
    "sns.countplot(x='multiplelines',hue='churn',data=data)\n",
    "plt.subplot(3,3,3)\n",
    "sns.countplot(x='internetservice',hue='churn',data=data)\n",
    "plt.subplot(3,3,4)\n",
    "sns.countplot(x='onlinesecurity',hue='churn',data=data)\n",
    "plt.subplot(3,3,5)\n",
    "sns.countplot(x='onlinebackup',hue='churn',data=data)\n",
    "plt.subplot(3,3,6)\n",
    "sns.countplot(x='deviceprotection',hue='churn',data=data)\n",
    "plt.subplot(3,3,7)\n",
    "sns.countplot(x='techsupport',hue='churn',data=data)\n",
    "plt.subplot(3,3,8)\n",
    "sns.countplot(x='streamingtv',hue='churn',data=data)\n",
    "plt.subplot(3,3,9)\n",
    "sns.countplot(x='streamingmovies',hue='churn',data=data)"
   ]
  },
  {
   "cell_type": "markdown",
   "metadata": {},
   "source": [
    "Disini kita fokuskan pada customer yang berhenti berlangganan (barchart warna orange). Berdasarkan internet service, kebanyakan customer yang berhenti berlangganan sekitar 1300 customer adalah customer yang mengikuti layanan fiber optic. Selain itu pada phoneservicel, terdapat sekitar 1700 customer yang berhenti berlangganan pada bulan terakhir. Kedua jumlah tersebut cukup besar, mengingat total customer yang berhenti berlangganan dalam bulan terakhir sebanyak 1800. Perlu diselidiki lebih lanjut mengenai dua layanan tersebut dan pengaruhnya terhadap keputusan customer yang berhenti berlangganan."
   ]
  },
  {
   "cell_type": "markdown",
   "metadata": {},
   "source": [
    "Berikutnya kita coba banyaknya customer yang berhenti berlangganan atau tidak dengan meninjau features 'contract', 'paperlessbilling', dan 'paymentmethod'."
   ]
  },
  {
   "cell_type": "code",
   "execution_count": 651,
   "metadata": {},
   "outputs": [
    {
     "data": {
      "text/plain": [
       "<AxesSubplot:xlabel='paymentmethod', ylabel='count'>"
      ]
     },
     "execution_count": 651,
     "metadata": {},
     "output_type": "execute_result"
    },
    {
     "data": {
      "image/png": "[encoded data removed]",
      "text/plain": [
       "<Figure size 1440x576 with 3 Axes>"
      ]
     },
     "metadata": {
      "needs_background": "light"
     },
     "output_type": "display_data"
    }
   ],
   "source": [
    "# Plot jumlah customer yang berhenti berlangganan atau tidak terhadap masing-masing jenis layanan\n",
    "plt.figure(figsize=(20,8))\n",
    "plt.subplot(2,2,1)\n",
    "sns.countplot(x='contract',hue='churn',data=data)\n",
    "plt.subplot(2,2,2)\n",
    "sns.countplot(x='paperlessbilling',hue='churn',data=data)\n",
    "plt.subplot(2,2,3)\n",
    "sns.countplot(x='paymentmethod',hue='churn',data=data)"
   ]
  },
  {
   "cell_type": "markdown",
   "metadata": {},
   "source": [
    "Berdasarkan jenis contract, kebanyakan customer yang berhenti berlangganan adalah dengan 'Month-to-month' contract. Hal tersebut wajar, karena kontrak hanya satu bulan sehingga customer mungkin hanya mau mencoba berlangganan dan berpaling ke provider lain yang mungkin lebih baik atau mengadakan potongan harga (promo). Selain itu banyak customer yang berhenti berlangganan dengan paperless billing dan metode pembayaran electronic check. Bisa jadi terdapat masalah pada dua hal tersebut yang mengakibatkan customer berhenti berlangganan."
   ]
  },
  {
   "cell_type": "code",
   "execution_count": 652,
   "metadata": {},
   "outputs": [
    {
     "data": {
      "text/plain": [
       "Text(0.5, 1.0, 'Churn = No')"
      ]
     },
     "execution_count": 652,
     "metadata": {},
     "output_type": "execute_result"
    },
    {
     "data": {
      "image/png": "[encoded data removed]",
      "text/plain": [
       "<Figure size 864x864 with 4 Axes>"
      ]
     },
     "metadata": {
      "needs_background": "light"
     },
     "output_type": "display_data"
    }
   ],
   "source": [
    "# Perbandinga value monthlycahrges dan totalcharges berdasarkan status churn customer\n",
    "plt.figure(figsize=(12,12))\n",
    "plt.subplot(2,2,1)\n",
    "sns.histplot(x = 'monthlycharges',data=data[data['churn'] == 'Yes'],stat='density',color='red',kde=True)\n",
    "plt.title('Churn = Yes')\n",
    "plt.subplot(2,2,2)\n",
    "sns.histplot(x = 'monthlycharges',data=data[data['churn'] == 'No'],stat='density',color='green',kde=True)\n",
    "plt.title('Churn = No')\n",
    "plt.subplot(2,2,3)\n",
    "sns.histplot(x = 'totalcharges',data=data[data['churn'] == 'Yes'],stat='density',color='red',kde=True)\n",
    "plt.title('Churn = Yes')\n",
    "plt.subplot(2,2,4)\n",
    "sns.histplot(x = 'totalcharges',data=data[data['churn'] == 'No'],stat='density',color='green',kde=True)\n",
    "plt.title('Churn = No')"
   ]
  },
  {
   "cell_type": "markdown",
   "metadata": {},
   "source": [
    "Hal yang terlihat jelas disini adalah pada monthly charges. Kebayakan customer yang berhenti berlangganan adalah customer dengan monthlycharges value 70-110 (asumsi dalam USD). Berbeda pada customer yang masih loyal dengan proporsi terbanyak monthlycharges value 20. Dari sini dapat dikatakan kebanyakan customer yang masih loyal adalah customer dengan monthlycharges yang sedikit, sedangkan customer yang berhenti berlangganan mungkin merasa biaya yang dikenakan cukup mahal atas layanan yang diberikan."
   ]
  },
  {
   "cell_type": "markdown",
   "metadata": {},
   "source": [
    "Untuk memudahkan analisis berikutnya, value target churn akan kita ubah ke bentuk binary numeric."
   ]
  },
  {
   "cell_type": "code",
   "execution_count": 653,
   "metadata": {},
   "outputs": [],
   "source": [
    "data['churn'].replace({'No':0,'Yes':1}, inplace=True)"
   ]
  },
  {
   "cell_type": "markdown",
   "metadata": {},
   "source": [
    "# 5 - Data Preprocessing"
   ]
  },
  {
   "cell_type": "markdown",
   "metadata": {},
   "source": [
    "## Get Data for Model Inference"
   ]
  },
  {
   "cell_type": "code",
   "execution_count": 654,
   "metadata": {},
   "outputs": [
    {
     "data": {
      "text/html": [
       "<div>\n",
       "<style scoped>\n",
       "    .dataframe tbody tr th:only-of-type {\n",
       "        vertical-align: middle;\n",
       "    }\n",
       "\n",
       "    .dataframe tbody tr th {\n",
       "        vertical-align: top;\n",
       "    }\n",
       "\n",
       "    .dataframe thead th {\n",
       "        text-align: right;\n",
       "    }\n",
       "</style>\n",
       "<table border=\"1\" class=\"dataframe\">\n",
       "  <thead>\n",
       "    <tr style=\"text-align: right;\">\n",
       "      <th></th>\n",
       "      <th>gender</th>\n",
       "      <th>seniorcitizen</th>\n",
       "      <th>partner</th>\n",
       "      <th>dependents</th>\n",
       "      <th>tenure</th>\n",
       "      <th>phoneservice</th>\n",
       "      <th>multiplelines</th>\n",
       "      <th>internetservice</th>\n",
       "      <th>onlinesecurity</th>\n",
       "      <th>onlinebackup</th>\n",
       "      <th>deviceprotection</th>\n",
       "      <th>techsupport</th>\n",
       "      <th>streamingtv</th>\n",
       "      <th>streamingmovies</th>\n",
       "      <th>contract</th>\n",
       "      <th>paperlessbilling</th>\n",
       "      <th>paymentmethod</th>\n",
       "      <th>monthlycharges</th>\n",
       "      <th>totalcharges</th>\n",
       "      <th>churn</th>\n",
       "    </tr>\n",
       "  </thead>\n",
       "  <tbody>\n",
       "    <tr>\n",
       "      <th>3616</th>\n",
       "      <td>Female</td>\n",
       "      <td>Yes</td>\n",
       "      <td>Yes</td>\n",
       "      <td>No</td>\n",
       "      <td>69</td>\n",
       "      <td>Yes</td>\n",
       "      <td>No</td>\n",
       "      <td>Fiber optic</td>\n",
       "      <td>Yes</td>\n",
       "      <td>Yes</td>\n",
       "      <td>No</td>\n",
       "      <td>No</td>\n",
       "      <td>No</td>\n",
       "      <td>Yes</td>\n",
       "      <td>One year</td>\n",
       "      <td>No</td>\n",
       "      <td>Credit card (automatic)</td>\n",
       "      <td>87.30</td>\n",
       "      <td>6055.55</td>\n",
       "      <td>0</td>\n",
       "    </tr>\n",
       "    <tr>\n",
       "      <th>2055</th>\n",
       "      <td>Male</td>\n",
       "      <td>No</td>\n",
       "      <td>No</td>\n",
       "      <td>No</td>\n",
       "      <td>45</td>\n",
       "      <td>Yes</td>\n",
       "      <td>Yes</td>\n",
       "      <td>Fiber optic</td>\n",
       "      <td>Yes</td>\n",
       "      <td>No</td>\n",
       "      <td>Yes</td>\n",
       "      <td>Yes</td>\n",
       "      <td>Yes</td>\n",
       "      <td>Yes</td>\n",
       "      <td>Month-to-month</td>\n",
       "      <td>Yes</td>\n",
       "      <td>Credit card (automatic)</td>\n",
       "      <td>108.45</td>\n",
       "      <td>4964.70</td>\n",
       "      <td>0</td>\n",
       "    </tr>\n",
       "    <tr>\n",
       "      <th>5394</th>\n",
       "      <td>Female</td>\n",
       "      <td>No</td>\n",
       "      <td>Yes</td>\n",
       "      <td>No</td>\n",
       "      <td>48</td>\n",
       "      <td>Yes</td>\n",
       "      <td>Yes</td>\n",
       "      <td>Fiber optic</td>\n",
       "      <td>No</td>\n",
       "      <td>Yes</td>\n",
       "      <td>No</td>\n",
       "      <td>Yes</td>\n",
       "      <td>Yes</td>\n",
       "      <td>Yes</td>\n",
       "      <td>Month-to-month</td>\n",
       "      <td>Yes</td>\n",
       "      <td>Credit card (automatic)</td>\n",
       "      <td>105.10</td>\n",
       "      <td>5083.55</td>\n",
       "      <td>0</td>\n",
       "    </tr>\n",
       "    <tr>\n",
       "      <th>3697</th>\n",
       "      <td>Female</td>\n",
       "      <td>No</td>\n",
       "      <td>Yes</td>\n",
       "      <td>Yes</td>\n",
       "      <td>32</td>\n",
       "      <td>Yes</td>\n",
       "      <td>Yes</td>\n",
       "      <td>Fiber optic</td>\n",
       "      <td>Yes</td>\n",
       "      <td>No</td>\n",
       "      <td>No</td>\n",
       "      <td>No</td>\n",
       "      <td>Yes</td>\n",
       "      <td>No</td>\n",
       "      <td>Month-to-month</td>\n",
       "      <td>No</td>\n",
       "      <td>Electronic check</td>\n",
       "      <td>89.60</td>\n",
       "      <td>2901.80</td>\n",
       "      <td>0</td>\n",
       "    </tr>\n",
       "    <tr>\n",
       "      <th>2516</th>\n",
       "      <td>Female</td>\n",
       "      <td>Yes</td>\n",
       "      <td>No</td>\n",
       "      <td>No</td>\n",
       "      <td>16</td>\n",
       "      <td>Yes</td>\n",
       "      <td>Yes</td>\n",
       "      <td>Fiber optic</td>\n",
       "      <td>No</td>\n",
       "      <td>No</td>\n",
       "      <td>No</td>\n",
       "      <td>No</td>\n",
       "      <td>Yes</td>\n",
       "      <td>Yes</td>\n",
       "      <td>Month-to-month</td>\n",
       "      <td>Yes</td>\n",
       "      <td>Electronic check</td>\n",
       "      <td>96.40</td>\n",
       "      <td>1581.20</td>\n",
       "      <td>1</td>\n",
       "    </tr>\n",
       "    <tr>\n",
       "      <th>6368</th>\n",
       "      <td>Male</td>\n",
       "      <td>Yes</td>\n",
       "      <td>No</td>\n",
       "      <td>No</td>\n",
       "      <td>2</td>\n",
       "      <td>Yes</td>\n",
       "      <td>Yes</td>\n",
       "      <td>Fiber optic</td>\n",
       "      <td>No</td>\n",
       "      <td>No</td>\n",
       "      <td>No</td>\n",
       "      <td>No</td>\n",
       "      <td>Yes</td>\n",
       "      <td>Yes</td>\n",
       "      <td>Month-to-month</td>\n",
       "      <td>Yes</td>\n",
       "      <td>Electronic check</td>\n",
       "      <td>94.00</td>\n",
       "      <td>181.70</td>\n",
       "      <td>1</td>\n",
       "    </tr>\n",
       "    <tr>\n",
       "      <th>4183</th>\n",
       "      <td>Male</td>\n",
       "      <td>No</td>\n",
       "      <td>No</td>\n",
       "      <td>Yes</td>\n",
       "      <td>1</td>\n",
       "      <td>No</td>\n",
       "      <td>No</td>\n",
       "      <td>DSL</td>\n",
       "      <td>No</td>\n",
       "      <td>Yes</td>\n",
       "      <td>No</td>\n",
       "      <td>Yes</td>\n",
       "      <td>No</td>\n",
       "      <td>No</td>\n",
       "      <td>Month-to-month</td>\n",
       "      <td>No</td>\n",
       "      <td>Mailed check</td>\n",
       "      <td>33.60</td>\n",
       "      <td>33.60</td>\n",
       "      <td>0</td>\n",
       "    </tr>\n",
       "    <tr>\n",
       "      <th>3543</th>\n",
       "      <td>Male</td>\n",
       "      <td>No</td>\n",
       "      <td>Yes</td>\n",
       "      <td>No</td>\n",
       "      <td>72</td>\n",
       "      <td>Yes</td>\n",
       "      <td>Yes</td>\n",
       "      <td>Fiber optic</td>\n",
       "      <td>Yes</td>\n",
       "      <td>Yes</td>\n",
       "      <td>Yes</td>\n",
       "      <td>Yes</td>\n",
       "      <td>No</td>\n",
       "      <td>Yes</td>\n",
       "      <td>Two year</td>\n",
       "      <td>No</td>\n",
       "      <td>Bank transfer (automatic)</td>\n",
       "      <td>105.60</td>\n",
       "      <td>7581.50</td>\n",
       "      <td>0</td>\n",
       "    </tr>\n",
       "    <tr>\n",
       "      <th>6674</th>\n",
       "      <td>Male</td>\n",
       "      <td>No</td>\n",
       "      <td>No</td>\n",
       "      <td>No</td>\n",
       "      <td>7</td>\n",
       "      <td>Yes</td>\n",
       "      <td>Yes</td>\n",
       "      <td>No</td>\n",
       "      <td>No</td>\n",
       "      <td>No</td>\n",
       "      <td>No</td>\n",
       "      <td>No</td>\n",
       "      <td>No</td>\n",
       "      <td>No</td>\n",
       "      <td>Month-to-month</td>\n",
       "      <td>No</td>\n",
       "      <td>Mailed check</td>\n",
       "      <td>23.50</td>\n",
       "      <td>173.00</td>\n",
       "      <td>0</td>\n",
       "    </tr>\n",
       "    <tr>\n",
       "      <th>1893</th>\n",
       "      <td>Male</td>\n",
       "      <td>No</td>\n",
       "      <td>No</td>\n",
       "      <td>Yes</td>\n",
       "      <td>16</td>\n",
       "      <td>Yes</td>\n",
       "      <td>Yes</td>\n",
       "      <td>DSL</td>\n",
       "      <td>Yes</td>\n",
       "      <td>Yes</td>\n",
       "      <td>No</td>\n",
       "      <td>No</td>\n",
       "      <td>No</td>\n",
       "      <td>Yes</td>\n",
       "      <td>Month-to-month</td>\n",
       "      <td>Yes</td>\n",
       "      <td>Electronic check</td>\n",
       "      <td>69.10</td>\n",
       "      <td>1083.70</td>\n",
       "      <td>0</td>\n",
       "    </tr>\n",
       "  </tbody>\n",
       "</table>\n",
       "</div>"
      ],
      "text/plain": [
       "      gender seniorcitizen partner dependents  tenure phoneservice  \\\n",
       "3616  Female           Yes     Yes         No      69          Yes   \n",
       "2055    Male            No      No         No      45          Yes   \n",
       "5394  Female            No     Yes         No      48          Yes   \n",
       "3697  Female            No     Yes        Yes      32          Yes   \n",
       "2516  Female           Yes      No         No      16          Yes   \n",
       "6368    Male           Yes      No         No       2          Yes   \n",
       "4183    Male            No      No        Yes       1           No   \n",
       "3543    Male            No     Yes         No      72          Yes   \n",
       "6674    Male            No      No         No       7          Yes   \n",
       "1893    Male            No      No        Yes      16          Yes   \n",
       "\n",
       "     multiplelines internetservice onlinesecurity onlinebackup  \\\n",
       "3616            No     Fiber optic            Yes          Yes   \n",
       "2055           Yes     Fiber optic            Yes           No   \n",
       "5394           Yes     Fiber optic             No          Yes   \n",
       "3697           Yes     Fiber optic            Yes           No   \n",
       "2516           Yes     Fiber optic             No           No   \n",
       "6368           Yes     Fiber optic             No           No   \n",
       "4183            No             DSL             No          Yes   \n",
       "3543           Yes     Fiber optic            Yes          Yes   \n",
       "6674           Yes              No             No           No   \n",
       "1893           Yes             DSL            Yes          Yes   \n",
       "\n",
       "     deviceprotection techsupport streamingtv streamingmovies        contract  \\\n",
       "3616               No          No          No             Yes        One year   \n",
       "2055              Yes         Yes         Yes             Yes  Month-to-month   \n",
       "5394               No         Yes         Yes             Yes  Month-to-month   \n",
       "3697               No          No         Yes              No  Month-to-month   \n",
       "2516               No          No         Yes             Yes  Month-to-month   \n",
       "6368               No          No         Yes             Yes  Month-to-month   \n",
       "4183               No         Yes          No              No  Month-to-month   \n",
       "3543              Yes         Yes          No             Yes        Two year   \n",
       "6674               No          No          No              No  Month-to-month   \n",
       "1893               No          No          No             Yes  Month-to-month   \n",
       "\n",
       "     paperlessbilling              paymentmethod  monthlycharges  \\\n",
       "3616               No    Credit card (automatic)           87.30   \n",
       "2055              Yes    Credit card (automatic)          108.45   \n",
       "5394              Yes    Credit card (automatic)          105.10   \n",
       "3697               No           Electronic check           89.60   \n",
       "2516              Yes           Electronic check           96.40   \n",
       "6368              Yes           Electronic check           94.00   \n",
       "4183               No               Mailed check           33.60   \n",
       "3543               No  Bank transfer (automatic)          105.60   \n",
       "6674               No               Mailed check           23.50   \n",
       "1893              Yes           Electronic check           69.10   \n",
       "\n",
       "      totalcharges  churn  \n",
       "3616       6055.55      0  \n",
       "2055       4964.70      0  \n",
       "5394       5083.55      0  \n",
       "3697       2901.80      0  \n",
       "2516       1581.20      1  \n",
       "6368        181.70      1  \n",
       "4183         33.60      0  \n",
       "3543       7581.50      0  \n",
       "6674        173.00      0  \n",
       "1893       1083.70      0  "
      ]
     },
     "execution_count": 654,
     "metadata": {},
     "output_type": "execute_result"
    }
   ],
   "source": [
    "# Get Data for Model Inference\n",
    "\n",
    "data_inf = data.sample(10, random_state=17)\n",
    "data_inf"
   ]
  },
  {
   "cell_type": "markdown",
   "metadata": {},
   "source": [
    "Berikutnya kita akan remove titik point data inference dari dataset dan reset index pada kedua data."
   ]
  },
  {
   "cell_type": "code",
   "execution_count": 655,
   "metadata": {},
   "outputs": [],
   "source": [
    "# Remove Inference-Set from Dataset\n",
    "\n",
    "data_train_test = data.drop(data_inf.index)\n",
    "\n",
    "# Reset Index \n",
    "data_train_test.reset_index(drop=True, inplace=True) \n",
    "data_inf.reset_index(drop=True, inplace=True)"
   ]
  },
  {
   "cell_type": "markdown",
   "metadata": {},
   "source": [
    "## Splitting between **X** (Features) and **y** (Target)"
   ]
  },
  {
   "cell_type": "code",
   "execution_count": 656,
   "metadata": {},
   "outputs": [],
   "source": [
    "X = data_train_test.drop('churn',axis=1)\n",
    "y = data_train_test['churn']"
   ]
  },
  {
   "cell_type": "markdown",
   "metadata": {},
   "source": [
    "## Split between Train-Set, Validation-set, and Test-Set"
   ]
  },
  {
   "cell_type": "markdown",
   "metadata": {},
   "source": [
    "Kita akan split data menjadi data train dan data test, dengan porsi 20% untuk data test dan 80% untuk data train."
   ]
  },
  {
   "cell_type": "code",
   "execution_count": 657,
   "metadata": {},
   "outputs": [
    {
     "name": "stdout",
     "output_type": "stream",
     "text": [
      "Train Size :  (4500, 19)\n",
      "Validation Size :  (1126, 19)\n",
      "Test Size  :  (1407, 19)\n"
     ]
    }
   ],
   "source": [
    "# Split between Train-Set and Test-Set\n",
    "\n",
    "X_train_full, X_test, y_train_full, y_test = train_test_split(X, y, test_size=0.2, random_state=17)\n",
    "X_train, X_val, y_train, y_val = train_test_split(X_train_full,\n",
    "                                                  y_train_full,\n",
    "                                                  shuffle=True, test_size=0.2)\n",
    "\n",
    "print('Train Size : ', X_train.shape)\n",
    "print('Validation Size : ', X_val.shape)\n",
    "print('Test Size  : ', X_test.shape)"
   ]
  },
  {
   "cell_type": "markdown",
   "metadata": {},
   "source": [
    "Karena pada data sebelumnya tidak ditemukan missing values, maka selanjutnya kita akan coba cek outliers pada data train."
   ]
  },
  {
   "cell_type": "markdown",
   "metadata": {},
   "source": [
    "## Handling Outliers"
   ]
  },
  {
   "cell_type": "markdown",
   "metadata": {},
   "source": [
    "Kita coba cek apakah terdapat outliers pada numeric features 'tenure','monthlycharges', dan 'totalcharges' dengan melihat distribusi value masing-masing feature."
   ]
  },
  {
   "cell_type": "code",
   "execution_count": 658,
   "metadata": {},
   "outputs": [
    {
     "data": {
      "image/png": "[encoded data removed]",
      "text/plain": [
       "<Figure size 1080x360 with 2 Axes>"
      ]
     },
     "metadata": {
      "needs_background": "light"
     },
     "output_type": "display_data"
    },
    {
     "data": {
      "image/png": "[encoded data removed]",
      "text/plain": [
       "<Figure size 1080x360 with 2 Axes>"
      ]
     },
     "metadata": {
      "needs_background": "light"
     },
     "output_type": "display_data"
    },
    {
     "data": {
      "image/png": "[encoded data removed]",
      "text/plain": [
       "<Figure size 1080x360 with 2 Axes>"
      ]
     },
     "metadata": {
      "needs_background": "light"
     },
     "output_type": "display_data"
    }
   ],
   "source": [
    "num_cols = ['tenure','monthlycharges','totalcharges'] #Define numerical column\n",
    "# Plot histogram and boxplot for each feature in num_cols\n",
    "for col in num_cols:\n",
    "    plt.figure(figsize=(15,5))\n",
    "    plt.subplot(1,2,1)\n",
    "    sns.histplot(x = col, data = X_train, stat='density',kde=True)\n",
    "    \n",
    "    plt.subplot(1,2,2)\n",
    "    sns.boxplot(x=col, data=X_train)\n",
    "    plt.show()"
   ]
  },
  {
   "cell_type": "markdown",
   "metadata": {},
   "source": [
    "Berdasarkan histogram dan boxplot tiap feature diatas, tidak terlihat adanya outliers pada data train."
   ]
  },
  {
   "cell_type": "markdown",
   "metadata": {},
   "source": [
    "## Feature Scaling dan Encoding"
   ]
  },
  {
   "cell_type": "markdown",
   "metadata": {},
   "source": [
    "Terdapat feature ordinal seperti 'internetservice' dan 'contract', dimana terdapat suatu urutan pada value features tersebut. Maka kedua features tersebut akan diterapkan OrdinalEncoder. Sedangkan untuk binary column features seperti gender, partner dsb juga akan diterapkan OrdinalEncoder, meskipun sebenarnya dapat dilakukan dengan LabelEncoder namun LabelEncoder menerima input suatu series single column yang tidak dapat dipadukan pada ColumnTransformer. Setelah semua feature telah menjadi suatu bilangan, setelahnya akan dilakukan scaling dengan StandardScaler."
   ]
  },
  {
   "cell_type": "code",
   "execution_count": 659,
   "metadata": {},
   "outputs": [],
   "source": [
    "num_cols = ['tenure','monthlycharges','totalcharges'] #Define numerical column\n",
    "ordinal_cols = ['internetservice','contract'] # Define ordinal columns \n",
    "#Define binary columns\n",
    "bin_cols = ['gender','seniorcitizen','partner','dependents','phoneservice','multiplelines','onlinesecurity',\n",
    "            'onlinebackup','deviceprotection','techsupport','streamingtv','streamingmovies','paperlessbilling']\n",
    "nom_cols = ['paymentmethod']        "
   ]
  },
  {
   "cell_type": "code",
   "execution_count": 660,
   "metadata": {},
   "outputs": [],
   "source": [
    "# Define process in columntransformer and add it into final preprocessing pipeline\n",
    "preprocessing = ColumnTransformer([\n",
    "    ('label',OrdinalEncoder(),bin_cols),\n",
    "    ('ordinal', OrdinalEncoder(categories=[['No', 'DSL', 'Fiber optic'],\n",
    "                                     ['Month-to-month', 'One year', 'Two year']]),ordinal_cols),\n",
    "    ('nominal', OneHotEncoder(),nom_cols),\n",
    "])\n",
    "final_preprocess = make_pipeline(preprocessing,StandardScaler())"
   ]
  },
  {
   "cell_type": "markdown",
   "metadata": {},
   "source": [
    "setelahnya kita fit semua process tersebut dalam pipeline terhadap X_train, dan selanjutnya juga diterapkan transform pada X_val dan X_test."
   ]
  },
  {
   "cell_type": "code",
   "execution_count": 661,
   "metadata": {},
   "outputs": [],
   "source": [
    "X_train_ready = final_preprocess.fit_transform(X_train)\n",
    "X_val_ready = final_preprocess.transform(X_val)\n",
    "X_test_ready = final_preprocess.transform(X_test)"
   ]
  },
  {
   "cell_type": "markdown",
   "metadata": {},
   "source": [
    "## Input Pipelline"
   ]
  },
  {
   "cell_type": "markdown",
   "metadata": {},
   "source": [
    "Untuk mempermudah proses training fit selanjutnya, disini kita akan membuat pipeline untuk data train, data validation dan data test."
   ]
  },
  {
   "cell_type": "code",
   "execution_count": 662,
   "metadata": {},
   "outputs": [],
   "source": [
    "AUTOTUNE = tf.data.AUTOTUNE #set the number of elements to prefetch with AUTOTUNE"
   ]
  },
  {
   "cell_type": "markdown",
   "metadata": {},
   "source": [
    "Untuk mempermudah proses kita gunakan function berikut untuk membungkus tiap input X dan output y ke suatu pipeline."
   ]
  },
  {
   "cell_type": "code",
   "execution_count": 663,
   "metadata": {},
   "outputs": [],
   "source": [
    "def get_batches(x, y, shuffle_buffer_size, batch_size, shuffle=False):\n",
    "    \n",
    "    #Building a pipeline from a data that exists in memory\n",
    "    data_ds = tf.data.Dataset.from_tensor_slices((x, y))\n",
    "    \n",
    "    #mapping the fuction we alredy made to the data\n",
    "    #preprocessed_data = data_ds.map(preprocessing)\n",
    "    preprocessed_data=data_ds\n",
    "    \n",
    "    if shuffle:\n",
    "        # if we want to shuffle the dataset given a buffer size\n",
    "        shuffled_data = preprocessed_data.shuffle(shuffle_buffer_size)\n",
    "        \n",
    "        # prefetch` lets the dataset fetch batches in the background while the model is training.\n",
    "        data_batches = shuffled_data.batch(batch_size).cache().prefetch(AUTOTUNE) #berapa banyak batch yg ingin di prefetch\n",
    "        \n",
    "    else: \n",
    "        \n",
    "        data_batches = preprocessed_data.batch(batch_size).cache().prefetch(AUTOTUNE)\n",
    "    \n",
    "    \n",
    "    return data_batches"
   ]
  },
  {
   "cell_type": "markdown",
   "metadata": {},
   "source": [
    "Selanjutnya kita terapkan function di atas pada pasangan X dan y data train, data validation, dan data test."
   ]
  },
  {
   "cell_type": "code",
   "execution_count": 664,
   "metadata": {},
   "outputs": [],
   "source": [
    "training_batches = get_batches(X_train_ready, y_train, X_train_ready.shape[0], 64, shuffle=True)\n",
    "validation_batches = get_batches(X_val_ready, y_val, X_val_ready.shape[0], 64, shuffle=False)\n",
    "testing_batches = get_batches(X_test_ready, y_test, X_test_ready.shape[0], 64, shuffle=False)"
   ]
  },
  {
   "cell_type": "markdown",
   "metadata": {},
   "source": [
    "# 6 - Model Definition"
   ]
  },
  {
   "cell_type": "markdown",
   "metadata": {},
   "source": [
    "Model yang digunakan untuk memprediksi target output 'churn' adalah **Artificial Neural Network (ANN)** dengan **Sequential API** dan **Functional API**. ANN yang akan kita terapkan dapat memiliki beberapa hidden layers antara input layer dan output layer atau dikenal sebagai **Deep Neural Network (DNN)**."
   ]
  },
  {
   "cell_type": "markdown",
   "metadata": {},
   "source": [
    "Kita definisikan model ANN sequential dengan activation output 'sigmoid' (dikarenakan hanya terdapat dua kelas target output churn 0 dan 1) sebagai berikut:"
   ]
  },
  {
   "cell_type": "code",
   "execution_count": 665,
   "metadata": {},
   "outputs": [],
   "source": [
    "tf.random.set_seed(42)\n",
    "model_1 = keras.models.Sequential([\n",
    "    keras.layers.Flatten(input_shape=X_train_ready.shape[1:]),\n",
    "    keras.layers.Dense(1,activation='sigmoid')\n",
    "    ])"
   ]
  },
  {
   "cell_type": "markdown",
   "metadata": {},
   "source": [
    "Selanjutnya model funtional API kita buat terdiri dari input layers, 2 hidden layers dengan 100 neuron pada hidden layer 1 dan 50 neuron pada hidden layer 2, dan output layers dengan activation function 'sigmoid'."
   ]
  },
  {
   "cell_type": "code",
   "execution_count": 666,
   "metadata": {},
   "outputs": [],
   "source": [
    "tf.random.set_seed(42)\n",
    "input_ = keras.layers.Input(shape=X_train_ready.shape[1:])\n",
    "hidden1 = keras.layers.Dense(100, activation=\"relu\",kernel_initializer=keras.initializers.he_normal(seed=27))(input_)\n",
    "hidden2 = keras.layers.Dense(50, activation=\"relu\",kernel_initializer=keras.initializers.he_normal(seed=27))(hidden1)\n",
    "output = keras.layers.Dense(1,activation='sigmoid')(hidden2)\n",
    "model_2 = keras.models.Model(inputs=[input_], outputs=[output])"
   ]
  },
  {
   "cell_type": "markdown",
   "metadata": {},
   "source": [
    "Mengingat proses yang dilakukan disini adalah binary classification, maka loss function yang digunakan adalah *binary_crossentropy* serta metrics yang digunakan adalah *Recall*. Adapun penggunaan metric *Recall* adalah karena kita memprioritaskan jumlah false negative, atau dengan kata lain meminimalkan customer yang terprediksi masih loyal padahal customer tersebut cenderung ingin berhenti berlangganan. Mengingat jumlah target class 0 dan 1 tidak seimbang (imbalanced data) maka kita akan terapkan pengaturan class_weight saat proses train model.\n",
    "\n",
    "Kedua model yang sudah didefinisikan di atas dapat mengalami perubahan berbagai parameter saat proses training model selanjutnya."
   ]
  },
  {
   "cell_type": "markdown",
   "metadata": {},
   "source": [
    "# 7 - Model Training"
   ]
  },
  {
   "cell_type": "markdown",
   "metadata": {},
   "source": [
    "Pada proses ini kita akan coba melihat performa dari kedua model tersebut, dan kita coba melakukan adjustment atau melatih model guna meningkatkan hasil prediksi dengan melakkan berbagai hal seperti:\n",
    " - Set jumlah hidden layers serta jumlah neuron pada tiap layers.\n",
    " - Melakukan regulasi pada hidden layer ataupun drop out untuk mencegah kecenderungan *over-fitting*.\n",
    " - Mengubah activation function pada tiap layers dan mengubah optimizer."
   ]
  },
  {
   "cell_type": "markdown",
   "metadata": {},
   "source": [
    "Untuk mendapatkan hasil yang stabil dengan TensorFlow kita set random seed sebagai berikut."
   ]
  },
  {
   "cell_type": "code",
   "execution_count": 667,
   "metadata": {},
   "outputs": [],
   "source": [
    "np.random.seed(27)\n",
    "tf.random.set_seed(42)"
   ]
  },
  {
   "cell_type": "markdown",
   "metadata": {},
   "source": [
    "## Model Sequential"
   ]
  },
  {
   "cell_type": "markdown",
   "metadata": {},
   "source": [
    "Pertama kita coba set optimized dengan *Stochastic gradient descent (SGD)* dan fit dengan data train dan data validation yang sudah kita bentuk dalam tensorflow dataset."
   ]
  },
  {
   "cell_type": "code",
   "execution_count": 668,
   "metadata": {},
   "outputs": [],
   "source": [
    "early_stopping = tf.keras.callbacks.EarlyStopping(\n",
    "    monitor='val_loss', min_delta=0, patience=5, verbose=0,\n",
    "    mode='auto', baseline=None, restore_best_weights= True\n",
    ")"
   ]
  },
  {
   "cell_type": "code",
   "execution_count": 669,
   "metadata": {},
   "outputs": [
    {
     "name": "stdout",
     "output_type": "stream",
     "text": [
      "Epoch 1/50\n",
      "71/71 [==============================] - 2s 8ms/step - loss: 1.1733 - recall: 0.5952 - val_loss: 0.7228 - val_recall: 0.6989\n",
      "Epoch 2/50\n",
      "71/71 [==============================] - 0s 3ms/step - loss: 0.9862 - recall: 0.7414 - val_loss: 0.6525 - val_recall: 0.7778\n",
      "Epoch 3/50\n",
      "71/71 [==============================] - 0s 3ms/step - loss: 0.9071 - recall: 0.7742 - val_loss: 0.6154 - val_recall: 0.8029\n",
      "Epoch 4/50\n",
      "71/71 [==============================] - 0s 5ms/step - loss: 0.8655 - recall: 0.7964 - val_loss: 0.5921 - val_recall: 0.8280\n",
      "Epoch 5/50\n",
      "71/71 [==============================] - 0s 5ms/step - loss: 0.8402 - recall: 0.8013 - val_loss: 0.5758 - val_recall: 0.8459\n",
      "Epoch 6/50\n",
      "71/71 [==============================] - 0s 3ms/step - loss: 0.8234 - recall: 0.8054 - val_loss: 0.5637 - val_recall: 0.8495\n",
      "Epoch 7/50\n",
      "71/71 [==============================] - 0s 3ms/step - loss: 0.8116 - recall: 0.8112 - val_loss: 0.5542 - val_recall: 0.8459\n",
      "Epoch 8/50\n",
      "71/71 [==============================] - 0s 3ms/step - loss: 0.8030 - recall: 0.8144 - val_loss: 0.5468 - val_recall: 0.8423\n",
      "Epoch 9/50\n",
      "71/71 [==============================] - 0s 3ms/step - loss: 0.7966 - recall: 0.8144 - val_loss: 0.5408 - val_recall: 0.8495\n",
      "Epoch 10/50\n",
      "71/71 [==============================] - 0s 3ms/step - loss: 0.7918 - recall: 0.8153 - val_loss: 0.5359 - val_recall: 0.8495\n",
      "Epoch 11/50\n",
      "71/71 [==============================] - 0s 3ms/step - loss: 0.7881 - recall: 0.8186 - val_loss: 0.5319 - val_recall: 0.8530\n",
      "Epoch 12/50\n",
      "71/71 [==============================] - 0s 3ms/step - loss: 0.7853 - recall: 0.8177 - val_loss: 0.5286 - val_recall: 0.8566\n",
      "Epoch 13/50\n",
      "71/71 [==============================] - 0s 3ms/step - loss: 0.7830 - recall: 0.8194 - val_loss: 0.5258 - val_recall: 0.8566\n",
      "Epoch 14/50\n",
      "71/71 [==============================] - 0s 2ms/step - loss: 0.7812 - recall: 0.8194 - val_loss: 0.5235 - val_recall: 0.8566\n",
      "Epoch 15/50\n",
      "71/71 [==============================] - 0s 3ms/step - loss: 0.7798 - recall: 0.8194 - val_loss: 0.5215 - val_recall: 0.8530\n",
      "Epoch 16/50\n",
      "71/71 [==============================] - 0s 3ms/step - loss: 0.7787 - recall: 0.8202 - val_loss: 0.5199 - val_recall: 0.8459\n",
      "Epoch 17/50\n",
      "71/71 [==============================] - 0s 2ms/step - loss: 0.7778 - recall: 0.8210 - val_loss: 0.5184 - val_recall: 0.8459\n",
      "Epoch 18/50\n",
      "71/71 [==============================] - 0s 2ms/step - loss: 0.7770 - recall: 0.8218 - val_loss: 0.5172 - val_recall: 0.8459\n",
      "Epoch 19/50\n",
      "71/71 [==============================] - 0s 2ms/step - loss: 0.7764 - recall: 0.8202 - val_loss: 0.5161 - val_recall: 0.8423\n",
      "Epoch 20/50\n",
      "71/71 [==============================] - 0s 2ms/step - loss: 0.7759 - recall: 0.8194 - val_loss: 0.5152 - val_recall: 0.8423\n",
      "Epoch 21/50\n",
      "71/71 [==============================] - 0s 2ms/step - loss: 0.7754 - recall: 0.8186 - val_loss: 0.5144 - val_recall: 0.8423\n",
      "Epoch 22/50\n",
      "71/71 [==============================] - 0s 2ms/step - loss: 0.7751 - recall: 0.8186 - val_loss: 0.5137 - val_recall: 0.8459\n",
      "Epoch 23/50\n",
      "71/71 [==============================] - 0s 2ms/step - loss: 0.7748 - recall: 0.8169 - val_loss: 0.5130 - val_recall: 0.8495\n",
      "Epoch 24/50\n",
      "71/71 [==============================] - 0s 2ms/step - loss: 0.7745 - recall: 0.8169 - val_loss: 0.5124 - val_recall: 0.8495\n",
      "Epoch 25/50\n",
      "71/71 [==============================] - 0s 2ms/step - loss: 0.7743 - recall: 0.8169 - val_loss: 0.5119 - val_recall: 0.8530\n",
      "Epoch 26/50\n",
      "71/71 [==============================] - 0s 2ms/step - loss: 0.7741 - recall: 0.8161 - val_loss: 0.5115 - val_recall: 0.8530\n",
      "Epoch 27/50\n",
      "71/71 [==============================] - 0s 2ms/step - loss: 0.7740 - recall: 0.8153 - val_loss: 0.5110 - val_recall: 0.8530\n",
      "Epoch 28/50\n",
      "71/71 [==============================] - 0s 3ms/step - loss: 0.7738 - recall: 0.8144 - val_loss: 0.5107 - val_recall: 0.8530\n",
      "Epoch 29/50\n",
      "71/71 [==============================] - 0s 3ms/step - loss: 0.7737 - recall: 0.8144 - val_loss: 0.5103 - val_recall: 0.8530\n",
      "Epoch 30/50\n",
      "71/71 [==============================] - 0s 2ms/step - loss: 0.7736 - recall: 0.8144 - val_loss: 0.5100 - val_recall: 0.8530\n",
      "Epoch 31/50\n",
      "71/71 [==============================] - 0s 2ms/step - loss: 0.7735 - recall: 0.8144 - val_loss: 0.5097 - val_recall: 0.8530\n",
      "Epoch 32/50\n",
      "71/71 [==============================] - 0s 3ms/step - loss: 0.7735 - recall: 0.8144 - val_loss: 0.5094 - val_recall: 0.8530\n",
      "Epoch 33/50\n",
      "71/71 [==============================] - 0s 2ms/step - loss: 0.7734 - recall: 0.8144 - val_loss: 0.5092 - val_recall: 0.8566\n",
      "Epoch 34/50\n",
      "71/71 [==============================] - 0s 2ms/step - loss: 0.7733 - recall: 0.8136 - val_loss: 0.5090 - val_recall: 0.8566\n",
      "Epoch 35/50\n",
      "71/71 [==============================] - 0s 3ms/step - loss: 0.7733 - recall: 0.8136 - val_loss: 0.5088 - val_recall: 0.8566\n",
      "Epoch 36/50\n",
      "71/71 [==============================] - 0s 4ms/step - loss: 0.7733 - recall: 0.8128 - val_loss: 0.5086 - val_recall: 0.8566\n",
      "Epoch 37/50\n",
      "71/71 [==============================] - 0s 2ms/step - loss: 0.7732 - recall: 0.8128 - val_loss: 0.5084 - val_recall: 0.8530\n",
      "Epoch 38/50\n",
      "71/71 [==============================] - 0s 3ms/step - loss: 0.7732 - recall: 0.8128 - val_loss: 0.5082 - val_recall: 0.8530\n",
      "Epoch 39/50\n",
      "71/71 [==============================] - 0s 3ms/step - loss: 0.7732 - recall: 0.8128 - val_loss: 0.5081 - val_recall: 0.8530\n",
      "Epoch 40/50\n",
      "71/71 [==============================] - 0s 2ms/step - loss: 0.7731 - recall: 0.8128 - val_loss: 0.5079 - val_recall: 0.8530\n",
      "Epoch 41/50\n",
      "71/71 [==============================] - 0s 2ms/step - loss: 0.7731 - recall: 0.8128 - val_loss: 0.5078 - val_recall: 0.8530\n",
      "Epoch 42/50\n",
      "71/71 [==============================] - 0s 3ms/step - loss: 0.7731 - recall: 0.8128 - val_loss: 0.5077 - val_recall: 0.8530\n",
      "Epoch 43/50\n",
      "71/71 [==============================] - 0s 3ms/step - loss: 0.7731 - recall: 0.8128 - val_loss: 0.5075 - val_recall: 0.8530\n",
      "Epoch 44/50\n",
      "71/71 [==============================] - 0s 2ms/step - loss: 0.7731 - recall: 0.8128 - val_loss: 0.5074 - val_recall: 0.8530\n",
      "Epoch 45/50\n",
      "71/71 [==============================] - 0s 2ms/step - loss: 0.7730 - recall: 0.8120 - val_loss: 0.5073 - val_recall: 0.8530\n",
      "Epoch 46/50\n",
      "71/71 [==============================] - 0s 2ms/step - loss: 0.7730 - recall: 0.8112 - val_loss: 0.5072 - val_recall: 0.8530\n",
      "Epoch 47/50\n",
      "71/71 [==============================] - 0s 2ms/step - loss: 0.7730 - recall: 0.8112 - val_loss: 0.5071 - val_recall: 0.8530\n",
      "Epoch 48/50\n",
      "71/71 [==============================] - 0s 2ms/step - loss: 0.7730 - recall: 0.8120 - val_loss: 0.5071 - val_recall: 0.8530\n",
      "Epoch 49/50\n",
      "71/71 [==============================] - 0s 2ms/step - loss: 0.7730 - recall: 0.8120 - val_loss: 0.5070 - val_recall: 0.8530\n",
      "Epoch 50/50\n",
      "71/71 [==============================] - 0s 2ms/step - loss: 0.7730 - recall: 0.8120 - val_loss: 0.5069 - val_recall: 0.8566\n"
     ]
    }
   ],
   "source": [
    "model_1.compile(loss='binary_crossentropy',optimizer=keras.optimizers.SGD(),metrics=keras.metrics.Recall())\n",
    "history = model_1.fit(training_batches, epochs=50,validation_data=validation_batches, callbacks=early_stopping,\n",
    "                    class_weight={0: 1., 1: 3.})"
   ]
  },
  {
   "cell_type": "markdown",
   "metadata": {},
   "source": [
    "Sebagai permulaan kita mendapatkan hasil yang cukup baik dengan train recall dan val recall yaitu diatas 0.8. Namun nampaknya recall validation data lebih besar daripada train data. Untuk lebih jelasnya score recall dan loss value dari train dan data validation pada tiap iterasinya dapat dijelaskan pada grafik berikut."
   ]
  },
  {
   "cell_type": "code",
   "execution_count": 670,
   "metadata": {},
   "outputs": [
    {
     "data": {
      "image/png": "[encoded data removed]",
      "text/plain": [
       "<Figure size 432x288 with 1 Axes>"
      ]
     },
     "metadata": {
      "needs_background": "light"
     },
     "output_type": "display_data"
    }
   ],
   "source": [
    "# Plot Recall score dan loss value pada data train maupun data validation\n",
    "pd.DataFrame(history.history).plot()\n",
    "plt.grid(True)\n",
    "plt.gca().set_ylim(0, 1)\n",
    "plt.show()"
   ]
  },
  {
   "cell_type": "markdown",
   "metadata": {},
   "source": [
    "Dari grafik terlihat baik loss value dan recall score kedua data cenderung konstan, sehingga apabila kita tingkatkan jumlah epoch nampaknya juga akan mendapati hal yang sama. Pada grafik di atas terlihat recall validation data sedikit lebih besar daripada train data."
   ]
  },
  {
   "cell_type": "markdown",
   "metadata": {},
   "source": [
    "Kita coba sedikit melakukan modifikasi seperti menambahkan beberapa hidden layers dengan sejumlah neuron serta melakukan initial random weight dengan kernel_initializer dan batchnormalization. Optimizer masih sama yaitu SGD namun saat ini kita set learning rate menjadi 0.003."
   ]
  },
  {
   "cell_type": "code",
   "execution_count": 671,
   "metadata": {},
   "outputs": [],
   "source": [
    "tf.random.set_seed(42)\n",
    "model_1_new = keras.models.Sequential([\n",
    "    keras.layers.Flatten(input_shape=X_train_ready.shape[1:]),\n",
    "    keras.layers.BatchNormalization(),\n",
    "    keras.layers.Dense(50, activation=\"relu\",kernel_initializer=keras.initializers.he_normal(seed=27)),\n",
    "    keras.layers.BatchNormalization(),\n",
    "    keras.layers.Dense(20, activation=\"relu\",kernel_initializer=keras.initializers.he_normal(seed=27)),\n",
    "    keras.layers.Dense(1, activation=\"sigmoid\")\n",
    "])"
   ]
  },
  {
   "cell_type": "code",
   "execution_count": 672,
   "metadata": {},
   "outputs": [
    {
     "name": "stdout",
     "output_type": "stream",
     "text": [
      "Epoch 1/50\n",
      "71/71 [==============================] - 2s 9ms/step - loss: 1.3448 - recall_1: 0.3391 - val_loss: 0.7290 - val_recall_1: 0.5054\n",
      "Epoch 2/50\n",
      "71/71 [==============================] - 0s 3ms/step - loss: 1.1145 - recall_1: 0.5649 - val_loss: 0.6856 - val_recall_1: 0.6201\n",
      "Epoch 3/50\n",
      "71/71 [==============================] - 0s 3ms/step - loss: 1.0157 - recall_1: 0.6732 - val_loss: 0.6544 - val_recall_1: 0.6810\n",
      "Epoch 4/50\n",
      "71/71 [==============================] - 0s 3ms/step - loss: 0.9614 - recall_1: 0.7282 - val_loss: 0.6317 - val_recall_1: 0.7061\n",
      "Epoch 5/50\n",
      "71/71 [==============================] - 0s 3ms/step - loss: 0.9272 - recall_1: 0.7504 - val_loss: 0.6149 - val_recall_1: 0.7312\n",
      "Epoch 6/50\n",
      "71/71 [==============================] - 0s 3ms/step - loss: 0.9040 - recall_1: 0.7627 - val_loss: 0.6021 - val_recall_1: 0.7384\n",
      "Epoch 7/50\n",
      "71/71 [==============================] - 0s 3ms/step - loss: 0.8874 - recall_1: 0.7734 - val_loss: 0.5925 - val_recall_1: 0.7491\n",
      "Epoch 8/50\n",
      "71/71 [==============================] - 0s 3ms/step - loss: 0.8750 - recall_1: 0.7742 - val_loss: 0.5848 - val_recall_1: 0.7455\n",
      "Epoch 9/50\n",
      "71/71 [==============================] - 0s 3ms/step - loss: 0.8653 - recall_1: 0.7742 - val_loss: 0.5785 - val_recall_1: 0.7527\n",
      "Epoch 10/50\n",
      "71/71 [==============================] - 0s 3ms/step - loss: 0.8573 - recall_1: 0.7791 - val_loss: 0.5734 - val_recall_1: 0.7634\n",
      "Epoch 11/50\n",
      "71/71 [==============================] - 0s 3ms/step - loss: 0.8507 - recall_1: 0.7791 - val_loss: 0.5690 - val_recall_1: 0.7670\n",
      "Epoch 12/50\n",
      "71/71 [==============================] - 0s 3ms/step - loss: 0.8450 - recall_1: 0.7800 - val_loss: 0.5653 - val_recall_1: 0.7527\n",
      "Epoch 13/50\n",
      "71/71 [==============================] - 0s 3ms/step - loss: 0.8401 - recall_1: 0.7833 - val_loss: 0.5621 - val_recall_1: 0.7563\n",
      "Epoch 14/50\n",
      "71/71 [==============================] - 0s 4ms/step - loss: 0.8358 - recall_1: 0.7857 - val_loss: 0.5592 - val_recall_1: 0.7599\n",
      "Epoch 15/50\n",
      "71/71 [==============================] - 0s 3ms/step - loss: 0.8319 - recall_1: 0.7857 - val_loss: 0.5567 - val_recall_1: 0.7670\n",
      "Epoch 16/50\n",
      "71/71 [==============================] - 0s 3ms/step - loss: 0.8285 - recall_1: 0.7898 - val_loss: 0.5543 - val_recall_1: 0.7670\n",
      "Epoch 17/50\n",
      "71/71 [==============================] - 0s 3ms/step - loss: 0.8254 - recall_1: 0.7923 - val_loss: 0.5522 - val_recall_1: 0.7706\n",
      "Epoch 18/50\n",
      "71/71 [==============================] - 0s 3ms/step - loss: 0.8226 - recall_1: 0.7923 - val_loss: 0.5503 - val_recall_1: 0.7742\n",
      "Epoch 19/50\n",
      "71/71 [==============================] - 0s 4ms/step - loss: 0.8200 - recall_1: 0.7939 - val_loss: 0.5485 - val_recall_1: 0.7778\n",
      "Epoch 20/50\n",
      "71/71 [==============================] - 0s 3ms/step - loss: 0.8176 - recall_1: 0.7939 - val_loss: 0.5470 - val_recall_1: 0.7778\n",
      "Epoch 21/50\n",
      "71/71 [==============================] - 0s 3ms/step - loss: 0.8153 - recall_1: 0.7972 - val_loss: 0.5456 - val_recall_1: 0.7742\n",
      "Epoch 22/50\n",
      "71/71 [==============================] - 0s 3ms/step - loss: 0.8132 - recall_1: 0.7997 - val_loss: 0.5443 - val_recall_1: 0.7814\n",
      "Epoch 23/50\n",
      "71/71 [==============================] - 0s 3ms/step - loss: 0.8112 - recall_1: 0.8013 - val_loss: 0.5431 - val_recall_1: 0.7814\n",
      "Epoch 24/50\n",
      "71/71 [==============================] - 0s 3ms/step - loss: 0.8093 - recall_1: 0.7997 - val_loss: 0.5419 - val_recall_1: 0.7849\n",
      "Epoch 25/50\n",
      "71/71 [==============================] - 0s 4ms/step - loss: 0.8075 - recall_1: 0.7997 - val_loss: 0.5409 - val_recall_1: 0.7885\n",
      "Epoch 26/50\n",
      "71/71 [==============================] - 0s 3ms/step - loss: 0.8057 - recall_1: 0.7997 - val_loss: 0.5400 - val_recall_1: 0.7921\n",
      "Epoch 27/50\n",
      "71/71 [==============================] - 0s 3ms/step - loss: 0.8041 - recall_1: 0.8005 - val_loss: 0.5391 - val_recall_1: 0.7993\n",
      "Epoch 28/50\n",
      "71/71 [==============================] - 0s 3ms/step - loss: 0.8024 - recall_1: 0.8005 - val_loss: 0.5383 - val_recall_1: 0.8029\n",
      "Epoch 29/50\n",
      "71/71 [==============================] - 0s 3ms/step - loss: 0.8009 - recall_1: 0.8013 - val_loss: 0.5375 - val_recall_1: 0.8065\n",
      "Epoch 30/50\n",
      "71/71 [==============================] - 0s 3ms/step - loss: 0.7995 - recall_1: 0.8005 - val_loss: 0.5368 - val_recall_1: 0.8065\n",
      "Epoch 31/50\n",
      "71/71 [==============================] - 0s 3ms/step - loss: 0.7981 - recall_1: 0.7997 - val_loss: 0.5361 - val_recall_1: 0.8065\n",
      "Epoch 32/50\n",
      "71/71 [==============================] - 0s 3ms/step - loss: 0.7968 - recall_1: 0.8005 - val_loss: 0.5356 - val_recall_1: 0.8065\n",
      "Epoch 33/50\n",
      "71/71 [==============================] - 0s 4ms/step - loss: 0.7955 - recall_1: 0.7997 - val_loss: 0.5350 - val_recall_1: 0.8100\n",
      "Epoch 34/50\n",
      "71/71 [==============================] - 0s 3ms/step - loss: 0.7943 - recall_1: 0.8021 - val_loss: 0.5345 - val_recall_1: 0.8136\n",
      "Epoch 35/50\n",
      "71/71 [==============================] - 0s 3ms/step - loss: 0.7932 - recall_1: 0.8021 - val_loss: 0.5340 - val_recall_1: 0.8136\n",
      "Epoch 36/50\n",
      "71/71 [==============================] - 0s 3ms/step - loss: 0.7921 - recall_1: 0.8062 - val_loss: 0.5336 - val_recall_1: 0.8136\n",
      "Epoch 37/50\n",
      "71/71 [==============================] - 0s 3ms/step - loss: 0.7910 - recall_1: 0.8071 - val_loss: 0.5332 - val_recall_1: 0.8136\n",
      "Epoch 38/50\n",
      "71/71 [==============================] - 0s 4ms/step - loss: 0.7900 - recall_1: 0.8087 - val_loss: 0.5327 - val_recall_1: 0.8136\n",
      "Epoch 39/50\n",
      "71/71 [==============================] - 0s 3ms/step - loss: 0.7890 - recall_1: 0.8095 - val_loss: 0.5324 - val_recall_1: 0.8136\n",
      "Epoch 40/50\n",
      "71/71 [==============================] - 0s 4ms/step - loss: 0.7881 - recall_1: 0.8112 - val_loss: 0.5320 - val_recall_1: 0.8136\n",
      "Epoch 41/50\n",
      "71/71 [==============================] - 0s 3ms/step - loss: 0.7872 - recall_1: 0.8120 - val_loss: 0.5316 - val_recall_1: 0.8136\n",
      "Epoch 42/50\n",
      "71/71 [==============================] - 0s 3ms/step - loss: 0.7863 - recall_1: 0.8128 - val_loss: 0.5312 - val_recall_1: 0.8172\n",
      "Epoch 43/50\n",
      "71/71 [==============================] - 0s 3ms/step - loss: 0.7855 - recall_1: 0.8144 - val_loss: 0.5308 - val_recall_1: 0.8172\n",
      "Epoch 44/50\n",
      "71/71 [==============================] - 0s 3ms/step - loss: 0.7847 - recall_1: 0.8153 - val_loss: 0.5305 - val_recall_1: 0.8208\n",
      "Epoch 45/50\n",
      "71/71 [==============================] - 0s 3ms/step - loss: 0.7839 - recall_1: 0.8161 - val_loss: 0.5302 - val_recall_1: 0.8208\n",
      "Epoch 46/50\n",
      "71/71 [==============================] - 0s 3ms/step - loss: 0.7831 - recall_1: 0.8177 - val_loss: 0.5298 - val_recall_1: 0.8208\n",
      "Epoch 47/50\n",
      "71/71 [==============================] - 0s 3ms/step - loss: 0.7823 - recall_1: 0.8186 - val_loss: 0.5295 - val_recall_1: 0.8244\n",
      "Epoch 48/50\n",
      "71/71 [==============================] - 0s 3ms/step - loss: 0.7816 - recall_1: 0.8194 - val_loss: 0.5292 - val_recall_1: 0.8244\n",
      "Epoch 49/50\n",
      "71/71 [==============================] - 0s 3ms/step - loss: 0.7808 - recall_1: 0.8194 - val_loss: 0.5289 - val_recall_1: 0.8244\n",
      "Epoch 50/50\n",
      "71/71 [==============================] - 0s 3ms/step - loss: 0.7801 - recall_1: 0.8202 - val_loss: 0.5287 - val_recall_1: 0.8244\n"
     ]
    }
   ],
   "source": [
    "model_1_new.compile(loss=\"binary_crossentropy\", optimizer=keras.optimizers.SGD(learning_rate=0.003),\n",
    "                    metrics=keras.metrics.Recall())\n",
    "history = model_1_new.fit(training_batches, epochs=50, validation_data=validation_batches,callbacks=early_stopping,\n",
    "                        class_weight={0: 1., 1: 3.})"
   ]
  },
  {
   "cell_type": "code",
   "execution_count": 673,
   "metadata": {},
   "outputs": [
    {
     "data": {
      "image/png": "[encoded data removed]",
      "text/plain": [
       "<Figure size 432x288 with 1 Axes>"
      ]
     },
     "metadata": {
      "needs_background": "light"
     },
     "output_type": "display_data"
    }
   ],
   "source": [
    "# Plot Recall score dan loss value pada data train maupun data validation\n",
    "pd.DataFrame(history.history).plot()\n",
    "plt.grid(True)\n",
    "plt.show()"
   ]
  },
  {
   "cell_type": "markdown",
   "metadata": {},
   "source": [
    "Apabila kita perhatikan hasil yang didapat tidaklah jauh berbeda dari sebelumnya dan kedua recall score pada data train sedikit lebih meningkat dengan selisih yang mengecil. Sehingga dapat dikatakan *good-fit*."
   ]
  },
  {
   "cell_type": "markdown",
   "metadata": {},
   "source": [
    "## Model Functional"
   ]
  },
  {
   "cell_type": "markdown",
   "metadata": {},
   "source": [
    "Pertama kita coba melihat bagaimana performa dari model functional API yang sudah ktia definisikan sebelumnya. Kita coba set optimizer yang sama yaitu SGD dan melihat score recall pada data train maupun data validation."
   ]
  },
  {
   "cell_type": "code",
   "execution_count": null,
   "metadata": {},
   "outputs": [],
   "source": [
    "#model functional\n",
    "tf.random.set_seed(42)\n",
    "input_ = keras.layers.Input(shape=X_train_ready.shape[1:])\n",
    "hidden1 = keras.layers.Dense(100, activation=\"relu\",kernel_initializer=keras.initializers.he_normal(seed=27))(input_)\n",
    "hidden2 = keras.layers.Dense(50, activation=\"relu\",kernel_initializer=keras.initializers.he_normal(seed=27))(hidden1)\n",
    "output = keras.layers.Dense(1,activation='sigmoid')(hidden2)\n",
    "model_2 = keras.models.Model(inputs=[input_], outputs=[output])"
   ]
  },
  {
   "cell_type": "code",
   "execution_count": 697,
   "metadata": {},
   "outputs": [
    {
     "name": "stdout",
     "output_type": "stream",
     "text": [
      "Epoch 1/50\n",
      "71/71 [==============================] - 1s 7ms/step - loss: 0.7328 - recall_4: 0.8292 - val_loss: 0.5074 - val_recall_4: 0.8172\n",
      "Epoch 2/50\n",
      "71/71 [==============================] - 0s 3ms/step - loss: 0.7312 - recall_4: 0.8300 - val_loss: 0.5075 - val_recall_4: 0.8172\n",
      "Epoch 3/50\n",
      "71/71 [==============================] - 0s 3ms/step - loss: 0.7296 - recall_4: 0.8300 - val_loss: 0.5075 - val_recall_4: 0.8136\n",
      "Epoch 4/50\n",
      "71/71 [==============================] - 0s 4ms/step - loss: 0.7280 - recall_4: 0.8300 - val_loss: 0.5076 - val_recall_4: 0.8100\n",
      "Epoch 5/50\n",
      "71/71 [==============================] - 0s 3ms/step - loss: 0.7263 - recall_4: 0.8300 - val_loss: 0.5078 - val_recall_4: 0.8100\n",
      "Epoch 6/50\n",
      "71/71 [==============================] - 0s 3ms/step - loss: 0.7247 - recall_4: 0.8309 - val_loss: 0.5081 - val_recall_4: 0.8100\n"
     ]
    }
   ],
   "source": [
    "model_2.compile(loss=\"binary_crossentropy\",optimizer=keras.optimizers.SGD(),\n",
    "                metrics=keras.metrics.Recall())\n",
    "history_2 = model_2.fit(training_batches, epochs=50, validation_data=validation_batches,\n",
    "                        callbacks=early_stopping,class_weight={0: 1., 1: 3.})"
   ]
  },
  {
   "cell_type": "code",
   "execution_count": 698,
   "metadata": {},
   "outputs": [
    {
     "data": {
      "image/png": "[encoded data removed]",
      "text/plain": [
       "<Figure size 432x288 with 1 Axes>"
      ]
     },
     "metadata": {
      "needs_background": "light"
     },
     "output_type": "display_data"
    }
   ],
   "source": [
    "# Plot Recall score dan loss value pada data train maupun data validation\n",
    "pd.DataFrame(history_2.history).plot()\n",
    "plt.grid(True)\n",
    "plt.gca().set_ylim(0, 1)\n",
    "plt.show()"
   ]
  },
  {
   "cell_type": "markdown",
   "metadata": {},
   "source": [
    "Hasil yang kita dapatkan disini kurang lebih serupa dengan hasil model sequential API sebelumnya, yakni saat ini didapat train recall dan val recall sekitar di atas 0.8, serta loss value kedua data tidak menurun atau cenderung konstan seterusnya."
   ]
  },
  {
   "cell_type": "markdown",
   "metadata": {},
   "source": [
    "Mari kita coba modifikasi model ini dengan menambahkan beberapa hidden layers dan menetapkan kernel_initializer dan batchnormalization pada tiap hidden layers sebagai berikut."
   ]
  },
  {
   "cell_type": "code",
   "execution_count": 676,
   "metadata": {},
   "outputs": [],
   "source": [
    "tf.random.set_seed(42)\n",
    "input_new = keras.layers.Input(shape=X_train_ready.shape[1:])\n",
    "bn1 = keras.layers.BatchNormalization()(input_new)\n",
    "hidden1_new = keras.layers.Dense(10, activation=\"relu\",kernel_initializer = keras.initializers.he_normal(seed=27))(bn1)\n",
    "bn2 = keras.layers.BatchNormalization()(hidden1_new)\n",
    "hidden2_new = keras.layers.Dense(10, activation=\"relu\",kernel_initializer = keras.initializers.he_normal(seed=27))(bn2)\n",
    "bn2_ = keras.layers.BatchNormalization()(hidden2_new)\n",
    "output_new = keras.layers.Dense(1,activation='sigmoid')(bn2_)\n",
    "model_2_new = keras.models.Model(inputs=[input_new], outputs=[output_new])"
   ]
  },
  {
   "cell_type": "markdown",
   "metadata": {},
   "source": [
    "Kita coba compile model tersebut dengan optimizer yang sama namun dengan menetapkan learning rate menjadi 0.005 dan meningkatkan epochs menjadi 80."
   ]
  },
  {
   "cell_type": "code",
   "execution_count": 677,
   "metadata": {},
   "outputs": [
    {
     "name": "stdout",
     "output_type": "stream",
     "text": [
      "Epoch 1/80\n",
      "71/71 [==============================] - 2s 8ms/step - loss: 1.1851 - recall_3: 0.6346 - val_loss: 0.7084 - val_recall_3: 0.7957\n",
      "Epoch 2/80\n",
      "71/71 [==============================] - 0s 3ms/step - loss: 1.0237 - recall_3: 0.6979 - val_loss: 0.6781 - val_recall_3: 0.7957\n",
      "Epoch 3/80\n",
      "71/71 [==============================] - 0s 3ms/step - loss: 0.9553 - recall_3: 0.7348 - val_loss: 0.6527 - val_recall_3: 0.8136\n",
      "Epoch 4/80\n",
      "71/71 [==============================] - 0s 3ms/step - loss: 0.9205 - recall_3: 0.7545 - val_loss: 0.6354 - val_recall_3: 0.8065\n",
      "Epoch 5/80\n",
      "71/71 [==============================] - 0s 3ms/step - loss: 0.8992 - recall_3: 0.7668 - val_loss: 0.6224 - val_recall_3: 0.7993\n",
      "Epoch 6/80\n",
      "71/71 [==============================] - 0s 3ms/step - loss: 0.8841 - recall_3: 0.7726 - val_loss: 0.6124 - val_recall_3: 0.8065\n",
      "Epoch 7/80\n",
      "71/71 [==============================] - 0s 3ms/step - loss: 0.8726 - recall_3: 0.7808 - val_loss: 0.6043 - val_recall_3: 0.8136\n",
      "Epoch 8/80\n",
      "71/71 [==============================] - 0s 3ms/step - loss: 0.8632 - recall_3: 0.7857 - val_loss: 0.5974 - val_recall_3: 0.8244\n",
      "Epoch 9/80\n",
      "71/71 [==============================] - 0s 3ms/step - loss: 0.8554 - recall_3: 0.7923 - val_loss: 0.5913 - val_recall_3: 0.8315\n",
      "Epoch 10/80\n",
      "71/71 [==============================] - 0s 4ms/step - loss: 0.8486 - recall_3: 0.7989 - val_loss: 0.5858 - val_recall_3: 0.8351\n",
      "Epoch 11/80\n",
      "71/71 [==============================] - 0s 3ms/step - loss: 0.8426 - recall_3: 0.8030 - val_loss: 0.5810 - val_recall_3: 0.8315\n",
      "Epoch 12/80\n",
      "71/71 [==============================] - 0s 3ms/step - loss: 0.8373 - recall_3: 0.8046 - val_loss: 0.5767 - val_recall_3: 0.8351\n",
      "Epoch 13/80\n",
      "71/71 [==============================] - 0s 4ms/step - loss: 0.8326 - recall_3: 0.8079 - val_loss: 0.5729 - val_recall_3: 0.8351\n",
      "Epoch 14/80\n",
      "71/71 [==============================] - 0s 5ms/step - loss: 0.8283 - recall_3: 0.8103 - val_loss: 0.5697 - val_recall_3: 0.8387\n",
      "Epoch 15/80\n",
      "71/71 [==============================] - 0s 4ms/step - loss: 0.8244 - recall_3: 0.8103 - val_loss: 0.5666 - val_recall_3: 0.8423\n",
      "Epoch 16/80\n",
      "71/71 [==============================] - 0s 4ms/step - loss: 0.8209 - recall_3: 0.8103 - val_loss: 0.5636 - val_recall_3: 0.8423\n",
      "Epoch 17/80\n",
      "71/71 [==============================] - 0s 4ms/step - loss: 0.8175 - recall_3: 0.8112 - val_loss: 0.5609 - val_recall_3: 0.8423\n",
      "Epoch 18/80\n",
      "71/71 [==============================] - 0s 4ms/step - loss: 0.8145 - recall_3: 0.8169 - val_loss: 0.5583 - val_recall_3: 0.8387\n",
      "Epoch 19/80\n",
      "71/71 [==============================] - 0s 3ms/step - loss: 0.8117 - recall_3: 0.8186 - val_loss: 0.5559 - val_recall_3: 0.8387\n",
      "Epoch 20/80\n",
      "71/71 [==============================] - 0s 3ms/step - loss: 0.8092 - recall_3: 0.8218 - val_loss: 0.5538 - val_recall_3: 0.8387\n",
      "Epoch 21/80\n",
      "71/71 [==============================] - 0s 3ms/step - loss: 0.8068 - recall_3: 0.8218 - val_loss: 0.5519 - val_recall_3: 0.8423\n",
      "Epoch 22/80\n",
      "71/71 [==============================] - 0s 3ms/step - loss: 0.8047 - recall_3: 0.8235 - val_loss: 0.5500 - val_recall_3: 0.8423\n",
      "Epoch 23/80\n",
      "71/71 [==============================] - 0s 3ms/step - loss: 0.8027 - recall_3: 0.8259 - val_loss: 0.5483 - val_recall_3: 0.8423\n",
      "Epoch 24/80\n",
      "71/71 [==============================] - 0s 3ms/step - loss: 0.8009 - recall_3: 0.8276 - val_loss: 0.5467 - val_recall_3: 0.8387\n",
      "Epoch 25/80\n",
      "71/71 [==============================] - 0s 3ms/step - loss: 0.7992 - recall_3: 0.8284 - val_loss: 0.5452 - val_recall_3: 0.8387\n",
      "Epoch 26/80\n",
      "71/71 [==============================] - 0s 3ms/step - loss: 0.7975 - recall_3: 0.8284 - val_loss: 0.5437 - val_recall_3: 0.8387\n",
      "Epoch 27/80\n",
      "71/71 [==============================] - 0s 3ms/step - loss: 0.7960 - recall_3: 0.8268 - val_loss: 0.5422 - val_recall_3: 0.8351\n",
      "Epoch 28/80\n",
      "71/71 [==============================] - 0s 3ms/step - loss: 0.7946 - recall_3: 0.8300 - val_loss: 0.5406 - val_recall_3: 0.8351\n",
      "Epoch 29/80\n",
      "71/71 [==============================] - 0s 4ms/step - loss: 0.7933 - recall_3: 0.8309 - val_loss: 0.5391 - val_recall_3: 0.8315\n",
      "Epoch 30/80\n",
      "71/71 [==============================] - 0s 3ms/step - loss: 0.7922 - recall_3: 0.8317 - val_loss: 0.5376 - val_recall_3: 0.8315\n",
      "Epoch 31/80\n",
      "71/71 [==============================] - 0s 5ms/step - loss: 0.7911 - recall_3: 0.8317 - val_loss: 0.5363 - val_recall_3: 0.8315\n",
      "Epoch 32/80\n",
      "71/71 [==============================] - 0s 3ms/step - loss: 0.7901 - recall_3: 0.8317 - val_loss: 0.5351 - val_recall_3: 0.8315\n",
      "Epoch 33/80\n",
      "71/71 [==============================] - 0s 4ms/step - loss: 0.7891 - recall_3: 0.8309 - val_loss: 0.5340 - val_recall_3: 0.8315\n",
      "Epoch 34/80\n",
      "71/71 [==============================] - 0s 3ms/step - loss: 0.7882 - recall_3: 0.8309 - val_loss: 0.5331 - val_recall_3: 0.8315\n",
      "Epoch 35/80\n",
      "71/71 [==============================] - 0s 3ms/step - loss: 0.7873 - recall_3: 0.8317 - val_loss: 0.5323 - val_recall_3: 0.8315\n",
      "Epoch 36/80\n",
      "71/71 [==============================] - 0s 4ms/step - loss: 0.7864 - recall_3: 0.8309 - val_loss: 0.5316 - val_recall_3: 0.8315\n",
      "Epoch 37/80\n",
      "71/71 [==============================] - 0s 3ms/step - loss: 0.7856 - recall_3: 0.8309 - val_loss: 0.5307 - val_recall_3: 0.8280\n",
      "Epoch 38/80\n",
      "71/71 [==============================] - 0s 4ms/step - loss: 0.7848 - recall_3: 0.8300 - val_loss: 0.5297 - val_recall_3: 0.8280\n",
      "Epoch 39/80\n",
      "71/71 [==============================] - 0s 3ms/step - loss: 0.7841 - recall_3: 0.8300 - val_loss: 0.5289 - val_recall_3: 0.8280\n",
      "Epoch 40/80\n",
      "71/71 [==============================] - 0s 3ms/step - loss: 0.7835 - recall_3: 0.8300 - val_loss: 0.5282 - val_recall_3: 0.8280\n",
      "Epoch 41/80\n",
      "71/71 [==============================] - 0s 3ms/step - loss: 0.7829 - recall_3: 0.8309 - val_loss: 0.5275 - val_recall_3: 0.8315\n",
      "Epoch 42/80\n",
      "71/71 [==============================] - 0s 3ms/step - loss: 0.7823 - recall_3: 0.8309 - val_loss: 0.5270 - val_recall_3: 0.8315\n",
      "Epoch 43/80\n",
      "71/71 [==============================] - 0s 3ms/step - loss: 0.7818 - recall_3: 0.8317 - val_loss: 0.5265 - val_recall_3: 0.8315\n",
      "Epoch 44/80\n",
      "71/71 [==============================] - 0s 3ms/step - loss: 0.7813 - recall_3: 0.8325 - val_loss: 0.5261 - val_recall_3: 0.8315\n",
      "Epoch 45/80\n",
      "71/71 [==============================] - 0s 3ms/step - loss: 0.7808 - recall_3: 0.8333 - val_loss: 0.5257 - val_recall_3: 0.8315\n",
      "Epoch 46/80\n",
      "71/71 [==============================] - 0s 3ms/step - loss: 0.7803 - recall_3: 0.8350 - val_loss: 0.5251 - val_recall_3: 0.8315\n",
      "Epoch 47/80\n",
      "71/71 [==============================] - 0s 3ms/step - loss: 0.7798 - recall_3: 0.8366 - val_loss: 0.5246 - val_recall_3: 0.8280\n",
      "Epoch 48/80\n",
      "71/71 [==============================] - 0s 4ms/step - loss: 0.7793 - recall_3: 0.8383 - val_loss: 0.5243 - val_recall_3: 0.8280\n",
      "Epoch 49/80\n",
      "71/71 [==============================] - 0s 3ms/step - loss: 0.7789 - recall_3: 0.8391 - val_loss: 0.5239 - val_recall_3: 0.8280\n",
      "Epoch 50/80\n",
      "71/71 [==============================] - 0s 3ms/step - loss: 0.7785 - recall_3: 0.8399 - val_loss: 0.5236 - val_recall_3: 0.8280\n",
      "Epoch 51/80\n",
      "71/71 [==============================] - 0s 3ms/step - loss: 0.7781 - recall_3: 0.8399 - val_loss: 0.5233 - val_recall_3: 0.8280\n",
      "Epoch 52/80\n",
      "71/71 [==============================] - 0s 3ms/step - loss: 0.7778 - recall_3: 0.8391 - val_loss: 0.5231 - val_recall_3: 0.8280\n",
      "Epoch 53/80\n",
      "71/71 [==============================] - 0s 4ms/step - loss: 0.7774 - recall_3: 0.8399 - val_loss: 0.5228 - val_recall_3: 0.8280\n",
      "Epoch 54/80\n",
      "71/71 [==============================] - 0s 3ms/step - loss: 0.7770 - recall_3: 0.8399 - val_loss: 0.5225 - val_recall_3: 0.8280\n",
      "Epoch 55/80\n",
      "71/71 [==============================] - 0s 3ms/step - loss: 0.7766 - recall_3: 0.8391 - val_loss: 0.5222 - val_recall_3: 0.8280\n",
      "Epoch 56/80\n",
      "71/71 [==============================] - 0s 3ms/step - loss: 0.7763 - recall_3: 0.8391 - val_loss: 0.5218 - val_recall_3: 0.8244\n",
      "Epoch 57/80\n",
      "71/71 [==============================] - 0s 3ms/step - loss: 0.7760 - recall_3: 0.8399 - val_loss: 0.5217 - val_recall_3: 0.8244\n",
      "Epoch 58/80\n",
      "71/71 [==============================] - 0s 3ms/step - loss: 0.7756 - recall_3: 0.8407 - val_loss: 0.5215 - val_recall_3: 0.8244\n",
      "Epoch 59/80\n",
      "71/71 [==============================] - 0s 3ms/step - loss: 0.7753 - recall_3: 0.8407 - val_loss: 0.5213 - val_recall_3: 0.8244\n",
      "Epoch 60/80\n",
      "71/71 [==============================] - 0s 4ms/step - loss: 0.7750 - recall_3: 0.8407 - val_loss: 0.5210 - val_recall_3: 0.8208\n",
      "Epoch 61/80\n",
      "71/71 [==============================] - 0s 3ms/step - loss: 0.7746 - recall_3: 0.8399 - val_loss: 0.5209 - val_recall_3: 0.8244\n",
      "Epoch 62/80\n",
      "71/71 [==============================] - 0s 3ms/step - loss: 0.7743 - recall_3: 0.8407 - val_loss: 0.5206 - val_recall_3: 0.8244\n",
      "Epoch 63/80\n",
      "71/71 [==============================] - 0s 3ms/step - loss: 0.7740 - recall_3: 0.8407 - val_loss: 0.5203 - val_recall_3: 0.8208\n",
      "Epoch 64/80\n",
      "71/71 [==============================] - 0s 3ms/step - loss: 0.7736 - recall_3: 0.8407 - val_loss: 0.5202 - val_recall_3: 0.8172\n",
      "Epoch 65/80\n",
      "71/71 [==============================] - 0s 3ms/step - loss: 0.7733 - recall_3: 0.8415 - val_loss: 0.5199 - val_recall_3: 0.8172\n",
      "Epoch 66/80\n",
      "71/71 [==============================] - 0s 3ms/step - loss: 0.7730 - recall_3: 0.8424 - val_loss: 0.5197 - val_recall_3: 0.8172\n",
      "Epoch 67/80\n",
      "71/71 [==============================] - 0s 3ms/step - loss: 0.7726 - recall_3: 0.8424 - val_loss: 0.5197 - val_recall_3: 0.8172\n",
      "Epoch 68/80\n",
      "71/71 [==============================] - 0s 3ms/step - loss: 0.7723 - recall_3: 0.8415 - val_loss: 0.5195 - val_recall_3: 0.8172\n",
      "Epoch 69/80\n",
      "71/71 [==============================] - 0s 4ms/step - loss: 0.7720 - recall_3: 0.8415 - val_loss: 0.5194 - val_recall_3: 0.8172\n",
      "Epoch 70/80\n",
      "71/71 [==============================] - 0s 3ms/step - loss: 0.7717 - recall_3: 0.8415 - val_loss: 0.5194 - val_recall_3: 0.8172\n",
      "Epoch 71/80\n",
      "71/71 [==============================] - 0s 3ms/step - loss: 0.7714 - recall_3: 0.8415 - val_loss: 0.5192 - val_recall_3: 0.8172\n",
      "Epoch 72/80\n",
      "71/71 [==============================] - 0s 4ms/step - loss: 0.7712 - recall_3: 0.8415 - val_loss: 0.5191 - val_recall_3: 0.8208\n",
      "Epoch 73/80\n",
      "71/71 [==============================] - 0s 4ms/step - loss: 0.7709 - recall_3: 0.8415 - val_loss: 0.5190 - val_recall_3: 0.8208\n",
      "Epoch 74/80\n",
      "71/71 [==============================] - 0s 3ms/step - loss: 0.7706 - recall_3: 0.8415 - val_loss: 0.5190 - val_recall_3: 0.8208\n",
      "Epoch 75/80\n",
      "71/71 [==============================] - 0s 3ms/step - loss: 0.7704 - recall_3: 0.8407 - val_loss: 0.5188 - val_recall_3: 0.8208\n",
      "Epoch 76/80\n",
      "71/71 [==============================] - 0s 4ms/step - loss: 0.7701 - recall_3: 0.8407 - val_loss: 0.5186 - val_recall_3: 0.8208\n",
      "Epoch 77/80\n",
      "71/71 [==============================] - 0s 3ms/step - loss: 0.7699 - recall_3: 0.8399 - val_loss: 0.5186 - val_recall_3: 0.8208\n",
      "Epoch 78/80\n",
      "71/71 [==============================] - 0s 3ms/step - loss: 0.7696 - recall_3: 0.8407 - val_loss: 0.5185 - val_recall_3: 0.8208\n",
      "Epoch 79/80\n",
      "71/71 [==============================] - 0s 3ms/step - loss: 0.7694 - recall_3: 0.8399 - val_loss: 0.5184 - val_recall_3: 0.8208\n",
      "Epoch 80/80\n",
      "71/71 [==============================] - 0s 3ms/step - loss: 0.7691 - recall_3: 0.8399 - val_loss: 0.5184 - val_recall_3: 0.8208\n"
     ]
    }
   ],
   "source": [
    "model_2_new.compile(loss=\"binary_crossentropy\",optimizer=keras.optimizers.SGD(learning_rate=0.005),\n",
    "                    metrics=keras.metrics.Recall())\n",
    "history_2 = model_2_new.fit(training_batches, epochs=80, validation_data=validation_batches,\n",
    "                            callbacks=early_stopping,class_weight={0: 1., 1: 3})"
   ]
  },
  {
   "cell_type": "code",
   "execution_count": 678,
   "metadata": {},
   "outputs": [
    {
     "data": {
      "image/png": "[encoded data removed]",
      "text/plain": [
       "<Figure size 432x288 with 1 Axes>"
      ]
     },
     "metadata": {
      "needs_background": "light"
     },
     "output_type": "display_data"
    }
   ],
   "source": [
    "# Plot Recall score dan loss value pada data train maupun data validation\n",
    "pd.DataFrame(history_2.history).plot()\n",
    "plt.grid(True)\n",
    "plt.gca().set_ylim(0, 1)\n",
    "plt.show()"
   ]
  },
  {
   "cell_type": "markdown",
   "metadata": {},
   "source": [
    "Terlihat recall score kedua data sedikit lebih besar dan kedua recall score memiliki selisih yang semakin kecil dapat dikatakan *good-fit*."
   ]
  },
  {
   "cell_type": "markdown",
   "metadata": {},
   "source": [
    "# 8 - Model Evaluation"
   ]
  },
  {
   "cell_type": "markdown",
   "metadata": {},
   "source": [
    "Pada bagian ini kita coba mengevaluasi kedua model yang sudah kita buat dan modifikasi sebelumnya pada data test dan melihat bagaimana tingkat error prediksi yang dihasilkan."
   ]
  },
  {
   "cell_type": "markdown",
   "metadata": {},
   "source": [
    "Pertama kita coba AUC score dari kedua model pada data test."
   ]
  },
  {
   "cell_type": "code",
   "execution_count": 679,
   "metadata": {},
   "outputs": [
    {
     "name": "stdout",
     "output_type": "stream",
     "text": [
      "22/22 [==============================] - 0s 2ms/step - loss: 0.5416 - recall: 0.8027\n",
      "22/22 [==============================] - 0s 2ms/step - loss: 0.5464 - recall_1: 0.8189\n",
      "22/22 [==============================] - 0s 2ms/step - loss: 0.5371 - recall_2: 0.7838\n",
      "22/22 [==============================] - 0s 2ms/step - loss: 0.5495 - recall_3: 0.8081\n",
      "Loss for model sequential: 0.5415502190589905 with recall score: 0.8027027249336243\n",
      "Loss for model sequential new: 0.546398937702179 with recall score: 0.8189189434051514\n",
      "Loss for model functional: 0.5370654463768005 with recall score: 0.7837837934494019\n",
      "Loss for model functional new: 0.5495440363883972 with recall score: 0.8081080913543701\n"
     ]
    }
   ],
   "source": [
    "mse_test_1 = model_1.evaluate(testing_batches)\n",
    "mse_test_1_new = model_1_new.evaluate(testing_batches)\n",
    "mse_test_2 = model_2.evaluate(testing_batches)\n",
    "mse_test_2_new = model_2_new.evaluate(testing_batches)\n",
    "print('Loss for model sequential:', mse_test_1[0],'with recall score:',mse_test_1[1])\n",
    "print('Loss for model sequential new:', mse_test_1_new[0],'with recall score:',mse_test_1_new[1])\n",
    "print('Loss for model functional:', mse_test_2[0],'with recall score:',mse_test_2[1])\n",
    "print('Loss for model functional new:', mse_test_2_new[0],'with recall score:',mse_test_2_new[1])"
   ]
  },
  {
   "cell_type": "markdown",
   "metadata": {},
   "source": [
    "Keempat model menghasilkan recall score sekitar 0.8 dan tidaklah jauh berbeda. Namun pada eksperimen ini didapatkan model yang sudah dilakukan modifikasi menghasilkan score recall yang lebih besar dibandingkan sebelumnya. Dari keempat model tersebut model sequential yang telah dimodifikasi menghasilkan recall score terbesar, meskipun selisihnya tidak jauh berbeda pada score recall model lainnya."
   ]
  },
  {
   "cell_type": "markdown",
   "metadata": {},
   "source": [
    "Kita dapat mengeluarkan prediction dari keempat model tersebut dalam bentuk probability target."
   ]
  },
  {
   "cell_type": "code",
   "execution_count": 699,
   "metadata": {},
   "outputs": [
    {
     "name": "stdout",
     "output_type": "stream",
     "text": [
      "44/44 [==============================] - 0s 2ms/step\n",
      "44/44 [==============================] - 0s 2ms/step\n",
      "44/44 [==============================] - 0s 1ms/step\n",
      "44/44 [==============================] - 0s 2ms/step\n"
     ]
    }
   ],
   "source": [
    "# Menghasilkan predict proba pada masing-masing model\n",
    "y_proba_1 = model_1.predict(X_test_ready)\n",
    "y_proba_1_new = model_1_new.predict(X_test_ready)\n",
    "y_proba_2 = model_2.predict(X_test_ready)\n",
    "y_proba_2_new = model_2_new.predict(X_test_ready)"
   ]
  },
  {
   "cell_type": "code",
   "execution_count": 700,
   "metadata": {},
   "outputs": [],
   "source": [
    "# Melakukan round, dimana probability di atas 0.5 akan menjadi 1 atau dikalisikasi ke kelas 1 dan sebaliknya\n",
    "y_pred_1 = y_proba_1.round()\n",
    "y_pred_1_new = y_proba_1_new.round()\n",
    "y_pred_2 = y_proba_2.round()\n",
    "y_pred_2_new = y_proba_2_new.round()"
   ]
  },
  {
   "cell_type": "markdown",
   "metadata": {},
   "source": [
    "Berikutnya kita akan tampilkan score lainnya seperti precision f1 score dan accuracy dan menampilkan confussion matrix yang berisikan jumlah true positive, false positive, true negative, dan false negative."
   ]
  },
  {
   "cell_type": "code",
   "execution_count": 701,
   "metadata": {},
   "outputs": [
    {
     "name": "stdout",
     "output_type": "stream",
     "text": [
      "              precision    recall  f1-score   support\n",
      "\n",
      "           0       0.91      0.70      0.79      1037\n",
      "           1       0.49      0.80      0.61       370\n",
      "\n",
      "    accuracy                           0.73      1407\n",
      "   macro avg       0.70      0.75      0.70      1407\n",
      "weighted avg       0.80      0.73      0.74      1407\n",
      "\n"
     ]
    }
   ],
   "source": [
    "print(classification_report(y_test,y_pred_1)) #Menampilkan classification report model sequential"
   ]
  },
  {
   "cell_type": "markdown",
   "metadata": {},
   "source": [
    "Berdasarkan penjabaran di atas terlihat score accuracy yang tidak besar yaitu 0.73 dan precision kelas 1 yaitu 0.48 dengan kenaikan recall score 0.8. Hal tersebut wajar dikarenakan kita melatih model untuk fokus pada recall score kelas 1. Namun accuracy 0.73 masih terbilang cukup baik."
   ]
  },
  {
   "cell_type": "code",
   "execution_count": 683,
   "metadata": {},
   "outputs": [
    {
     "data": {
      "text/plain": [
       "Text(0.5, 1.0, 'Sequential model 1')"
      ]
     },
     "execution_count": 683,
     "metadata": {},
     "output_type": "execute_result"
    },
    {
     "data": {
      "image/png": "[encoded data removed]",
      "text/plain": [
       "<Figure size 432x288 with 2 Axes>"
      ]
     },
     "metadata": {
      "needs_background": "light"
     },
     "output_type": "display_data"
    }
   ],
   "source": [
    "#Confussion matrix model sequential data test\n",
    "cm_1 = confusion_matrix(y_test,y_pred_1)\n",
    "ConfusionMatrixDisplay(cm_1).plot()\n",
    "plt.title('Sequential model 1')"
   ]
  },
  {
   "cell_type": "markdown",
   "metadata": {},
   "source": [
    "Kita fokuskan pada jumlah false negative yaitu sebanyak 73. Artinya terdapat 73 customer yang cenderung berhenti berlangganan namn terprediksi masih loyal dan mau berlangganan. Akan tetapi jumlah false positive cukup besar yaitu 313. "
   ]
  },
  {
   "cell_type": "code",
   "execution_count": 702,
   "metadata": {},
   "outputs": [
    {
     "name": "stdout",
     "output_type": "stream",
     "text": [
      "              precision    recall  f1-score   support\n",
      "\n",
      "           0       0.91      0.68      0.78      1037\n",
      "           1       0.48      0.82      0.61       370\n",
      "\n",
      "    accuracy                           0.72      1407\n",
      "   macro avg       0.70      0.75      0.69      1407\n",
      "weighted avg       0.80      0.72      0.74      1407\n",
      "\n"
     ]
    }
   ],
   "source": [
    "print(classification_report(y_test,y_pred_1_new)) #Menampilkan classification report model sequential new"
   ]
  },
  {
   "cell_type": "markdown",
   "metadata": {},
   "source": [
    "Pada model sequential yang kita lakukan modifikasi memiliki score accuracy yang sedikit turun yaitu 0.72 dan precision kelas 1 yaitu 0.48. Akan tetapi disini kita dapatkan score recall yang sedikit lebih tinggi pada target kelas 1 yaitu 0.82(setelah dibulatkan dua desimal). Untuk lebih jelasnya pada jumlah false negative, false positive dapat dilihat pada confussion matrix berikut."
   ]
  },
  {
   "cell_type": "code",
   "execution_count": 685,
   "metadata": {},
   "outputs": [
    {
     "data": {
      "text/plain": [
       "Text(0.5, 1.0, 'Sequential model 1 new')"
      ]
     },
     "execution_count": 685,
     "metadata": {},
     "output_type": "execute_result"
    },
    {
     "data": {
      "image/png": "[encoded data removed]",
      "text/plain": [
       "<Figure size 432x288 with 2 Axes>"
      ]
     },
     "metadata": {
      "needs_background": "light"
     },
     "output_type": "display_data"
    }
   ],
   "source": [
    "#Confussion matrix for model sequential new\n",
    "cm_1_new = confusion_matrix(y_test,y_pred_1_new)\n",
    "ConfusionMatrixDisplay(cm_1_new).plot()\n",
    "plt.title('Sequential model 1 new')"
   ]
  },
  {
   "cell_type": "markdown",
   "metadata": {},
   "source": [
    "Dengan modifikasi model sequential kita dapatkan jumlah false positive turun menjadi 67 sebagaimana pada kenaikan recall score kelas 1. Namun harga yang dibayar untuk ini adalah kenaikan jumlah false positive kelas 1 dan penurunan true positive kelas 0."
   ]
  },
  {
   "cell_type": "code",
   "execution_count": 703,
   "metadata": {},
   "outputs": [
    {
     "name": "stdout",
     "output_type": "stream",
     "text": [
      "              precision    recall  f1-score   support\n",
      "\n",
      "           0       0.90      0.71      0.79      1037\n",
      "           1       0.49      0.78      0.60       370\n",
      "\n",
      "    accuracy                           0.73      1407\n",
      "   macro avg       0.69      0.74      0.70      1407\n",
      "weighted avg       0.79      0.73      0.74      1407\n",
      "\n"
     ]
    }
   ],
   "source": [
    "print(classification_report(y_test,y_pred_2)) #Menampilkan classification report model functional"
   ]
  },
  {
   "cell_type": "markdown",
   "metadata": {},
   "source": [
    "Pada model functional disini secara keseluruhan score sedikit dibawah dibanding model sequential (tanpa modifikasi). Untuk lebih jelasnya kita coba perhatikan confussion matrix untuk model functional berikut."
   ]
  },
  {
   "cell_type": "code",
   "execution_count": 704,
   "metadata": {},
   "outputs": [
    {
     "data": {
      "text/plain": [
       "Text(0.5, 1.0, 'Functional model')"
      ]
     },
     "execution_count": 704,
     "metadata": {},
     "output_type": "execute_result"
    },
    {
     "data": {
      "image/png": "[encoded data removed]",
      "text/plain": [
       "<Figure size 432x288 with 2 Axes>"
      ]
     },
     "metadata": {
      "needs_background": "light"
     },
     "output_type": "display_data"
    }
   ],
   "source": [
    "#Confussion matrix for model functional\n",
    "cm_2 = confusion_matrix(y_test,y_pred_2)\n",
    "ConfusionMatrixDisplay(cm_2).plot()\n",
    "plt.title('Functional model')"
   ]
  },
  {
   "cell_type": "markdown",
   "metadata": {},
   "source": [
    "Terlihat jumlah false negative sebesar 80 yang mana paling besar diantara keempat model. Selain itu jumlah true negative sebesar 732 yang cukup besar dan false negative kecil dibanding laiinya yaitu 305."
   ]
  },
  {
   "cell_type": "code",
   "execution_count": 688,
   "metadata": {},
   "outputs": [
    {
     "name": "stdout",
     "output_type": "stream",
     "text": [
      "              precision    recall  f1-score   support\n",
      "\n",
      "           0       0.91      0.67      0.77      1037\n",
      "           1       0.46      0.81      0.59       370\n",
      "\n",
      "    accuracy                           0.70      1407\n",
      "   macro avg       0.68      0.74      0.68      1407\n",
      "weighted avg       0.79      0.70      0.72      1407\n",
      "\n"
     ]
    }
   ],
   "source": [
    "print(classification_report(y_test,y_pred_2_new)) #Menampilkan classification report model functional new"
   ]
  },
  {
   "cell_type": "markdown",
   "metadata": {},
   "source": [
    "Pada mode functional yang telah dilakukan modifikasi disini mendapatkan recall score yang cukup baik yaitu 0.81. Score precision kelas 1 yang tidak begitu kecil dibanding laiinya yaitu 0.46 serta accuracy score 0.70. Secara keseluruhan model ini masih memiliki recall score yang cukup baik."
   ]
  },
  {
   "cell_type": "code",
   "execution_count": 689,
   "metadata": {},
   "outputs": [
    {
     "data": {
      "text/plain": [
       "Text(0.5, 1.0, 'Functional model new')"
      ]
     },
     "execution_count": 689,
     "metadata": {},
     "output_type": "execute_result"
    },
    {
     "data": {
      "image/png": "[encoded data removed]",
      "text/plain": [
       "<Figure size 432x288 with 2 Axes>"
      ]
     },
     "metadata": {
      "needs_background": "light"
     },
     "output_type": "display_data"
    }
   ],
   "source": [
    "#Confussion matrix for model functional new\n",
    "cm_2_new = confusion_matrix(y_test,y_pred_2_new)\n",
    "ConfusionMatrixDisplay(cm_2_new).plot()\n",
    "plt.title('Functional model new')"
   ]
  },
  {
   "cell_type": "markdown",
   "metadata": {},
   "source": [
    "Pada model ini kita mendapatkan jumlah false negative yaitu 71 yang tidak jauh berbeda pada false negative model sequential (dengan modifikasi) yaitu 67. Selain itu jumlah true positive pada model ini adalah 690 yang masih sedikit dibawah true positive model sequential (dengan modifikasi) yaitu 709. "
   ]
  },
  {
   "cell_type": "markdown",
   "metadata": {},
   "source": [
    "Selanjutnya kita dapat menampilkan ROC curve beserta area under ROC curve sebagai berikut."
   ]
  },
  {
   "cell_type": "code",
   "execution_count": 705,
   "metadata": {},
   "outputs": [
    {
     "data": {
      "image/png": "[encoded data removed]",
      "text/plain": [
       "<Figure size 864x864 with 4 Axes>"
      ]
     },
     "metadata": {
      "needs_background": "light"
     },
     "output_type": "display_data"
    },
    {
     "name": "stdout",
     "output_type": "stream",
     "text": [
      "Sequential model roc auc: 0.8176131773045948\n",
      "Sequential new model roc auc: 0.8159972894784852\n",
      "Functional model roc auc: 0.8111392009174072\n",
      "Functional new model roc auc: 0.8108629362245563\n"
     ]
    }
   ],
   "source": [
    "# ROC curve pada model logistic regression tanpa tuning\n",
    "fpr1, tpr1, thresholds1 = roc_curve(y_test, y_proba_1)\n",
    "fpr1_new, tpr1_new, thresholds1_new = roc_curve(y_test, y_proba_1_new)\n",
    "fpr2, tpr2, thresholds2 = roc_curve(y_test, y_proba_2)\n",
    "fpr2_new, tpr2_new, thresholds2_new = roc_curve(y_test, y_proba_2_new)\n",
    "\n",
    "plt.figure(figsize=(12,12))\n",
    "plt.subplot(2,2,1)\n",
    "plt.plot(fpr1,tpr1)\n",
    "plt.plot([0,1],[0,1])\n",
    "plt.xlabel('False Positive Rate')\n",
    "plt.ylabel('True Positive Rate')\n",
    "plt.title(\"ROC curve for Sequential model\")\n",
    "\n",
    "plt.subplot(2,2,2)\n",
    "plt.plot(fpr1_new,tpr1_new)\n",
    "plt.plot([0,1],[0,1])\n",
    "plt.xlabel('False Positive Rate')\n",
    "plt.ylabel('True Positive Rate')\n",
    "plt.title(\"ROC curve for Sequential new\")\n",
    "\n",
    "plt.subplot(2,2,3)\n",
    "plt.plot(fpr2,tpr2)\n",
    "plt.plot([0,1],[0,1])\n",
    "plt.xlabel('False Positive Rate')\n",
    "plt.ylabel('True Positive Rate')\n",
    "plt.title(\"ROC curve for Functional model\")\n",
    "\n",
    "plt.subplot(2,2,4)\n",
    "plt.plot(fpr2_new,tpr2_new)\n",
    "plt.plot([0,1],[0,1])\n",
    "plt.xlabel('False Positive Rate')\n",
    "plt.ylabel('True Positive Rate')\n",
    "plt.title(\"ROC curve for Fucntional new\")\n",
    "plt.show()\n",
    "\n",
    "print(\"Sequential model roc auc:\",roc_auc_score(y_test,y_proba_1))\n",
    "print(\"Sequential new model roc auc:\",roc_auc_score(y_test,y_proba_1_new))\n",
    "print(\"Functional model roc auc:\",roc_auc_score(y_test,y_proba_2))\n",
    "print(\"Functional new model roc auc:\",roc_auc_score(y_test,y_proba_2_new))"
   ]
  },
  {
   "cell_type": "markdown",
   "metadata": {},
   "source": [
    "Berdasarkan grafik serta AUC score, dapat dilihat keempat model memiliki AUC scoore yang tidak jauh berbeda yaitu sekitar 0.8-0.82. Apabila kita perhatikan AUC score pada model yang dilakukan modifikasi (baik sequential maupun functional) nilainya lebih kecil dari AUC score model tanpa modifikasi. Hal tersebut wajar, dikarenakan kita melakukan modifikasi dengan orientasi meningkatkan score recall sehingga score precision (false positive semakin besar) semakin mengecil pada model modifikasi. Yang mana menyebabkan secara keseluruhan score AUC menjadi lebih kecil dibanding sebelum dilakukan modifikasi."
   ]
  },
  {
   "cell_type": "markdown",
   "metadata": {},
   "source": [
    "Berdasarkan berbagai penjabaran di atas, nampaknya model sequential yang dilakukan modifikasi merupakan yang terbaik dari keempat model yang telah diterapkan. Dikarenakan jumlah false negative yang kecil, recall score yang cukup besar serta negative positive yang juga tidak terlalu besar (dibanding model sequential modifikasi)."
   ]
  },
  {
   "cell_type": "markdown",
   "metadata": {},
   "source": [
    "# 9 - Model Saving"
   ]
  },
  {
   "cell_type": "markdown",
   "metadata": {},
   "source": [
    "Pada proses ini kita akan save proses yang telah kita lakukan dari preprocessing data hingga model prediksi."
   ]
  },
  {
   "cell_type": "markdown",
   "metadata": {},
   "source": [
    "Untuk preprocessing sebelumnya telah kita jadikan pipeline dan sudah dilakukan fit, maka kita hanya tinggal save pipeline tersebut."
   ]
  },
  {
   "cell_type": "code",
   "execution_count": 691,
   "metadata": {},
   "outputs": [],
   "source": [
    "#with open('preprocess_pipeline.pkl', 'wb') as file_1:\n",
    "  #joblib.dump(final_preprocess, file_1)"
   ]
  },
  {
   "cell_type": "markdown",
   "metadata": {},
   "source": [
    "Sedangkan model yang akan disimpan adalah model sequential yang sudah dilakukan modifikasi yaitu model_1_new."
   ]
  },
  {
   "cell_type": "code",
   "execution_count": 692,
   "metadata": {},
   "outputs": [],
   "source": [
    "# freeze model\n",
    "#model_1_new.trainable = False\n",
    "\n",
    "#Save model\n",
    "#model_1_new.save(\"churn_model\")"
   ]
  },
  {
   "cell_type": "markdown",
   "metadata": {},
   "source": [
    "# 10 - Model Inference"
   ]
  },
  {
   "cell_type": "markdown",
   "metadata": {},
   "source": [
    "Model yang sudah dilatih akan dicoba pada data yang bukan termasuk ke dalam train-set ataupun test-set, yakni data inference. "
   ]
  },
  {
   "cell_type": "code",
   "execution_count": 706,
   "metadata": {},
   "outputs": [],
   "source": [
    "X_inf = data_inf.drop('churn', axis = 1)\n",
    "y_inf = data_inf['churn']"
   ]
  },
  {
   "cell_type": "code",
   "execution_count": 707,
   "metadata": {},
   "outputs": [],
   "source": [
    "X_inf_ready = preprocessing.transform(X_inf)"
   ]
  },
  {
   "cell_type": "code",
   "execution_count": 708,
   "metadata": {},
   "outputs": [
    {
     "name": "stdout",
     "output_type": "stream",
     "text": [
      "1/1 [==============================] - 0s 24ms/step\n",
      "1/1 [==============================] - 0s 25ms/step\n",
      "1/1 [==============================] - 0s 24ms/step\n",
      "1/1 [==============================] - 0s 25ms/step\n"
     ]
    }
   ],
   "source": [
    "y_pred_inf_1 = np.round(model_1.predict(X_inf_ready))\n",
    "y_pred_inf_1_new = np.round(model_1_new.predict(X_inf_ready))\n",
    "y_pred_inf_2 = np.round(model_2.predict(X_inf_ready))\n",
    "y_pred_inf_2_new = np.round(model_2_new.predict(X_inf_ready))"
   ]
  },
  {
   "cell_type": "code",
   "execution_count": 709,
   "metadata": {},
   "outputs": [
    {
     "data": {
      "text/html": [
       "<div>\n",
       "<style scoped>\n",
       "    .dataframe tbody tr th:only-of-type {\n",
       "        vertical-align: middle;\n",
       "    }\n",
       "\n",
       "    .dataframe tbody tr th {\n",
       "        vertical-align: top;\n",
       "    }\n",
       "\n",
       "    .dataframe thead th {\n",
       "        text-align: right;\n",
       "    }\n",
       "</style>\n",
       "<table border=\"1\" class=\"dataframe\">\n",
       "  <thead>\n",
       "    <tr style=\"text-align: right;\">\n",
       "      <th></th>\n",
       "      <th>churn</th>\n",
       "      <th>predict_seq</th>\n",
       "      <th>predict_seq_new</th>\n",
       "      <th>predict_func</th>\n",
       "      <th>predict_func_new</th>\n",
       "    </tr>\n",
       "  </thead>\n",
       "  <tbody>\n",
       "    <tr>\n",
       "      <th>0</th>\n",
       "      <td>0</td>\n",
       "      <td>0.0</td>\n",
       "      <td>0.0</td>\n",
       "      <td>0.0</td>\n",
       "      <td>0.0</td>\n",
       "    </tr>\n",
       "    <tr>\n",
       "      <th>1</th>\n",
       "      <td>0</td>\n",
       "      <td>1.0</td>\n",
       "      <td>1.0</td>\n",
       "      <td>1.0</td>\n",
       "      <td>1.0</td>\n",
       "    </tr>\n",
       "    <tr>\n",
       "      <th>2</th>\n",
       "      <td>0</td>\n",
       "      <td>1.0</td>\n",
       "      <td>1.0</td>\n",
       "      <td>1.0</td>\n",
       "      <td>1.0</td>\n",
       "    </tr>\n",
       "    <tr>\n",
       "      <th>3</th>\n",
       "      <td>0</td>\n",
       "      <td>1.0</td>\n",
       "      <td>1.0</td>\n",
       "      <td>1.0</td>\n",
       "      <td>1.0</td>\n",
       "    </tr>\n",
       "    <tr>\n",
       "      <th>4</th>\n",
       "      <td>1</td>\n",
       "      <td>1.0</td>\n",
       "      <td>1.0</td>\n",
       "      <td>1.0</td>\n",
       "      <td>1.0</td>\n",
       "    </tr>\n",
       "    <tr>\n",
       "      <th>5</th>\n",
       "      <td>1</td>\n",
       "      <td>1.0</td>\n",
       "      <td>1.0</td>\n",
       "      <td>1.0</td>\n",
       "      <td>1.0</td>\n",
       "    </tr>\n",
       "    <tr>\n",
       "      <th>6</th>\n",
       "      <td>0</td>\n",
       "      <td>0.0</td>\n",
       "      <td>1.0</td>\n",
       "      <td>0.0</td>\n",
       "      <td>0.0</td>\n",
       "    </tr>\n",
       "    <tr>\n",
       "      <th>7</th>\n",
       "      <td>0</td>\n",
       "      <td>0.0</td>\n",
       "      <td>0.0</td>\n",
       "      <td>0.0</td>\n",
       "      <td>0.0</td>\n",
       "    </tr>\n",
       "    <tr>\n",
       "      <th>8</th>\n",
       "      <td>0</td>\n",
       "      <td>0.0</td>\n",
       "      <td>1.0</td>\n",
       "      <td>0.0</td>\n",
       "      <td>0.0</td>\n",
       "    </tr>\n",
       "    <tr>\n",
       "      <th>9</th>\n",
       "      <td>0</td>\n",
       "      <td>1.0</td>\n",
       "      <td>1.0</td>\n",
       "      <td>0.0</td>\n",
       "      <td>0.0</td>\n",
       "    </tr>\n",
       "  </tbody>\n",
       "</table>\n",
       "</div>"
      ],
      "text/plain": [
       "   churn  predict_seq  predict_seq_new  predict_func  predict_func_new\n",
       "0      0          0.0              0.0           0.0               0.0\n",
       "1      0          1.0              1.0           1.0               1.0\n",
       "2      0          1.0              1.0           1.0               1.0\n",
       "3      0          1.0              1.0           1.0               1.0\n",
       "4      1          1.0              1.0           1.0               1.0\n",
       "5      1          1.0              1.0           1.0               1.0\n",
       "6      0          0.0              1.0           0.0               0.0\n",
       "7      0          0.0              0.0           0.0               0.0\n",
       "8      0          0.0              1.0           0.0               0.0\n",
       "9      0          1.0              1.0           0.0               0.0"
      ]
     },
     "execution_count": 709,
     "metadata": {},
     "output_type": "execute_result"
    }
   ],
   "source": [
    "inf_prediction = pd.DataFrame({'churn':y_inf,'predict_seq':y_pred_inf_1[:,0],'predict_seq_new':y_pred_inf_1_new[:,0],\n",
    "                                'predict_func':y_pred_inf_2[:,0],'predict_func_new':y_pred_inf_2_new[:,0]})\n",
    "inf_prediction"
   ]
  },
  {
   "cell_type": "markdown",
   "metadata": {},
   "source": [
    "Dapat dilihat keempat model dapat memprediksi dengan lancar dimana tidak terdapat value prediksi yang tidak sesuai seperti negative value, decimal, ataupun positive integer yang lebih besar dari 1. Apabila kita perhatikan banyak value 0 actual churn yang terprediksi menjadi 1 pada keempat model tersebut, hal ini dikarenakan kita train keempat model tersebut mengacu pada recall, sehingga model lebih cenderung memprediksi ke arah kelas 1."
   ]
  },
  {
   "cell_type": "markdown",
   "metadata": {},
   "source": [
    "# 11 - Kesimpulan"
   ]
  },
  {
   "cell_type": "markdown",
   "metadata": {},
   "source": [
    "Dari dataset disini kita akan melakukan prediksi terhadap customer terkait kecenderungan customer akan berhenti berlangganan atau tidak. Untuk melakukan prediksi ini diterapkan model ANN sequential API dan functional API dimana kita membuat dua model yang berbeda baik pada sequential dan functional. Prioritas pada prediksi ini adalah meminimalisir jumlah customer yang terprediksi masih loyal sedangkan customer tersebut mempunyai niat untuk berhenti berlangganan, atau dengan kata lain kita ingin membuat jumlah false negative sekecil mungkin (dimana positive disini menandakan customer berhenti berlangganan churn = 'Yes'). Sehingga orientasi saat proses training model mengacu pada recall score, selain itu kita juga mengatur class weight dominan ke kelas 1 (churn = 'Yes') dikarenakan dataset tergolong imbalanced dimana proporsi jumlah customer yang masih loyal lebih banyak dibanding customer yang telah berhenti berlangganan. Konsekuens dari hal tersebut adalah penurunan terhadap precision ataupun jumlah false positive yang meningkat. Hal tersebut menurut saya pribadi tidak menjadi suatu masalah. Anggaplah customer yang terprediksi berhenti berlangganan akan diberlakukan berbagai promosi seperti discount ataupun berbagai benefit tambahan lainnya atau memperbaiki kualitas pelayanan. Customer dengan false positive, atau customer yang terprediksi berhenti berlangganan sedangkan sebenarnya tidak merupakan customer yang beruntung karena dikenakan benefit tersebut. Meskipun mungkin akan terjadi penurunan revenue karena semakin banyak customer yang diterapkan benefit tersesbut, namn secara jangka panjangnya kemungkinan besar perusahaan masih dapat mempertahankan banyak customer untuk tetap berlangganan.\n",
    "\n",
    "Setelah dilakukan berbagai eksperimen modifikasi model, kita mendapatkan hasil prediksi yang tidak begitu jauh berbeda antar keempat model (dengan mengacu pada recall score). Adapun model terbaik dari keempat model ini adalah model sequential yang telah dimodifikasi seperti menambahkan hidden layers, mengatur jumlah neuron pada tiap hidden layers, menetapkan weight initialization, batch normalitazion serta mengatur optimizer dengan learning rate tertentu. Kita dapatkan recall score model functional (yang dimodifikasi) sekitar 0.82 dengan accuracy score yang masih baik yaitu 0.72 pada data test. Jumlah false negative cukup kecil yaitu sejumlah 67 customer yang terprediksi masih loyal namun sebenarnya akan berhenti berlangganan. Selain itu sejumlah 303 prediksi tepat pada customer yang berhenti berlangganan, dan sejumlah 328 customer yang terprediksi akan berhenti berlangganan padahal tidak. Secara keseluruhan model ini cukup baik untuk perusahaan melakukan berbagai tindakan mempertahankan customer.\n",
    "\n",
    "Model ini masih dapat dikembangkan lagi, salah satunya dengan cara meningkatkan bobot class_weight kelas 1 pada saat training model ataupun melakukan berbagai variasi pengaturan jumlah layer, jumlah neuron pada tiap layers, melakukan drop out neuron dan memvariasikan concat layer."
   ]
  }
 ],
 "metadata": {
  "kernelspec": {
   "display_name": "Python 3.8.13 ('base')",
   "language": "python",
   "name": "python3"
  },
  "language_info": {
   "codemirror_mode": {
    "name": "ipython",
    "version": 3
   },
   "file_extension": ".py",
   "mimetype": "text/x-python",
   "name": "python",
   "nbconvert_exporter": "python",
   "pygments_lexer": "ipython3",
   "version": "3.8.13"
  },
  "orig_nbformat": 4,
  "vscode": {
   "interpreter": {
    "hash": "632d2d5b8a97db3f76bb862f926947aa7578c9985e2122ffe2fc4083542bd2e7"
   }
  }
 },
 "nbformat": 4,
 "nbformat_minor": 2
}
